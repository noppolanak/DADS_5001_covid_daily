{
 "cells": [
  {
   "cell_type": "code",
   "execution_count": null,
   "id": "60eedbcf",
   "metadata": {},
   "outputs": [],
   "source": [
    "import pandas as pd"
   ]
  },
  {
   "cell_type": "code",
   "execution_count": null,
   "id": "3026f9ec",
   "metadata": {},
   "outputs": [],
   "source": [
    "df = pd.read_csv(\"01_confirmed-cases-120120_120821.csv\",skipinitialspace=True,dtype=str)\n",
    "\n",
    "#skipinitialspace=True คือ สั่งให้ strip ค่าที่ read เข้ามา\n",
    "#dtype=str เนื่องจากมี warning เรื่อง data type"
   ]
  },
  {
   "cell_type": "code",
   "execution_count": null,
   "id": "61758575",
   "metadata": {},
   "outputs": [],
   "source": [
    "df.info()"
   ]
  },
  {
   "cell_type": "code",
   "execution_count": null,
   "id": "d2cea332",
   "metadata": {},
   "outputs": [],
   "source": [
    "df.columns = [i.strip() for i in df.columns]\n",
    "df.columns = [i.replace(\" \",\"_\") for i in df.columns]\n",
    "df.columns = [i.lower() for i in df.columns]\n",
    "df.columns\n",
    "\n",
    "#ปรับปรุง column name เพื่อลดปัญหาการพิมพ์เรียกชื่อ column ไม่ถูกต้อง"
   ]
  },
  {
   "cell_type": "markdown",
   "id": "ab8d3149",
   "metadata": {},
   "source": [
    "# Handle Missing or Error data"
   ]
  },
  {
   "cell_type": "markdown",
   "id": "c03c3029",
   "metadata": {},
   "source": [
    "###  > notified_date"
   ]
  },
  {
   "cell_type": "markdown",
   "id": "70cd73f9",
   "metadata": {},
   "source": [
    "- เติม null value ด้วย announce_date แทน"
   ]
  },
  {
   "cell_type": "code",
   "execution_count": null,
   "id": "4bb1671a",
   "metadata": {},
   "outputs": [],
   "source": [
    "df[\"notified_date\"].fillna(df[\"announce_date\"], inplace=True)"
   ]
  },
  {
   "cell_type": "markdown",
   "id": "36cf9193",
   "metadata": {},
   "source": [
    "###  > sex"
   ]
  },
  {
   "cell_type": "markdown",
   "id": "53f5c8f1",
   "metadata": {},
   "source": [
    "- แก้ไขจากคำว่า \"นาย\" เป็นคำว่า \"ชาย\"\n",
    "- เติม null value ด้วยคำว่า \"na\" แทน"
   ]
  },
  {
   "cell_type": "code",
   "execution_count": null,
   "id": "331470fd",
   "metadata": {},
   "outputs": [],
   "source": [
    "df[\"sex\"].unique()"
   ]
  },
  {
   "cell_type": "code",
   "execution_count": null,
   "id": "9aebb091",
   "metadata": {},
   "outputs": [],
   "source": [
    "df[\"sex\"].nunique(dropna=False)"
   ]
  },
  {
   "cell_type": "code",
   "execution_count": null,
   "id": "261eaba2",
   "metadata": {},
   "outputs": [],
   "source": [
    "re_sex = df[\"sex\"] == \"นาย\" #หา row ที่มีคำว่า \"นาย\"\n",
    "df.loc[rename_sex,\"sex\"] = \"ชาย\" #แก้ให้เป็นคำว่า \"ชาย\""
   ]
  },
  {
   "cell_type": "code",
   "execution_count": null,
   "id": "c834793f",
   "metadata": {},
   "outputs": [],
   "source": [
    "df[\"sex\"].fillna(value=\"na\", inplace=True)"
   ]
  },
  {
   "cell_type": "code",
   "execution_count": null,
   "id": "8fff87e5",
   "metadata": {},
   "outputs": [],
   "source": [
    "df.groupby(by=\"sex\").size()"
   ]
  },
  {
   "cell_type": "markdown",
   "id": "032cdb17",
   "metadata": {},
   "source": [
    "###  > age"
   ]
  },
  {
   "cell_type": "markdown",
   "id": "cb615c77",
   "metadata": {},
   "source": [
    "- เติม null value ด้วยค่า 0 แทน"
   ]
  },
  {
   "cell_type": "code",
   "execution_count": null,
   "id": "51e69c21",
   "metadata": {},
   "outputs": [],
   "source": [
    "df[\"age\"].fillna(value=0, inplace=True)"
   ]
  },
  {
   "cell_type": "markdown",
   "id": "95f43ae8",
   "metadata": {},
   "source": [
    "###  > unit"
   ]
  },
  {
   "cell_type": "markdown",
   "id": "ada39b82",
   "metadata": {},
   "source": [
    "- เปลี่ยนหน่วย \"เดือน\" และ \"วัน\" ให้เป็นหน่วย \"ปี\" เนื่องจากการสุ่ม check พบว่า\n",
    "<br>มีรายการอายุต่ำกว่า 9 เดือน ดังนั้น หน่วย\"เดือน\" และ หน่วย \"วัน\" จึงไม่ถูกต้อง"
   ]
  },
  {
   "cell_type": "code",
   "execution_count": null,
   "id": "4555c438",
   "metadata": {},
   "outputs": [],
   "source": [
    "df[\"unit\"].unique()"
   ]
  },
  {
   "cell_type": "code",
   "execution_count": null,
   "id": "e01f74b5",
   "metadata": {},
   "outputs": [],
   "source": [
    "df[\"unit\"].nunique(dropna=False)"
   ]
  },
  {
   "cell_type": "code",
   "execution_count": null,
   "id": "8d97502c",
   "metadata": {},
   "outputs": [],
   "source": [
    "re_unit = df[\"unit\"].isin([\"เดือน\",\"วัน\"])\n",
    "df.loc[re_unit,\"unit\"] = \"ปี\""
   ]
  },
  {
   "cell_type": "code",
   "execution_count": null,
   "id": "7c157a25",
   "metadata": {},
   "outputs": [],
   "source": [
    "df[\"unit\"].fillna(value=\"ปี\", inplace=True) #เติมด้วยคำว่า \"ปี\" แทน\n",
    "df.groupby(by=\"unit\").size()"
   ]
  },
  {
   "cell_type": "markdown",
   "id": "fc626711",
   "metadata": {},
   "source": [
    "###  > nationality\n",
    "- เติม null value ด้วยคำว่า \"other\" แทน"
   ]
  },
  {
   "cell_type": "code",
   "execution_count": null,
   "id": "1bc5cb4a",
   "metadata": {},
   "outputs": [],
   "source": [
    "#other = df[\"nationality\"].isin([\"other\",\"Other\"]) #จำนวนรายการ other เดิมก่อนแปลง เท่ากับ 88 รายการ\n",
    "#df.loc[other].groupby(by=\"nationality\").size()\n",
    "\n",
    "df[\"nationality\"].fillna(value=\"other\", inplace=True)"
   ]
  },
  {
   "cell_type": "markdown",
   "id": "65be7603",
   "metadata": {},
   "source": [
    "ปัญหาที่พบ\n",
    "- upper/lower case\n",
    "- เครื่องหมาย \"/\"\n",
    "- One to many คือ 1 nation แต่สะกดตัวอักษรหลายแบบ (เขียนไม่เหมือนกัน) รวมถึงกรณีเขียนภาษาไทยด้วย"
   ]
  },
  {
   "cell_type": "code",
   "execution_count": null,
   "id": "597e2ec8",
   "metadata": {
    "scrolled": false
   },
   "outputs": [],
   "source": [
    "#df[\"nationality\"].sort_values(ascending=False).unique()\n",
    "#df[\"nationality\"].nunique(dropna=False)\n",
    "\n",
    "df[\"nationality\"] = [i.lower() for i in df[\"nationality\"]] #upper/lower case"
   ]
  },
  {
   "cell_type": "code",
   "execution_count": null,
   "id": "3dc0419f",
   "metadata": {},
   "outputs": [],
   "source": [
    "special_cha = df[\"nationality\"].str.contains(\"/\",na=False)\n",
    "df.loc[special_cha,\"nationality\"] = [i.partition('/')[0].strip() for i in df.loc[special_cha,\"nationality\"]] #แก้ไขเครื่องหมาย \"/\"\n",
    "\n",
    "#df[\"nationality\"].sort_values(ascending=True).unique()"
   ]
  },
  {
   "cell_type": "code",
   "execution_count": null,
   "id": "c07af94e",
   "metadata": {},
   "outputs": [],
   "source": [
    "#ตรวจสอบความมีสาระสำคัญ (materiality) ของกลุ่ม nationality ที่สะกดภาษาไทย\n",
    "\n",
    "temp = df[\"nationality\"].sort_values(ascending=True).unique()\n",
    "thai_spell = temp[-1:-12:-1]\n",
    "class_thai = df[\"nationality\"].isin(thai_spell)\n",
    "df.loc[class_thai].groupby(by=\"nationality\").size()\n",
    "\n",
    "#จากการตรวจสอบ พบว่า จำนวนน้อยเมื่อเทียบกับจำนวนทั้งประชากร"
   ]
  },
  {
   "cell_type": "markdown",
   "id": "3e96b5ec",
   "metadata": {},
   "source": [
    "- \"ไม่มีสัญชาติ\", \"ต่างด้าว\", \"ไทยใหญ่\", \"ไทใหญ่\" เปลี่ยนเป็นคำว่า \"other\" แทน\n",
    "**** หมายเหตุ รายการที่สะกดไม่เหมือนกัน จะเลือกนำไป clean เฉพาะที่นำไปวิเคราะห์หรือแสดงผล (Visualized)"
   ]
  },
  {
   "cell_type": "code",
   "execution_count": null,
   "id": "5de07922",
   "metadata": {},
   "outputs": [],
   "source": [
    "lst_other = [\"ไม่มีสัญชาติ\", \"ต่างด้าว\", \"ไทยใหญ่\", \"ไทใหญ่\"]\n",
    "other_nation = df[\"nationality\"].isin(lst_other)\n",
    "df.loc[other_nation ] = \"other\""
   ]
  },
  {
   "attachments": {},
   "cell_type": "markdown",
   "id": "f715b5a2",
   "metadata": {},
   "source": [
    "###  > province_of_isolation"
   ]
  },
  {
   "cell_type": "code",
   "execution_count": null,
   "id": "63ecdf3d",
   "metadata": {
    "scrolled": true
   },
   "outputs": [],
   "source": [
    "df[\"province_of_isolation\"].nunique(dropna=True) #ทั้งหมด 77 จังหวัด\n",
    "#df[\"province_of_isolation\"].sort_values(ascending=False).unique() #มีค่า null"
   ]
  },
  {
   "attachments": {},
   "cell_type": "markdown",
   "id": "e13a8ea6",
   "metadata": {},
   "source": [
    "###  > province_of_onset"
   ]
  },
  {
   "cell_type": "markdown",
   "id": "775b54a8",
   "metadata": {},
   "source": [
    "ปัญหาที่พบ\n",
    "- มีชื่ออำเภอปนมา เช่น เวียงสา ธารโต สารภี เมือง เป็นต้น\n",
    "- เครื่องหมาย \"\\xa0\", \"\\t\", \"\\u200b\"\n",
    "- One to many คือ 1 จังหวัด แต่สะกดตัวอักษรหลายแบบ (เขียนไม่เหมือนกัน)\n",
    "- มีค่าอื่นๆ ที่ไม่ใช่ชื่อจังหวัด เช่น สุววรณภูมิ แล้วป่วย นอกเขต ไม่ระบุ เรือ สอง ลอง เป็นต้น"
   ]
  },
  {
   "cell_type": "code",
   "execution_count": null,
   "id": "4d9df0e1",
   "metadata": {
    "scrolled": true
   },
   "outputs": [],
   "source": [
    "df[\"province_of_onset\"].nunique(dropna=True) #มีมากกว่า 77 จังหวัด"
   ]
  },
  {
   "cell_type": "code",
   "execution_count": null,
   "id": "52257846",
   "metadata": {},
   "outputs": [],
   "source": [
    "df[\"province_of_onset\"].sort_values(ascending=False).unique()"
   ]
  },
  {
   "cell_type": "code",
   "execution_count": null,
   "id": "b67961ef",
   "metadata": {},
   "outputs": [],
   "source": [
    "#ตรวจสอบความมีสาระสำคัญ (materiality) พบว่า 20อันดับแรก ไม่พบรายการที่สะกดผิด หรือรายการชื่ออำเภอ\n",
    "\n",
    "df[\"province_of_onset\"].value_counts().head(20)\n",
    "\n",
    "#ดังนั้น รายการที่สะกดผิด หรือรายการชื่ออำเภอ จะเลือกนำไป clean เฉพาะที่นำไปวิเคราะห์หรือแสดงผล (Visualized)"
   ]
  },
  {
   "attachments": {},
   "cell_type": "markdown",
   "id": "ebc92b9a",
   "metadata": {},
   "source": [
    "###  > district_of_onset"
   ]
  },
  {
   "cell_type": "code",
   "execution_count": null,
   "id": "3bd3b178",
   "metadata": {},
   "outputs": [],
   "source": []
  },
  {
   "cell_type": "code",
   "execution_count": null,
   "id": "90d4385e",
   "metadata": {},
   "outputs": [],
   "source": []
  },
  {
   "cell_type": "code",
   "execution_count": null,
   "id": "f84428f2",
   "metadata": {},
   "outputs": [],
   "source": []
  },
  {
   "cell_type": "code",
   "execution_count": null,
   "id": "c7839be5",
   "metadata": {},
   "outputs": [],
   "source": []
  },
  {
   "cell_type": "code",
   "execution_count": null,
   "id": "5aa3c8e7",
   "metadata": {},
   "outputs": [],
   "source": []
  },
  {
   "cell_type": "markdown",
   "id": "8a0e7ae2",
   "metadata": {},
   "source": [
    "# Change datatype"
   ]
  },
  {
   "cell_type": "code",
   "execution_count": null,
   "id": "a6494d89",
   "metadata": {},
   "outputs": [],
   "source": [
    "df.dtypes"
   ]
  },
  {
   "cell_type": "code",
   "execution_count": null,
   "id": "856bff5b",
   "metadata": {},
   "outputs": [],
   "source": [
    "df[\"sex\"] = df[\"sex\"].astype(\"category\")"
   ]
  },
  {
   "cell_type": "code",
   "execution_count": null,
   "id": "6a6f1e8f",
   "metadata": {},
   "outputs": [],
   "source": [
    "df[\"age\"] = df[\"age\"].astype(int)"
   ]
  },
  {
   "cell_type": "code",
   "execution_count": null,
   "id": "d8073809",
   "metadata": {},
   "outputs": [],
   "source": []
  }
 ],
 "metadata": {
  "kernelspec": {
   "display_name": "Python 3 (ipykernel)",
   "language": "python",
   "name": "python3"
  },
  "language_info": {
   "codemirror_mode": {
    "name": "ipython",
    "version": 3
   },
   "file_extension": ".py",
   "mimetype": "text/x-python",
   "name": "python",
   "nbconvert_exporter": "python",
   "pygments_lexer": "ipython3",
   "version": "3.8.12"
  }
 },
 "nbformat": 4,
 "nbformat_minor": 5
}
