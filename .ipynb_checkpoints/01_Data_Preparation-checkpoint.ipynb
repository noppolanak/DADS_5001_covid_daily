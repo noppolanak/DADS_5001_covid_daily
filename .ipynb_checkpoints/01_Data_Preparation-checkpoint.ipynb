{
 "cells": [
  {
   "cell_type": "code",
   "execution_count": 1,
   "id": "679bbf13",
   "metadata": {},
   "outputs": [],
   "source": [
    "import pandas as pd"
   ]
  },
  {
   "cell_type": "code",
   "execution_count": 3,
   "id": "a3a4b421",
   "metadata": {},
   "outputs": [],
   "source": [
    "url = \"https://github.com/noppolanak/DADS_5001_covid_daily/blob/main/1_confirmed-cases-120120_110821.xlsx\""
   ]
  },
  {
   "cell_type": "code",
   "execution_count": null,
   "id": "2f8d6cdf",
   "metadata": {},
   "outputs": [],
   "source": []
  }
 ],
 "metadata": {
  "kernelspec": {
   "display_name": "Python 3 (ipykernel)",
   "language": "python",
   "name": "python3"
  },
  "language_info": {
   "codemirror_mode": {
    "name": "ipython",
    "version": 3
   },
   "file_extension": ".py",
   "mimetype": "text/x-python",
   "name": "python",
   "nbconvert_exporter": "python",
   "pygments_lexer": "ipython3",
   "version": "3.8.12"
  }
 },
 "nbformat": 4,
 "nbformat_minor": 5
}
