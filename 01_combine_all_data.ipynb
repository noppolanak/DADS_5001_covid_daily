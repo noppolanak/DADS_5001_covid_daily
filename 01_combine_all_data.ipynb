{
 "cells": [
  {
   "cell_type": "code",
   "execution_count": 1,
   "id": "60eedbcf",
   "metadata": {},
   "outputs": [],
   "source": [
    "import pandas as pd"
   ]
  },
  {
   "cell_type": "code",
   "execution_count": 2,
   "id": "3026f9ec",
   "metadata": {},
   "outputs": [],
   "source": [
    "df_01 = pd.read_csv(\"01_confirmed-cases-120120_120821.csv\",skipinitialspace=True,dtype=str)\n",
    "df_02 = pd.read_csv(\"02_confirmed-cases-since-120821-251021.csv\",skipinitialspace=True,dtype=str)\n",
    "df_03 = pd.read_csv(\"03_confirmed-cases-since-261021-270222.csv\",skipinitialspace=True,dtype=str)\n",
    "df_04 = pd.read_csv(\"04_confirmed-cases-since-280222-180322.csv\",skipinitialspace=True,dtype=str)\n",
    "\n",
    "#skipinitialspace=True คือ สั่งให้ strip ค่าที่ read เข้ามา\n",
    "#dtype=str เนื่องจากมี warning เรื่อง data type"
   ]
  },
  {
   "cell_type": "code",
   "execution_count": 3,
   "id": "61758575",
   "metadata": {},
   "outputs": [
    {
     "data": {
      "text/plain": [
       "(3325951, 12)"
      ]
     },
     "execution_count": 3,
     "metadata": {},
     "output_type": "execute_result"
    }
   ],
   "source": [
    "df = pd.concat(objs=[df_01,df_02,df_03,df_04], ignore_index=True)\n",
    "df.shape"
   ]
  },
  {
   "cell_type": "code",
   "execution_count": 4,
   "id": "d2cea332",
   "metadata": {},
   "outputs": [
    {
     "data": {
      "text/plain": [
       "Index(['no.', 'announce_date', 'notified_date', 'sex', 'age', 'unit',\n",
       "       'nationality', 'province_of_isolation', 'risk', 'province_of_onset',\n",
       "       'district_of_onset', 'unnamed:_11'],\n",
       "      dtype='object')"
      ]
     },
     "execution_count": 4,
     "metadata": {},
     "output_type": "execute_result"
    }
   ],
   "source": [
    "df.columns = [i.strip() for i in df.columns]\n",
    "df.columns = [i.replace(\" \",\"_\") for i in df.columns]\n",
    "df.columns = [i.lower() for i in df.columns]\n",
    "df.columns\n",
    "\n",
    "#ปรับปรุง column name เพื่อลดปัญหาการพิมพ์เรียกชื่อ column ไม่ถูกต้อง"
   ]
  },
  {
   "cell_type": "code",
   "execution_count": 5,
   "id": "c1690689",
   "metadata": {},
   "outputs": [],
   "source": [
    "df.drop(columns=\"unnamed:_11\", inplace=True)"
   ]
  },
  {
   "cell_type": "code",
   "execution_count": 6,
   "id": "d7017a3f",
   "metadata": {},
   "outputs": [
    {
     "data": {
      "text/html": [
       "<div>\n",
       "<style scoped>\n",
       "    .dataframe tbody tr th:only-of-type {\n",
       "        vertical-align: middle;\n",
       "    }\n",
       "\n",
       "    .dataframe tbody tr th {\n",
       "        vertical-align: top;\n",
       "    }\n",
       "\n",
       "    .dataframe thead th {\n",
       "        text-align: right;\n",
       "    }\n",
       "</style>\n",
       "<table border=\"1\" class=\"dataframe\">\n",
       "  <thead>\n",
       "    <tr style=\"text-align: right;\">\n",
       "      <th></th>\n",
       "      <th>no.</th>\n",
       "      <th>announce_date</th>\n",
       "      <th>notified_date</th>\n",
       "      <th>sex</th>\n",
       "      <th>age</th>\n",
       "      <th>unit</th>\n",
       "      <th>nationality</th>\n",
       "      <th>province_of_isolation</th>\n",
       "      <th>risk</th>\n",
       "      <th>province_of_onset</th>\n",
       "      <th>district_of_onset</th>\n",
       "    </tr>\n",
       "  </thead>\n",
       "  <tbody>\n",
       "    <tr>\n",
       "      <th>0</th>\n",
       "      <td>1</td>\n",
       "      <td>12/1/2020</td>\n",
       "      <td>NaN</td>\n",
       "      <td>หญิง</td>\n",
       "      <td>61</td>\n",
       "      <td>ปี</td>\n",
       "      <td>China</td>\n",
       "      <td>กรุงเทพมหานคร</td>\n",
       "      <td>คนต่างชาติเดินทางมาจากต่างประเทศ</td>\n",
       "      <td>กรุงเทพมหานคร</td>\n",
       "      <td>NaN</td>\n",
       "    </tr>\n",
       "    <tr>\n",
       "      <th>1</th>\n",
       "      <td>2</td>\n",
       "      <td>17/1/2020</td>\n",
       "      <td>NaN</td>\n",
       "      <td>หญิง</td>\n",
       "      <td>74</td>\n",
       "      <td>ปี</td>\n",
       "      <td>China</td>\n",
       "      <td>กรุงเทพมหานคร</td>\n",
       "      <td>คนต่างชาติเดินทางมาจากต่างประเทศ</td>\n",
       "      <td>กรุงเทพมหานคร</td>\n",
       "      <td>NaN</td>\n",
       "    </tr>\n",
       "    <tr>\n",
       "      <th>2</th>\n",
       "      <td>3</td>\n",
       "      <td>22/1/2020</td>\n",
       "      <td>NaN</td>\n",
       "      <td>หญิง</td>\n",
       "      <td>73</td>\n",
       "      <td>ปี</td>\n",
       "      <td>Thailand</td>\n",
       "      <td>นครปฐม</td>\n",
       "      <td>คนต่างชาติเดินทางมาจากต่างประเทศ</td>\n",
       "      <td>นครปฐม</td>\n",
       "      <td>เมือง</td>\n",
       "    </tr>\n",
       "    <tr>\n",
       "      <th>3</th>\n",
       "      <td>4</td>\n",
       "      <td>22/1/2020</td>\n",
       "      <td>NaN</td>\n",
       "      <td>ชาย</td>\n",
       "      <td>68</td>\n",
       "      <td>ปี</td>\n",
       "      <td>China</td>\n",
       "      <td>กรุงเทพมหานคร</td>\n",
       "      <td>คนต่างชาติเดินทางมาจากต่างประเทศ</td>\n",
       "      <td>กรุงเทพมหานคร</td>\n",
       "      <td>NaN</td>\n",
       "    </tr>\n",
       "    <tr>\n",
       "      <th>4</th>\n",
       "      <td>5</td>\n",
       "      <td>24/1/2020</td>\n",
       "      <td>NaN</td>\n",
       "      <td>หญิง</td>\n",
       "      <td>66</td>\n",
       "      <td>ปี</td>\n",
       "      <td>China</td>\n",
       "      <td>นนทบุรี</td>\n",
       "      <td>คนต่างชาติเดินทางมาจากต่างประเทศ</td>\n",
       "      <td>กรุงเทพมหานคร</td>\n",
       "      <td>NaN</td>\n",
       "    </tr>\n",
       "  </tbody>\n",
       "</table>\n",
       "</div>"
      ],
      "text/plain": [
       "  no. announce_date notified_date   sex age unit nationality  \\\n",
       "0   1     12/1/2020           NaN  หญิง  61   ปี       China   \n",
       "1   2     17/1/2020           NaN  หญิง  74   ปี       China   \n",
       "2   3     22/1/2020           NaN  หญิง  73   ปี    Thailand   \n",
       "3   4     22/1/2020           NaN   ชาย  68   ปี       China   \n",
       "4   5     24/1/2020           NaN  หญิง  66   ปี       China   \n",
       "\n",
       "  province_of_isolation                              risk province_of_onset  \\\n",
       "0         กรุงเทพมหานคร  คนต่างชาติเดินทางมาจากต่างประเทศ     กรุงเทพมหานคร   \n",
       "1         กรุงเทพมหานคร  คนต่างชาติเดินทางมาจากต่างประเทศ     กรุงเทพมหานคร   \n",
       "2                นครปฐม  คนต่างชาติเดินทางมาจากต่างประเทศ            นครปฐม   \n",
       "3         กรุงเทพมหานคร  คนต่างชาติเดินทางมาจากต่างประเทศ     กรุงเทพมหานคร   \n",
       "4               นนทบุรี  คนต่างชาติเดินทางมาจากต่างประเทศ     กรุงเทพมหานคร   \n",
       "\n",
       "  district_of_onset  \n",
       "0               NaN  \n",
       "1               NaN  \n",
       "2             เมือง  \n",
       "3               NaN  \n",
       "4               NaN  "
      ]
     },
     "execution_count": 6,
     "metadata": {},
     "output_type": "execute_result"
    }
   ],
   "source": [
    "df.head()"
   ]
  },
  {
   "cell_type": "code",
   "execution_count": 7,
   "id": "b6075e48",
   "metadata": {},
   "outputs": [
    {
     "name": "stdout",
     "output_type": "stream",
     "text": [
      "<class 'pandas.core.frame.DataFrame'>\n",
      "RangeIndex: 3325951 entries, 0 to 3325950\n",
      "Data columns (total 11 columns):\n",
      " #   Column                 Dtype \n",
      "---  ------                 ----- \n",
      " 0   no.                    object\n",
      " 1   announce_date          object\n",
      " 2   notified_date          object\n",
      " 3   sex                    object\n",
      " 4   age                    object\n",
      " 5   unit                   object\n",
      " 6   nationality            object\n",
      " 7   province_of_isolation  object\n",
      " 8   risk                   object\n",
      " 9   province_of_onset      object\n",
      " 10  district_of_onset      object\n",
      "dtypes: object(11)\n",
      "memory usage: 279.1+ MB\n"
     ]
    }
   ],
   "source": [
    "df.info()"
   ]
  },
  {
   "cell_type": "code",
   "execution_count": 8,
   "id": "85edd185",
   "metadata": {},
   "outputs": [],
   "source": [
    "import pickle\n",
    "df.to_pickle(\"dataset_all.pkl\")"
   ]
  },
  {
   "cell_type": "code",
   "execution_count": null,
   "id": "aeb902fa",
   "metadata": {},
   "outputs": [],
   "source": []
  }
 ],
 "metadata": {
  "kernelspec": {
   "display_name": "Python 3 (ipykernel)",
   "language": "python",
   "name": "python3"
  },
  "language_info": {
   "codemirror_mode": {
    "name": "ipython",
    "version": 3
   },
   "file_extension": ".py",
   "mimetype": "text/x-python",
   "name": "python",
   "nbconvert_exporter": "python",
   "pygments_lexer": "ipython3",
   "version": "3.8.12"
  }
 },
 "nbformat": 4,
 "nbformat_minor": 5
}
