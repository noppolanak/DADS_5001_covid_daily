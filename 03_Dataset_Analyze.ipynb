{
 "cells": [
  {
   "cell_type": "code",
   "execution_count": 1,
   "id": "8b9f37dd",
   "metadata": {},
   "outputs": [],
   "source": [
    "import pandas as pd\n",
    "df = pd.read_pickle(\"dataset_prep.pkl\")"
   ]
  },
  {
   "cell_type": "code",
   "execution_count": 2,
   "id": "bea5c57e",
   "metadata": {},
   "outputs": [],
   "source": [
    "import matplotlib.pyplot as plt\n",
    "import matplotlib as mpl"
   ]
  },
  {
   "cell_type": "code",
   "execution_count": 3,
   "id": "27610f4e",
   "metadata": {},
   "outputs": [
    {
     "name": "stdout",
     "output_type": "stream",
     "text": [
      "<class 'pandas.core.frame.DataFrame'>\n",
      "RangeIndex: 3303169 entries, 0 to 3303168\n",
      "Data columns (total 11 columns):\n",
      " #   Column                 Non-Null Count    Dtype         \n",
      "---  ------                 --------------    -----         \n",
      " 0   no.                    3303169 non-null  object        \n",
      " 1   announce_date          3303169 non-null  datetime64[ns]\n",
      " 2   notified_date          3303169 non-null  datetime64[ns]\n",
      " 3   sex                    3303169 non-null  category      \n",
      " 4   age                    3303169 non-null  float64       \n",
      " 5   unit                   3303169 non-null  object        \n",
      " 6   nationality            3303169 non-null  object        \n",
      " 7   province_of_isolation  3303169 non-null  object        \n",
      " 8   risk                   3301982 non-null  object        \n",
      " 9   province_of_onset      3303169 non-null  object        \n",
      " 10  district_of_onset      2803798 non-null  object        \n",
      "dtypes: category(1), datetime64[ns](2), float64(1), object(7)\n",
      "memory usage: 255.2+ MB\n"
     ]
    }
   ],
   "source": [
    "df.info(show_counts=True)"
   ]
  },
  {
   "cell_type": "code",
   "execution_count": 4,
   "id": "2bcf1a25",
   "metadata": {
    "scrolled": true
   },
   "outputs": [
    {
     "data": {
      "text/html": [
       "<div>\n",
       "<style scoped>\n",
       "    .dataframe tbody tr th:only-of-type {\n",
       "        vertical-align: middle;\n",
       "    }\n",
       "\n",
       "    .dataframe tbody tr th {\n",
       "        vertical-align: top;\n",
       "    }\n",
       "\n",
       "    .dataframe thead th {\n",
       "        text-align: right;\n",
       "    }\n",
       "</style>\n",
       "<table border=\"1\" class=\"dataframe\">\n",
       "  <thead>\n",
       "    <tr style=\"text-align: right;\">\n",
       "      <th></th>\n",
       "      <th>no.</th>\n",
       "      <th>announce_date</th>\n",
       "      <th>notified_date</th>\n",
       "      <th>sex</th>\n",
       "      <th>age</th>\n",
       "      <th>unit</th>\n",
       "      <th>nationality</th>\n",
       "      <th>province_of_isolation</th>\n",
       "      <th>risk</th>\n",
       "      <th>province_of_onset</th>\n",
       "      <th>district_of_onset</th>\n",
       "    </tr>\n",
       "  </thead>\n",
       "  <tbody>\n",
       "    <tr>\n",
       "      <th>0</th>\n",
       "      <td>1</td>\n",
       "      <td>2020-01-12</td>\n",
       "      <td>2020-01-12</td>\n",
       "      <td>Female</td>\n",
       "      <td>61.0</td>\n",
       "      <td>ปี</td>\n",
       "      <td>china</td>\n",
       "      <td>กรุงเทพ</td>\n",
       "      <td>คนต่างชาติเดินทางมาจากต่างประเทศ</td>\n",
       "      <td>กรุงเทพมหานคร</td>\n",
       "      <td>NaN</td>\n",
       "    </tr>\n",
       "    <tr>\n",
       "      <th>1</th>\n",
       "      <td>2</td>\n",
       "      <td>2020-01-17</td>\n",
       "      <td>2020-01-17</td>\n",
       "      <td>Female</td>\n",
       "      <td>74.0</td>\n",
       "      <td>ปี</td>\n",
       "      <td>china</td>\n",
       "      <td>กรุงเทพ</td>\n",
       "      <td>คนต่างชาติเดินทางมาจากต่างประเทศ</td>\n",
       "      <td>กรุงเทพมหานคร</td>\n",
       "      <td>NaN</td>\n",
       "    </tr>\n",
       "    <tr>\n",
       "      <th>2</th>\n",
       "      <td>3</td>\n",
       "      <td>2020-01-22</td>\n",
       "      <td>2020-01-22</td>\n",
       "      <td>Female</td>\n",
       "      <td>73.0</td>\n",
       "      <td>ปี</td>\n",
       "      <td>thailand</td>\n",
       "      <td>นครปฐม</td>\n",
       "      <td>คนต่างชาติเดินทางมาจากต่างประเทศ</td>\n",
       "      <td>นครปฐม</td>\n",
       "      <td>เมือง</td>\n",
       "    </tr>\n",
       "    <tr>\n",
       "      <th>3</th>\n",
       "      <td>4</td>\n",
       "      <td>2020-01-22</td>\n",
       "      <td>2020-01-22</td>\n",
       "      <td>Male</td>\n",
       "      <td>68.0</td>\n",
       "      <td>ปี</td>\n",
       "      <td>china</td>\n",
       "      <td>กรุงเทพ</td>\n",
       "      <td>คนต่างชาติเดินทางมาจากต่างประเทศ</td>\n",
       "      <td>กรุงเทพมหานคร</td>\n",
       "      <td>NaN</td>\n",
       "    </tr>\n",
       "    <tr>\n",
       "      <th>4</th>\n",
       "      <td>5</td>\n",
       "      <td>2020-01-24</td>\n",
       "      <td>2020-01-24</td>\n",
       "      <td>Female</td>\n",
       "      <td>66.0</td>\n",
       "      <td>ปี</td>\n",
       "      <td>china</td>\n",
       "      <td>นนทบุรี</td>\n",
       "      <td>คนต่างชาติเดินทางมาจากต่างประเทศ</td>\n",
       "      <td>กรุงเทพมหานคร</td>\n",
       "      <td>NaN</td>\n",
       "    </tr>\n",
       "  </tbody>\n",
       "</table>\n",
       "</div>"
      ],
      "text/plain": [
       "  no. announce_date notified_date     sex   age unit nationality  \\\n",
       "0   1    2020-01-12    2020-01-12  Female  61.0   ปี       china   \n",
       "1   2    2020-01-17    2020-01-17  Female  74.0   ปี       china   \n",
       "2   3    2020-01-22    2020-01-22  Female  73.0   ปี    thailand   \n",
       "3   4    2020-01-22    2020-01-22    Male  68.0   ปี       china   \n",
       "4   5    2020-01-24    2020-01-24  Female  66.0   ปี       china   \n",
       "\n",
       "  province_of_isolation                              risk province_of_onset  \\\n",
       "0               กรุงเทพ  คนต่างชาติเดินทางมาจากต่างประเทศ     กรุงเทพมหานคร   \n",
       "1               กรุงเทพ  คนต่างชาติเดินทางมาจากต่างประเทศ     กรุงเทพมหานคร   \n",
       "2                นครปฐม  คนต่างชาติเดินทางมาจากต่างประเทศ            นครปฐม   \n",
       "3               กรุงเทพ  คนต่างชาติเดินทางมาจากต่างประเทศ     กรุงเทพมหานคร   \n",
       "4               นนทบุรี  คนต่างชาติเดินทางมาจากต่างประเทศ     กรุงเทพมหานคร   \n",
       "\n",
       "  district_of_onset  \n",
       "0               NaN  \n",
       "1               NaN  \n",
       "2             เมือง  \n",
       "3               NaN  \n",
       "4               NaN  "
      ]
     },
     "execution_count": 4,
     "metadata": {},
     "output_type": "execute_result"
    }
   ],
   "source": [
    "df.head()"
   ]
  },
  {
   "cell_type": "code",
   "execution_count": 5,
   "id": "4819be93",
   "metadata": {},
   "outputs": [],
   "source": [
    "df[\"count\"] = 1 #เอาไว้ count รายการต่างๆ #df.values_count บางครั้งเครื่องค้าง"
   ]
  },
  {
   "cell_type": "markdown",
   "id": "54e76509",
   "metadata": {},
   "source": [
    "# Question & Answers"
   ]
  },
  {
   "cell_type": "markdown",
   "id": "e9e7acc6",
   "metadata": {},
   "source": [
    "## 1. Top 5 province_of_isolation: proportion of sex"
   ]
  },
  {
   "cell_type": "code",
   "execution_count": 6,
   "id": "0416fe5f",
   "metadata": {},
   "outputs": [
    {
     "data": {
      "text/plain": [
       "Female    1652968\n",
       "Male      1471141\n",
       "na         179060\n",
       "Name: sex, dtype: int64"
      ]
     },
     "execution_count": 6,
     "metadata": {},
     "output_type": "execute_result"
    }
   ],
   "source": [
    "df[\"sex\"].value_counts()"
   ]
  },
  {
   "cell_type": "code",
   "execution_count": 7,
   "id": "e95ee57b",
   "metadata": {},
   "outputs": [],
   "source": [
    "p_sex = df.groupby(by=[\"province_of_isolation\", \"sex\"]).agg({\"count\":sum})"
   ]
  },
  {
   "cell_type": "code",
   "execution_count": 8,
   "id": "c2f712a4",
   "metadata": {},
   "outputs": [],
   "source": [
    "p_sex.drop(index = \"na\", level=0, inplace=True)\n",
    "p_sex.drop(index = \"na\", level=1, inplace=True)"
   ]
  },
  {
   "cell_type": "code",
   "execution_count": 9,
   "id": "0a821e64",
   "metadata": {},
   "outputs": [],
   "source": [
    "p_sex = p_sex.sort_values(by=\"count\", ascending=False).head(10)"
   ]
  },
  {
   "cell_type": "code",
   "execution_count": 10,
   "id": "2446697a",
   "metadata": {
    "scrolled": true
   },
   "outputs": [
    {
     "data": {
      "text/html": [
       "<div>\n",
       "<style scoped>\n",
       "    .dataframe tbody tr th:only-of-type {\n",
       "        vertical-align: middle;\n",
       "    }\n",
       "\n",
       "    .dataframe tbody tr th {\n",
       "        vertical-align: top;\n",
       "    }\n",
       "\n",
       "    .dataframe thead th {\n",
       "        text-align: right;\n",
       "    }\n",
       "</style>\n",
       "<table border=\"1\" class=\"dataframe\">\n",
       "  <thead>\n",
       "    <tr style=\"text-align: right;\">\n",
       "      <th></th>\n",
       "      <th></th>\n",
       "      <th>count</th>\n",
       "    </tr>\n",
       "    <tr>\n",
       "      <th>province_of_isolation</th>\n",
       "      <th>sex</th>\n",
       "      <th></th>\n",
       "    </tr>\n",
       "  </thead>\n",
       "  <tbody>\n",
       "    <tr>\n",
       "      <th rowspan=\"2\" valign=\"top\">กรุงเทพ</th>\n",
       "      <th>Female</th>\n",
       "      <td>275554</td>\n",
       "    </tr>\n",
       "    <tr>\n",
       "      <th>Male</th>\n",
       "      <td>266878</td>\n",
       "    </tr>\n",
       "    <tr>\n",
       "      <th rowspan=\"2\" valign=\"top\">สมุทรปราการ</th>\n",
       "      <th>Female</th>\n",
       "      <td>103320</td>\n",
       "    </tr>\n",
       "    <tr>\n",
       "      <th>Male</th>\n",
       "      <td>93699</td>\n",
       "    </tr>\n",
       "    <tr>\n",
       "      <th rowspan=\"2\" valign=\"top\">ชลบุรี</th>\n",
       "      <th>Female</th>\n",
       "      <td>90896</td>\n",
       "    </tr>\n",
       "    <tr>\n",
       "      <th>Male</th>\n",
       "      <td>86012</td>\n",
       "    </tr>\n",
       "    <tr>\n",
       "      <th rowspan=\"2\" valign=\"top\">สมุทรสาคร</th>\n",
       "      <th>Female</th>\n",
       "      <td>78156</td>\n",
       "    </tr>\n",
       "    <tr>\n",
       "      <th>Male</th>\n",
       "      <td>60003</td>\n",
       "    </tr>\n",
       "    <tr>\n",
       "      <th rowspan=\"2\" valign=\"top\">นนทบุรี</th>\n",
       "      <th>Male</th>\n",
       "      <td>54438</td>\n",
       "    </tr>\n",
       "    <tr>\n",
       "      <th>Female</th>\n",
       "      <td>54218</td>\n",
       "    </tr>\n",
       "  </tbody>\n",
       "</table>\n",
       "</div>"
      ],
      "text/plain": [
       "                               count\n",
       "province_of_isolation sex           \n",
       "กรุงเทพ               Female  275554\n",
       "                      Male    266878\n",
       "สมุทรปราการ           Female  103320\n",
       "                      Male     93699\n",
       "ชลบุรี                Female   90896\n",
       "                      Male     86012\n",
       "สมุทรสาคร             Female   78156\n",
       "                      Male     60003\n",
       "นนทบุรี               Male     54438\n",
       "                      Female   54218"
      ]
     },
     "execution_count": 10,
     "metadata": {},
     "output_type": "execute_result"
    }
   ],
   "source": [
    "p_sex"
   ]
  },
  {
   "cell_type": "code",
   "execution_count": 11,
   "id": "617bfdce",
   "metadata": {},
   "outputs": [
    {
     "data": {
      "text/html": [
       "<div>\n",
       "<style scoped>\n",
       "    .dataframe tbody tr th:only-of-type {\n",
       "        vertical-align: middle;\n",
       "    }\n",
       "\n",
       "    .dataframe tbody tr th {\n",
       "        vertical-align: top;\n",
       "    }\n",
       "\n",
       "    .dataframe thead th {\n",
       "        text-align: right;\n",
       "    }\n",
       "</style>\n",
       "<table border=\"1\" class=\"dataframe\">\n",
       "  <thead>\n",
       "    <tr style=\"text-align: right;\">\n",
       "      <th></th>\n",
       "      <th>province_of_isolation</th>\n",
       "      <th>sex</th>\n",
       "      <th>count</th>\n",
       "    </tr>\n",
       "  </thead>\n",
       "  <tbody>\n",
       "    <tr>\n",
       "      <th>0</th>\n",
       "      <td>กรุงเทพ</td>\n",
       "      <td>Female</td>\n",
       "      <td>275554</td>\n",
       "    </tr>\n",
       "    <tr>\n",
       "      <th>1</th>\n",
       "      <td>กรุงเทพ</td>\n",
       "      <td>Male</td>\n",
       "      <td>266878</td>\n",
       "    </tr>\n",
       "    <tr>\n",
       "      <th>2</th>\n",
       "      <td>สมุทรปราการ</td>\n",
       "      <td>Female</td>\n",
       "      <td>103320</td>\n",
       "    </tr>\n",
       "    <tr>\n",
       "      <th>3</th>\n",
       "      <td>สมุทรปราการ</td>\n",
       "      <td>Male</td>\n",
       "      <td>93699</td>\n",
       "    </tr>\n",
       "    <tr>\n",
       "      <th>4</th>\n",
       "      <td>ชลบุรี</td>\n",
       "      <td>Female</td>\n",
       "      <td>90896</td>\n",
       "    </tr>\n",
       "    <tr>\n",
       "      <th>5</th>\n",
       "      <td>ชลบุรี</td>\n",
       "      <td>Male</td>\n",
       "      <td>86012</td>\n",
       "    </tr>\n",
       "    <tr>\n",
       "      <th>6</th>\n",
       "      <td>สมุทรสาคร</td>\n",
       "      <td>Female</td>\n",
       "      <td>78156</td>\n",
       "    </tr>\n",
       "    <tr>\n",
       "      <th>7</th>\n",
       "      <td>สมุทรสาคร</td>\n",
       "      <td>Male</td>\n",
       "      <td>60003</td>\n",
       "    </tr>\n",
       "    <tr>\n",
       "      <th>8</th>\n",
       "      <td>นนทบุรี</td>\n",
       "      <td>Male</td>\n",
       "      <td>54438</td>\n",
       "    </tr>\n",
       "    <tr>\n",
       "      <th>9</th>\n",
       "      <td>นนทบุรี</td>\n",
       "      <td>Female</td>\n",
       "      <td>54218</td>\n",
       "    </tr>\n",
       "  </tbody>\n",
       "</table>\n",
       "</div>"
      ],
      "text/plain": [
       "  province_of_isolation     sex   count\n",
       "0               กรุงเทพ  Female  275554\n",
       "1               กรุงเทพ    Male  266878\n",
       "2           สมุทรปราการ  Female  103320\n",
       "3           สมุทรปราการ    Male   93699\n",
       "4                ชลบุรี  Female   90896\n",
       "5                ชลบุรี    Male   86012\n",
       "6             สมุทรสาคร  Female   78156\n",
       "7             สมุทรสาคร    Male   60003\n",
       "8               นนทบุรี    Male   54438\n",
       "9               นนทบุรี  Female   54218"
      ]
     },
     "execution_count": 11,
     "metadata": {},
     "output_type": "execute_result"
    }
   ],
   "source": [
    "p_sex.reset_index(inplace=True)\n",
    "p_sex"
   ]
  },
  {
   "cell_type": "code",
   "execution_count": 12,
   "id": "261611ae",
   "metadata": {},
   "outputs": [
    {
     "data": {
      "text/plain": [
       "Index(['province_of_isolation', 'sex', 'count'], dtype='object')"
      ]
     },
     "execution_count": 12,
     "metadata": {},
     "output_type": "execute_result"
    }
   ],
   "source": [
    "p_sex.columns"
   ]
  },
  {
   "cell_type": "code",
   "execution_count": 13,
   "id": "2579c60b",
   "metadata": {
    "scrolled": false
   },
   "outputs": [],
   "source": [
    "#เจอปัญหาภาษาไทย\n",
    "\n",
    "p_sex.loc[p_sex[\"province_of_isolation\"] == \"กรุงเทพ\",\"province_of_isolation\"] = \"Bangkok\"\n",
    "p_sex.loc[p_sex[\"province_of_isolation\"] == \"สมุทรปราการ\",\"province_of_isolation\"] = \"Samutprakarn\"\n",
    "p_sex.loc[p_sex[\"province_of_isolation\"] == \"ชลบุรี\",\"province_of_isolation\"] = \"Chonburi\"\n",
    "p_sex.loc[p_sex[\"province_of_isolation\"] == \"สมุทรสาคร\",\"province_of_isolation\"] = \"samutsakorn\"\n",
    "p_sex.loc[p_sex[\"province_of_isolation\"] == \"นนทบุรี\",\"province_of_isolation\"] = \"nonthaburi\""
   ]
  },
  {
   "cell_type": "code",
   "execution_count": 14,
   "id": "3b086396",
   "metadata": {},
   "outputs": [
    {
     "data": {
      "text/html": [
       "<div>\n",
       "<style scoped>\n",
       "    .dataframe tbody tr th:only-of-type {\n",
       "        vertical-align: middle;\n",
       "    }\n",
       "\n",
       "    .dataframe tbody tr th {\n",
       "        vertical-align: top;\n",
       "    }\n",
       "\n",
       "    .dataframe thead th {\n",
       "        text-align: right;\n",
       "    }\n",
       "</style>\n",
       "<table border=\"1\" class=\"dataframe\">\n",
       "  <thead>\n",
       "    <tr style=\"text-align: right;\">\n",
       "      <th></th>\n",
       "      <th>province_of_isolation</th>\n",
       "      <th>sex</th>\n",
       "      <th>count</th>\n",
       "    </tr>\n",
       "  </thead>\n",
       "  <tbody>\n",
       "    <tr>\n",
       "      <th>0</th>\n",
       "      <td>Bangkok</td>\n",
       "      <td>Female</td>\n",
       "      <td>275554</td>\n",
       "    </tr>\n",
       "    <tr>\n",
       "      <th>1</th>\n",
       "      <td>Bangkok</td>\n",
       "      <td>Male</td>\n",
       "      <td>266878</td>\n",
       "    </tr>\n",
       "    <tr>\n",
       "      <th>2</th>\n",
       "      <td>Samutprakarn</td>\n",
       "      <td>Female</td>\n",
       "      <td>103320</td>\n",
       "    </tr>\n",
       "    <tr>\n",
       "      <th>3</th>\n",
       "      <td>Samutprakarn</td>\n",
       "      <td>Male</td>\n",
       "      <td>93699</td>\n",
       "    </tr>\n",
       "    <tr>\n",
       "      <th>4</th>\n",
       "      <td>Chonburi</td>\n",
       "      <td>Female</td>\n",
       "      <td>90896</td>\n",
       "    </tr>\n",
       "    <tr>\n",
       "      <th>5</th>\n",
       "      <td>Chonburi</td>\n",
       "      <td>Male</td>\n",
       "      <td>86012</td>\n",
       "    </tr>\n",
       "    <tr>\n",
       "      <th>6</th>\n",
       "      <td>samutsakorn</td>\n",
       "      <td>Female</td>\n",
       "      <td>78156</td>\n",
       "    </tr>\n",
       "    <tr>\n",
       "      <th>7</th>\n",
       "      <td>samutsakorn</td>\n",
       "      <td>Male</td>\n",
       "      <td>60003</td>\n",
       "    </tr>\n",
       "    <tr>\n",
       "      <th>8</th>\n",
       "      <td>nonthaburi</td>\n",
       "      <td>Male</td>\n",
       "      <td>54438</td>\n",
       "    </tr>\n",
       "    <tr>\n",
       "      <th>9</th>\n",
       "      <td>nonthaburi</td>\n",
       "      <td>Female</td>\n",
       "      <td>54218</td>\n",
       "    </tr>\n",
       "  </tbody>\n",
       "</table>\n",
       "</div>"
      ],
      "text/plain": [
       "  province_of_isolation     sex   count\n",
       "0               Bangkok  Female  275554\n",
       "1               Bangkok    Male  266878\n",
       "2          Samutprakarn  Female  103320\n",
       "3          Samutprakarn    Male   93699\n",
       "4              Chonburi  Female   90896\n",
       "5              Chonburi    Male   86012\n",
       "6           samutsakorn  Female   78156\n",
       "7           samutsakorn    Male   60003\n",
       "8            nonthaburi    Male   54438\n",
       "9            nonthaburi  Female   54218"
      ]
     },
     "execution_count": 14,
     "metadata": {},
     "output_type": "execute_result"
    }
   ],
   "source": [
    "p_sex"
   ]
  },
  {
   "cell_type": "code",
   "execution_count": 15,
   "id": "3b4bd6b3",
   "metadata": {},
   "outputs": [],
   "source": [
    "graph_1 = p_sex.pivot(index=\"province_of_isolation\", columns=\"sex\",values=\"count\")"
   ]
  },
  {
   "cell_type": "code",
   "execution_count": 16,
   "id": "16ef0df1",
   "metadata": {},
   "outputs": [],
   "source": [
    "graph_1.sort_index(ascending=False, inplace=True)"
   ]
  },
  {
   "cell_type": "code",
   "execution_count": 17,
   "id": "d3d77b7c",
   "metadata": {},
   "outputs": [
    {
     "data": {
      "text/html": [
       "<div>\n",
       "<style scoped>\n",
       "    .dataframe tbody tr th:only-of-type {\n",
       "        vertical-align: middle;\n",
       "    }\n",
       "\n",
       "    .dataframe tbody tr th {\n",
       "        vertical-align: top;\n",
       "    }\n",
       "\n",
       "    .dataframe thead th {\n",
       "        text-align: right;\n",
       "    }\n",
       "</style>\n",
       "<table border=\"1\" class=\"dataframe\">\n",
       "  <thead>\n",
       "    <tr style=\"text-align: right;\">\n",
       "      <th>sex</th>\n",
       "      <th>Female</th>\n",
       "      <th>Male</th>\n",
       "    </tr>\n",
       "    <tr>\n",
       "      <th>province_of_isolation</th>\n",
       "      <th></th>\n",
       "      <th></th>\n",
       "    </tr>\n",
       "  </thead>\n",
       "  <tbody>\n",
       "    <tr>\n",
       "      <th>samutsakorn</th>\n",
       "      <td>78156</td>\n",
       "      <td>60003</td>\n",
       "    </tr>\n",
       "    <tr>\n",
       "      <th>nonthaburi</th>\n",
       "      <td>54218</td>\n",
       "      <td>54438</td>\n",
       "    </tr>\n",
       "    <tr>\n",
       "      <th>Samutprakarn</th>\n",
       "      <td>103320</td>\n",
       "      <td>93699</td>\n",
       "    </tr>\n",
       "    <tr>\n",
       "      <th>Chonburi</th>\n",
       "      <td>90896</td>\n",
       "      <td>86012</td>\n",
       "    </tr>\n",
       "    <tr>\n",
       "      <th>Bangkok</th>\n",
       "      <td>275554</td>\n",
       "      <td>266878</td>\n",
       "    </tr>\n",
       "  </tbody>\n",
       "</table>\n",
       "</div>"
      ],
      "text/plain": [
       "sex                    Female    Male\n",
       "province_of_isolation                \n",
       "samutsakorn             78156   60003\n",
       "nonthaburi              54218   54438\n",
       "Samutprakarn           103320   93699\n",
       "Chonburi                90896   86012\n",
       "Bangkok                275554  266878"
      ]
     },
     "execution_count": 17,
     "metadata": {},
     "output_type": "execute_result"
    }
   ],
   "source": [
    "graph_1"
   ]
  },
  {
   "cell_type": "code",
   "execution_count": 18,
   "id": "b7021101",
   "metadata": {},
   "outputs": [
    {
     "data": {
      "text/plain": [
       "<AxesSubplot:ylabel='province_of_isolation'>"
      ]
     },
     "execution_count": 18,
     "metadata": {},
     "output_type": "execute_result"
    },
    {
     "data": {
      "image/png": "[encoded data removed]",
      "text/plain": [
       "<Figure size 432x288 with 1 Axes>"
      ]
     },
     "metadata": {
      "needs_background": "light"
     },
     "output_type": "display_data"
    }
   ],
   "source": [
    "graph_1.plot.barh(stacked=True, sort_columns=True)"
   ]
  },
  {
   "cell_type": "markdown",
   "id": "e94a8284",
   "metadata": {},
   "source": [
    "### 2. Top Peak per day\n",
    ">- In each year\n",
    ">- All three years"
   ]
  },
  {
   "cell_type": "code",
   "execution_count": 19,
   "id": "07a33b82",
   "metadata": {},
   "outputs": [],
   "source": [
    "peak_day = df.groupby(\"announce_date\").agg({\"count\":sum})"
   ]
  },
  {
   "cell_type": "code",
   "execution_count": 20,
   "id": "df03651b",
   "metadata": {},
   "outputs": [],
   "source": [
    "Top_peak_all = peak_day.sort_values(\"count\", ascending=False).head(10) #From 2020 to Mar 2022"
   ]
  },
  {
   "cell_type": "code",
   "execution_count": 21,
   "id": "8a35fbf3",
   "metadata": {},
   "outputs": [
    {
     "data": {
      "text/plain": [
       "<AxesSubplot:xlabel='announce_date'>"
      ]
     },
     "execution_count": 21,
     "metadata": {},
     "output_type": "execute_result"
    },
    {
     "data": {
      "image/png": "[encoded data removed]",
      "text/plain": [
       "<Figure size 432x288 with 1 Axes>"
      ]
     },
     "metadata": {
      "needs_background": "light"
     },
     "output_type": "display_data"
    }
   ],
   "source": [
    "Top_peak_all.plot() #ปรากฎว่าทั้งหมดอยู่ในปี 2022"
   ]
  },
  {
   "cell_type": "code",
   "execution_count": 22,
   "id": "f8c23d61",
   "metadata": {},
   "outputs": [
    {
     "data": {
      "text/html": [
       "<div>\n",
       "<style scoped>\n",
       "    .dataframe tbody tr th:only-of-type {\n",
       "        vertical-align: middle;\n",
       "    }\n",
       "\n",
       "    .dataframe tbody tr th {\n",
       "        vertical-align: top;\n",
       "    }\n",
       "\n",
       "    .dataframe thead th {\n",
       "        text-align: right;\n",
       "    }\n",
       "</style>\n",
       "<table border=\"1\" class=\"dataframe\">\n",
       "  <thead>\n",
       "    <tr style=\"text-align: right;\">\n",
       "      <th></th>\n",
       "      <th>count</th>\n",
       "    </tr>\n",
       "    <tr>\n",
       "      <th>announce_date</th>\n",
       "      <th></th>\n",
       "    </tr>\n",
       "  </thead>\n",
       "  <tbody>\n",
       "    <tr>\n",
       "      <th>2020-12-20</th>\n",
       "      <td>576</td>\n",
       "    </tr>\n",
       "  </tbody>\n",
       "</table>\n",
       "</div>"
      ],
      "text/plain": [
       "               count\n",
       "announce_date       \n",
       "2020-12-20       576"
      ]
     },
     "execution_count": 22,
     "metadata": {},
     "output_type": "execute_result"
    }
   ],
   "source": [
    "Y2020 = peak_day.loc[\"2020-01-01\" : \"2020-12-31\"]\n",
    "Top_peak_2020 = Y2020.sort_values(\"count\", ascending=False).head(1) #In 2020\n",
    "Top_peak_2020"
   ]
  },
  {
   "cell_type": "code",
   "execution_count": 23,
   "id": "892040aa",
   "metadata": {},
   "outputs": [
    {
     "data": {
      "text/html": [
       "<div>\n",
       "<style scoped>\n",
       "    .dataframe tbody tr th:only-of-type {\n",
       "        vertical-align: middle;\n",
       "    }\n",
       "\n",
       "    .dataframe tbody tr th {\n",
       "        vertical-align: top;\n",
       "    }\n",
       "\n",
       "    .dataframe thead th {\n",
       "        text-align: right;\n",
       "    }\n",
       "</style>\n",
       "<table border=\"1\" class=\"dataframe\">\n",
       "  <thead>\n",
       "    <tr style=\"text-align: right;\">\n",
       "      <th></th>\n",
       "      <th>count</th>\n",
       "    </tr>\n",
       "    <tr>\n",
       "      <th>announce_date</th>\n",
       "      <th></th>\n",
       "    </tr>\n",
       "  </thead>\n",
       "  <tbody>\n",
       "    <tr>\n",
       "      <th>2021-08-13</th>\n",
       "      <td>23418</td>\n",
       "    </tr>\n",
       "  </tbody>\n",
       "</table>\n",
       "</div>"
      ],
      "text/plain": [
       "               count\n",
       "announce_date       \n",
       "2021-08-13     23418"
      ]
     },
     "execution_count": 23,
     "metadata": {},
     "output_type": "execute_result"
    }
   ],
   "source": [
    "Y2021 = peak_day.loc[\"2021-01-01\" : \"2021-12-31\"]\n",
    "Top_peak_2021 = Y2021.sort_values(\"count\", ascending=False).head(1) #In 2021\n",
    "Top_peak_2021"
   ]
  },
  {
   "cell_type": "code",
   "execution_count": 24,
   "id": "8dfd0bab",
   "metadata": {},
   "outputs": [
    {
     "data": {
      "text/html": [
       "<div>\n",
       "<style scoped>\n",
       "    .dataframe tbody tr th:only-of-type {\n",
       "        vertical-align: middle;\n",
       "    }\n",
       "\n",
       "    .dataframe tbody tr th {\n",
       "        vertical-align: top;\n",
       "    }\n",
       "\n",
       "    .dataframe thead th {\n",
       "        text-align: right;\n",
       "    }\n",
       "</style>\n",
       "<table border=\"1\" class=\"dataframe\">\n",
       "  <thead>\n",
       "    <tr style=\"text-align: right;\">\n",
       "      <th></th>\n",
       "      <th>count</th>\n",
       "    </tr>\n",
       "    <tr>\n",
       "      <th>announce_date</th>\n",
       "      <th></th>\n",
       "    </tr>\n",
       "  </thead>\n",
       "  <tbody>\n",
       "    <tr>\n",
       "      <th>2022-03-18</th>\n",
       "      <td>27071</td>\n",
       "    </tr>\n",
       "  </tbody>\n",
       "</table>\n",
       "</div>"
      ],
      "text/plain": [
       "               count\n",
       "announce_date       \n",
       "2022-03-18     27071"
      ]
     },
     "execution_count": 24,
     "metadata": {},
     "output_type": "execute_result"
    }
   ],
   "source": [
    "Y2022 = peak_day.loc[\"2022-01-01\" : \"2022-12-31\"]\n",
    "Top_peak_2022 =Y2022.sort_values(\"count\", ascending=False).head(1) #In 2022\n",
    "Top_peak_2022"
   ]
  },
  {
   "cell_type": "code",
   "execution_count": 25,
   "id": "316215ac",
   "metadata": {},
   "outputs": [],
   "source": [
    "#เนื่องจากการ annotate กราฟ มันต้องการเป็น float เพื่อบอกระยะ แต่แกน x เราเป็น datetime"
   ]
  },
  {
   "cell_type": "code",
   "execution_count": 26,
   "id": "6174de67",
   "metadata": {},
   "outputs": [],
   "source": [
    "adate = Top_peak_2020.reset_index()\n",
    "adate = adate[\"announce_date\"]\n",
    "adate20 = mpl.dates.date2num(adate)"
   ]
  },
  {
   "cell_type": "code",
   "execution_count": 27,
   "id": "6b8f5c54",
   "metadata": {},
   "outputs": [],
   "source": [
    "adate = Top_peak_2022.reset_index()\n",
    "adate = adate[\"announce_date\"]\n",
    "adate22 =  mpl.dates.date2num(adate)"
   ]
  },
  {
   "cell_type": "code",
   "execution_count": 28,
   "id": "e614785d",
   "metadata": {},
   "outputs": [],
   "source": [
    "adate = Top_peak_2021.reset_index()\n",
    "adate = adate[\"announce_date\"]\n",
    "adate21 =  mpl.dates.date2num(adate)"
   ]
  },
  {
   "cell_type": "code",
   "execution_count": 29,
   "id": "bb95c9d3",
   "metadata": {},
   "outputs": [
    {
     "data": {
      "text/plain": [
       "count    27071\n",
       "Name: 2022-03-18 00:00:00, dtype: int64"
      ]
     },
     "execution_count": 29,
     "metadata": {},
     "output_type": "execute_result"
    }
   ],
   "source": [
    "Top_peak_2022.iloc[0] #ตัวอย่างการ access แบบ iloc"
   ]
  },
  {
   "cell_type": "code",
   "execution_count": 30,
   "id": "af3d587d",
   "metadata": {
    "scrolled": false
   },
   "outputs": [
    {
     "data": {
      "text/plain": [
       "Text([19069.], count    27071\n",
       "Name: 2022-03-18 00:00:00, dtype: int64, 'Peak Y2022')"
      ]
     },
     "execution_count": 30,
     "metadata": {},
     "output_type": "execute_result"
    },
    {
     "data": {
      "image/png": "[encoded data removed]",
      "text/plain": [
       "<Figure size 1080x360 with 1 Axes>"
      ]
     },
     "metadata": {
      "needs_background": "light"
     },
     "output_type": "display_data"
    }
   ],
   "source": [
    "fig, ax = plt.subplots(figsize=(15, 5))\n",
    "line, = ax.plot(peak_day)\n",
    "ax.annotate(\"Peak Y2020\",xy=(adate20,Top_peak_2020.iloc[0]) )\n",
    "ax.annotate(\"Peak Y2021\",xy=(adate21,Top_peak_2021.iloc[0]) )\n",
    "ax.annotate(\"Peak Y2022\",xy=(adate22,Top_peak_2022.iloc[0]) )"
   ]
  },
  {
   "cell_type": "code",
   "execution_count": 31,
   "id": "1c5799ab",
   "metadata": {},
   "outputs": [],
   "source": [
    "#ตอนแรกเข้าใจว่า ปี2021 น่าจะมียอดเยอะ แต่ปรากฎว่าปี 2022 มียอดเยอะกว่า \n",
    "#สาเหตุน่าจะมาจากตอนปี 2021 มีอัตราผู้เสียชีวิตเยอะ แต่ปี 2022 ยอดเยอะจริง แต่อาการไม่รุนแรง"
   ]
  },
  {
   "cell_type": "markdown",
   "id": "3600d66a",
   "metadata": {},
   "source": [
    "## 3. Thailand Top10 Risk"
   ]
  },
  {
   "cell_type": "code",
   "execution_count": 32,
   "id": "e8d820c0",
   "metadata": {},
   "outputs": [],
   "source": [
    "thai = df.loc[df[\"nationality\"] == \"thai\"]"
   ]
  },
  {
   "cell_type": "code",
   "execution_count": 33,
   "id": "425f0dbe",
   "metadata": {},
   "outputs": [
    {
     "data": {
      "text/html": [
       "<div>\n",
       "<style scoped>\n",
       "    .dataframe tbody tr th:only-of-type {\n",
       "        vertical-align: middle;\n",
       "    }\n",
       "\n",
       "    .dataframe tbody tr th {\n",
       "        vertical-align: top;\n",
       "    }\n",
       "\n",
       "    .dataframe thead th {\n",
       "        text-align: right;\n",
       "    }\n",
       "</style>\n",
       "<table border=\"1\" class=\"dataframe\">\n",
       "  <thead>\n",
       "    <tr style=\"text-align: right;\">\n",
       "      <th></th>\n",
       "      <th>count</th>\n",
       "    </tr>\n",
       "    <tr>\n",
       "      <th>risk</th>\n",
       "      <th></th>\n",
       "    </tr>\n",
       "  </thead>\n",
       "  <tbody>\n",
       "    <tr>\n",
       "      <th>สัมผัสใกล้ชิดกับผู้ป่วยยืนยันรายก่อนหน้านี้</th>\n",
       "      <td>11267</td>\n",
       "    </tr>\n",
       "    <tr>\n",
       "      <th>อื่นๆ</th>\n",
       "      <td>5341</td>\n",
       "    </tr>\n",
       "    <tr>\n",
       "      <th>การค้นหาผู้ป่วยเชิงรุกและค้นหาผู้ติดเชื้อในชุมชน</th>\n",
       "      <td>1646</td>\n",
       "    </tr>\n",
       "    <tr>\n",
       "      <th>ไปสถานที่ชุมชน เช่น ตลาดนัด สถานที่ท่องเที่ยว</th>\n",
       "      <td>865</td>\n",
       "    </tr>\n",
       "    <tr>\n",
       "      <th>อยู่ระหว่างการสอบสวน</th>\n",
       "      <td>626</td>\n",
       "    </tr>\n",
       "    <tr>\n",
       "      <th>ระบุไม่ได้</th>\n",
       "      <td>353</td>\n",
       "    </tr>\n",
       "    <tr>\n",
       "      <th>สถานที่ทำงาน</th>\n",
       "      <td>323</td>\n",
       "    </tr>\n",
       "    <tr>\n",
       "      <th>บุคลากรด้านการแพทย์และสาธารณสุข</th>\n",
       "      <td>77</td>\n",
       "    </tr>\n",
       "    <tr>\n",
       "      <th>พิธีกรรมทางศาสนา</th>\n",
       "      <td>52</td>\n",
       "    </tr>\n",
       "    <tr>\n",
       "      <th>ตรวจก่อนทำหัตถการ</th>\n",
       "      <td>25</td>\n",
       "    </tr>\n",
       "  </tbody>\n",
       "</table>\n",
       "</div>"
      ],
      "text/plain": [
       "                                                  count\n",
       "risk                                                   \n",
       "สัมผัสใกล้ชิดกับผู้ป่วยยืนยันรายก่อนหน้านี้       11267\n",
       "อื่นๆ                                              5341\n",
       "การค้นหาผู้ป่วยเชิงรุกและค้นหาผู้ติดเชื้อในชุมชน   1646\n",
       "ไปสถานที่ชุมชน เช่น ตลาดนัด สถานที่ท่องเที่ยว       865\n",
       "อยู่ระหว่างการสอบสวน                                626\n",
       "ระบุไม่ได้                                          353\n",
       "สถานที่ทำงาน                                        323\n",
       "บุคลากรด้านการแพทย์และสาธารณสุข                      77\n",
       "พิธีกรรมทางศาสนา                                     52\n",
       "ตรวจก่อนทำหัตถการ                                    25"
      ]
     },
     "execution_count": 33,
     "metadata": {},
     "output_type": "execute_result"
    }
   ],
   "source": [
    "thai.groupby(by=\"risk\").agg({\"count\":sum}).sort_values(\"count\", ascending=False).head(10) #before prep"
   ]
  },
  {
   "cell_type": "code",
   "execution_count": 34,
   "id": "adb3c16e",
   "metadata": {},
   "outputs": [],
   "source": [
    "Thai_risk = thai.groupby(by=\"risk\").agg({\"count\":sum}).sort_values(\"count\", ascending=False)"
   ]
  },
  {
   "cell_type": "code",
   "execution_count": 35,
   "id": "fef291fe",
   "metadata": {},
   "outputs": [],
   "source": [
    "Thai_risk = Thai_risk.drop(index=[\"อื่นๆ\", \"ระบุไม่ได้\", \"อยู่ระหว่างการสอบสวน\"]).head(5) #after prep"
   ]
  },
  {
   "cell_type": "code",
   "execution_count": 36,
   "id": "59fbfd77",
   "metadata": {},
   "outputs": [
    {
     "data": {
      "text/html": [
       "<div>\n",
       "<style scoped>\n",
       "    .dataframe tbody tr th:only-of-type {\n",
       "        vertical-align: middle;\n",
       "    }\n",
       "\n",
       "    .dataframe tbody tr th {\n",
       "        vertical-align: top;\n",
       "    }\n",
       "\n",
       "    .dataframe thead th {\n",
       "        text-align: right;\n",
       "    }\n",
       "</style>\n",
       "<table border=\"1\" class=\"dataframe\">\n",
       "  <thead>\n",
       "    <tr style=\"text-align: right;\">\n",
       "      <th></th>\n",
       "      <th>count</th>\n",
       "    </tr>\n",
       "    <tr>\n",
       "      <th>risk</th>\n",
       "      <th></th>\n",
       "    </tr>\n",
       "  </thead>\n",
       "  <tbody>\n",
       "    <tr>\n",
       "      <th>สัมผัสใกล้ชิดกับผู้ป่วยยืนยันรายก่อนหน้านี้</th>\n",
       "      <td>11267</td>\n",
       "    </tr>\n",
       "    <tr>\n",
       "      <th>การค้นหาผู้ป่วยเชิงรุกและค้นหาผู้ติดเชื้อในชุมชน</th>\n",
       "      <td>1646</td>\n",
       "    </tr>\n",
       "    <tr>\n",
       "      <th>ไปสถานที่ชุมชน เช่น ตลาดนัด สถานที่ท่องเที่ยว</th>\n",
       "      <td>865</td>\n",
       "    </tr>\n",
       "    <tr>\n",
       "      <th>สถานที่ทำงาน</th>\n",
       "      <td>323</td>\n",
       "    </tr>\n",
       "    <tr>\n",
       "      <th>บุคลากรด้านการแพทย์และสาธารณสุข</th>\n",
       "      <td>77</td>\n",
       "    </tr>\n",
       "  </tbody>\n",
       "</table>\n",
       "</div>"
      ],
      "text/plain": [
       "                                                  count\n",
       "risk                                                   \n",
       "สัมผัสใกล้ชิดกับผู้ป่วยยืนยันรายก่อนหน้านี้       11267\n",
       "การค้นหาผู้ป่วยเชิงรุกและค้นหาผู้ติดเชื้อในชุมชน   1646\n",
       "ไปสถานที่ชุมชน เช่น ตลาดนัด สถานที่ท่องเที่ยว       865\n",
       "สถานที่ทำงาน                                        323\n",
       "บุคลากรด้านการแพทย์และสาธารณสุข                      77"
      ]
     },
     "execution_count": 36,
     "metadata": {},
     "output_type": "execute_result"
    }
   ],
   "source": [
    "Thai_risk"
   ]
  },
  {
   "cell_type": "code",
   "execution_count": 37,
   "id": "3749ee81",
   "metadata": {},
   "outputs": [
    {
     "data": {
      "text/plain": [
       "risk\n",
       "สัมผัสใกล้ชิดกับผู้ป่วยยืนยันรายก่อนหน้านี้         11267\n",
       "การค้นหาผู้ป่วยเชิงรุกและค้นหาผู้ติดเชื้อในชุมชน     1646\n",
       "ไปสถานที่ชุมชน เช่น ตลาดนัด สถานที่ท่องเที่ยว         865\n",
       "สถานที่ทำงาน                                          323\n",
       "บุคลากรด้านการแพทย์และสาธารณสุข                        77\n",
       "Name: count, dtype: int64"
      ]
     },
     "execution_count": 37,
     "metadata": {},
     "output_type": "execute_result"
    }
   ],
   "source": [
    "Thai_risk[\"count\"]"
   ]
  },
  {
   "cell_type": "code",
   "execution_count": 38,
   "id": "a25eb742",
   "metadata": {},
   "outputs": [
    {
     "data": {
      "text/plain": [
       "Index(['สัมผัสใกล้ชิดกับผู้ป่วยยืนยันรายก่อนหน้านี้',\n",
       "       'การค้นหาผู้ป่วยเชิงรุกและค้นหาผู้ติดเชื้อในชุมชน',\n",
       "       'ไปสถานที่ชุมชน เช่น ตลาดนัด สถานที่ท่องเที่ยว', 'สถานที่ทำงาน',\n",
       "       'บุคลากรด้านการแพทย์และสาธารณสุข'],\n",
       "      dtype='object', name='risk')"
      ]
     },
     "execution_count": 38,
     "metadata": {},
     "output_type": "execute_result"
    }
   ],
   "source": [
    "Thai_risk.index"
   ]
  },
  {
   "cell_type": "code",
   "execution_count": 39,
   "id": "0fd56733",
   "metadata": {},
   "outputs": [],
   "source": [
    "#แก้ปัญหา font อ่านไทยไม่ออก"
   ]
  },
  {
   "cell_type": "code",
   "execution_count": 40,
   "id": "28e7b1e4",
   "metadata": {},
   "outputs": [],
   "source": [
    "font = {'family' : 'tahoma',\n",
    "        'weight' : 'normal',\n",
    "        'size'   : '15'}\n",
    "\n",
    "plt.rc(\"font\", **font)  # pass in the font dict as kwargs.\n",
    "#plt.rc(group, **kwargs)\n",
    "\n",
    "## The font.weight property has effectively 13 values: normal, bold,\n",
    "## bolder, lighter, 100, 200, 300, ..., 900.  Normal is the same as\n",
    "## 400, and bold is 700.  bolder and lighter are relative values with\n",
    "## respect to the current weight.\n",
    "\n",
    "## The font.size property is the default font size for text, given in points.\n",
    "## 10 pt is the standard value."
   ]
  },
  {
   "cell_type": "code",
   "execution_count": 41,
   "id": "59a4b5c2",
   "metadata": {},
   "outputs": [
    {
     "data": {
      "image/png": "[encoded data removed]",
      "text/plain": [
       "<Figure size 432x288 with 1 Axes>"
      ]
     },
     "metadata": {},
     "output_type": "display_data"
    }
   ],
   "source": [
    "# Pie chart, where the slices will be ordered and plotted counter-clockwise:\n",
    "labels = Thai_risk.index\n",
    "values = Thai_risk[\"count\"]\n",
    "\n",
    "fig1, ax1 = plt.subplots()\n",
    "ax1.pie(values\n",
    "        ,labels=labels\n",
    "        ,explode=(0,0,0,1,1)\n",
    "        ,autopct='%1.0f%%'   #str format\n",
    "        ,startangle=30   #The angle by which the start of the pie is rotated counterclockwise from the x-axis.\n",
    "        ,rotatelabels=True   #Rotate each label to the angle of the corresponding slice\n",
    "        ,labeldistance=None   #If set to None, label are not drawn, but are stored for use in legend()\n",
    "       )\n",
    "\n",
    "ax1.axis('equal')  # Equal aspect ratio ensures that pie is drawn as a circle.\n",
    "ax1.legend(loc='best', bbox_to_anchor=(1, 0.8)) # กำหนดตำแหน่งของกราฟ\n",
    "\n",
    "plt.show()"
   ]
  },
  {
   "cell_type": "markdown",
   "id": "9ada4fc5",
   "metadata": {},
   "source": [
    "# 3 Insight Question & Answers"
   ]
  },
  {
   "cell_type": "markdown",
   "id": "869603cb",
   "metadata": {},
   "source": [
    "## 1. Top 10 nationality\n",
    "> - without southeast asia countries"
   ]
  },
  {
   "cell_type": "code",
   "execution_count": 42,
   "id": "4c745891",
   "metadata": {},
   "outputs": [],
   "source": [
    "nation = df[\"nationality\"].value_counts().sort_values(ascending=False) #before prep"
   ]
  },
  {
   "cell_type": "code",
   "execution_count": 43,
   "id": "f12597f0",
   "metadata": {},
   "outputs": [
    {
     "data": {
      "text/plain": [
       "pandas.core.series.Series"
      ]
     },
     "execution_count": 43,
     "metadata": {},
     "output_type": "execute_result"
    }
   ],
   "source": [
    "type(nation)"
   ]
  },
  {
   "cell_type": "code",
   "execution_count": 44,
   "id": "2946fcd7",
   "metadata": {},
   "outputs": [
    {
     "data": {
      "text/plain": [
       "thailand      2765670\n",
       "other          288225\n",
       "burmese        133855\n",
       "cambodian       38984\n",
       "thai            20632\n",
       "burma           18827\n",
       "laotian          9035\n",
       "russian          3591\n",
       "british          1955\n",
       "chinese          1928\n",
       "american         1245\n",
       "german           1202\n",
       "french           1142\n",
       "indian           1121\n",
       "japanese          931\n",
       "cambodia          854\n",
       "laos              781\n",
       "australian        686\n",
       "swedish           645\n",
       "filipino          627\n",
       "Name: nationality, dtype: int64"
      ]
     },
     "execution_count": 44,
     "metadata": {},
     "output_type": "execute_result"
    }
   ],
   "source": [
    "nation.head(20)"
   ]
  },
  {
   "cell_type": "code",
   "execution_count": 45,
   "id": "bb32e708",
   "metadata": {},
   "outputs": [],
   "source": [
    "df.loc[df[\"nationality\"] == \"thailand\",\"nationality\"] = \"thai\"\n",
    "df.loc[df[\"nationality\"] == \"burma\",\"nationality\"] = \"burmese\"\n",
    "df.loc[df[\"nationality\"] == \"laos\",\"nationality\"] = \"laotian\"\n",
    "df.loc[df[\"nationality\"] == \"cambodia\",\"nationality\"] = \"cambodian\""
   ]
  },
  {
   "cell_type": "code",
   "execution_count": 46,
   "id": "ddc6ab9d",
   "metadata": {},
   "outputs": [],
   "source": [
    "nation = df[\"nationality\"].value_counts().sort_values(ascending=False) #after prep"
   ]
  },
  {
   "cell_type": "code",
   "execution_count": 47,
   "id": "896f1ec6",
   "metadata": {},
   "outputs": [],
   "source": [
    "Top10_nation = nation .drop(index=['thai', 'other', 'burmese', 'cambodian', 'laotian']).head(10)"
   ]
  },
  {
   "cell_type": "code",
   "execution_count": 48,
   "id": "31fd756b",
   "metadata": {},
   "outputs": [
    {
     "data": {
      "text/plain": [
       "russian       3591\n",
       "british       1955\n",
       "chinese       1928\n",
       "american      1245\n",
       "german        1202\n",
       "french        1142\n",
       "indian        1121\n",
       "japanese       931\n",
       "australian     686\n",
       "swedish        645\n",
       "Name: nationality, dtype: int64"
      ]
     },
     "execution_count": 48,
     "metadata": {},
     "output_type": "execute_result"
    }
   ],
   "source": [
    "Top10_nation #รายละเอียดตามนี้"
   ]
  },
  {
   "cell_type": "markdown",
   "id": "1b1000aa",
   "metadata": {},
   "source": [
    "## 2. Risk for Top 10 nationality\n",
    "> - without southeast asia countries"
   ]
  },
  {
   "cell_type": "code",
   "execution_count": 49,
   "id": "9c00bbba",
   "metadata": {},
   "outputs": [
    {
     "data": {
      "text/plain": [
       "Index(['russian', 'british', 'chinese', 'american', 'german', 'french',\n",
       "       'indian', 'japanese', 'australian', 'swedish'],\n",
       "      dtype='object')"
      ]
     },
     "execution_count": 49,
     "metadata": {},
     "output_type": "execute_result"
    }
   ],
   "source": [
    "Top10_nation.index"
   ]
  },
  {
   "cell_type": "code",
   "execution_count": 50,
   "id": "ddec5d05",
   "metadata": {},
   "outputs": [
    {
     "data": {
      "text/plain": [
       "0          False\n",
       "1          False\n",
       "2          False\n",
       "3          False\n",
       "4          False\n",
       "           ...  \n",
       "3303164    False\n",
       "3303165    False\n",
       "3303166    False\n",
       "3303167    False\n",
       "3303168    False\n",
       "Name: nationality, Length: 3303169, dtype: bool"
      ]
     },
     "execution_count": 50,
     "metadata": {},
     "output_type": "execute_result"
    }
   ],
   "source": [
    "df[\"nationality\"].isin(Top10_nation.index)"
   ]
  },
  {
   "cell_type": "code",
   "execution_count": 51,
   "id": "b7c00803",
   "metadata": {},
   "outputs": [],
   "source": [
    "R_10n = df.loc[df[\"nationality\"].isin(Top10_nation.index),\"risk\"]"
   ]
  },
  {
   "cell_type": "code",
   "execution_count": 52,
   "id": "5b011315",
   "metadata": {},
   "outputs": [
    {
     "data": {
      "text/plain": [
       "Phuket Sandbox                                                                    3826\n",
       "Test and Go                                                                       2880\n",
       "อื่นๆ                                                                             2414\n",
       "สัมผัสใกล้ชิดกับผู้ป่วยยืนยันรายก่อนหน้านี้                                       1782\n",
       "อยู่ระหว่างการสอบสวน                                                              1703\n",
       "ผู้ที่เดินทางมาจากต่างประเทศ และเข้า AQ                                            466\n",
       "ไปสถานที่ชุมชน เช่น ตลาดนัด สถานที่ท่องเที่ยว                                      348\n",
       "สถานที่ทำงาน                                                                       228\n",
       "Samui plus                                                                         151\n",
       "การค้นหาผู้ป่วยเชิงรุกและค้นหาผู้ติดเชื้อในชุมชน                                   147\n",
       "Chonburi Sandbox                                                                   144\n",
       "Phang Nga Sandbox                                                                   55\n",
       "ทัณฑสถาน/เรือนจำ                                                                    44\n",
       "ผู้ที่เดินทางมาจากต่างประเทศ และเข้า ASQ/ALQ                                        38\n",
       "ระบุไม่ได้                                                                          35\n",
       "Sandbox                                                                             33\n",
       "ตรวจก่อนทำหัตถการ                                                                   31\n",
       "ไปสถานที่แออัด เช่น งานแฟร์ คอนเสิร์ต                                               19\n",
       "State Quarantine                                                                    17\n",
       "BKK Sandbox                                                                         12\n",
       "Phunga Sandbox                                                                      12\n",
       "คนต่างชาติเดินทางมาจากต่างประเทศ                                                    11\n",
       "Krabi Sandbox                                                                       11\n",
       "อาชีพเสี่ยง เช่น ทำงานในสถานที่แออัด หรือทำงานใกล้ชิดสัมผัสชาวต่างชาติ เป็นต้น       7\n",
       "สถานบันเทิง                                                                          5\n",
       "ปอดอักเสบ (Pneumonia)                                                                5\n",
       "Prachuap Sandbox                                                                     4\n",
       "ผู้ที่เดินทางมาจากต่างประเทศ และเข้า HQ/AHQ                                          3\n",
       "สถานศึกษา                                                                            3\n",
       "บุคลากรด้านการแพทย์และสาธารณสุข                                                      3\n",
       "Samui Plus                                                                           2\n",
       "Phang nga Sandbox                                                                    2\n",
       "Rayong Sandbox                                                                       1\n",
       "Trat sandbox                                                                         1\n",
       "Krabi Sandbox                                                                        1\n",
       "Krabi sandbox                                                                        1\n",
       "Trat Sandbox                                                                         1\n",
       "Name: risk, dtype: int64"
      ]
     },
     "execution_count": 52,
     "metadata": {},
     "output_type": "execute_result"
    }
   ],
   "source": [
    "R_10n.value_counts() #เรามาดูสาเหตุต่อว่าเป็นนักที่ยว หรือ คนมาทำธุรกิจ ?"
   ]
  },
  {
   "cell_type": "markdown",
   "id": "86b58b5a",
   "metadata": {},
   "source": [
    "## 3. Average Age(ปี) of each risk\n",
    "- Remove age>1 and age<100\n",
    "- เนื่องจากพบการบันทึกอายุไม่ถูกต้อง"
   ]
  },
  {
   "cell_type": "code",
   "execution_count": 53,
   "id": "8c416773",
   "metadata": {},
   "outputs": [
    {
     "data": {
      "text/plain": [
       "count    3303169.00\n",
       "mean          32.50\n",
       "std           31.88\n",
       "min            0.00\n",
       "25%           19.00\n",
       "50%           31.00\n",
       "75%           46.00\n",
       "max        44899.00\n",
       "Name: age, dtype: float64"
      ]
     },
     "execution_count": 53,
     "metadata": {},
     "output_type": "execute_result"
    }
   ],
   "source": [
    "df[\"age\"].describe().round(decimals=2)"
   ]
  },
  {
   "cell_type": "code",
   "execution_count": 54,
   "id": "490af178",
   "metadata": {},
   "outputs": [],
   "source": [
    "c1 = df[\"age\"] > 1\n",
    "c2 = df[\"age\"] < 100"
   ]
  },
  {
   "cell_type": "code",
   "execution_count": 55,
   "id": "252b6129",
   "metadata": {},
   "outputs": [],
   "source": [
    "A_age = df.loc[c1 & c2]"
   ]
  },
  {
   "cell_type": "code",
   "execution_count": 56,
   "id": "2ebfd13f",
   "metadata": {},
   "outputs": [
    {
     "data": {
      "text/plain": [
       "count    3002951.00\n",
       "mean          35.72\n",
       "std           18.18\n",
       "min            1.10\n",
       "25%           23.00\n",
       "50%           34.00\n",
       "75%           48.00\n",
       "max           99.00\n",
       "Name: age, dtype: float64"
      ]
     },
     "execution_count": 56,
     "metadata": {},
     "output_type": "execute_result"
    }
   ],
   "source": [
    "A_age[\"age\"].describe().round(decimals=2)"
   ]
  },
  {
   "cell_type": "code",
   "execution_count": 57,
   "id": "c98c0e9d",
   "metadata": {},
   "outputs": [
    {
     "data": {
      "text/html": [
       "<div>\n",
       "<style scoped>\n",
       "    .dataframe tbody tr th:only-of-type {\n",
       "        vertical-align: middle;\n",
       "    }\n",
       "\n",
       "    .dataframe tbody tr th {\n",
       "        vertical-align: top;\n",
       "    }\n",
       "\n",
       "    .dataframe thead th {\n",
       "        text-align: right;\n",
       "    }\n",
       "</style>\n",
       "<table border=\"1\" class=\"dataframe\">\n",
       "  <thead>\n",
       "    <tr style=\"text-align: right;\">\n",
       "      <th></th>\n",
       "      <th>age</th>\n",
       "      <th>count</th>\n",
       "    </tr>\n",
       "    <tr>\n",
       "      <th>risk</th>\n",
       "      <th></th>\n",
       "      <th></th>\n",
       "    </tr>\n",
       "  </thead>\n",
       "  <tbody>\n",
       "    <tr>\n",
       "      <th>สัมผัสใกล้ชิดกับผู้ป่วยยืนยันรายก่อนหน้านี้</th>\n",
       "      <td>33.607712</td>\n",
       "      <td>1393527</td>\n",
       "    </tr>\n",
       "    <tr>\n",
       "      <th>อื่นๆ</th>\n",
       "      <td>31.958312</td>\n",
       "      <td>957988</td>\n",
       "    </tr>\n",
       "    <tr>\n",
       "      <th>อยู่ระหว่างการสอบสวน</th>\n",
       "      <td>29.965663</td>\n",
       "      <td>293199</td>\n",
       "    </tr>\n",
       "    <tr>\n",
       "      <th>การค้นหาผู้ป่วยเชิงรุกและค้นหาผู้ติดเชื้อในชุมชน</th>\n",
       "      <td>32.950818</td>\n",
       "      <td>251745</td>\n",
       "    </tr>\n",
       "    <tr>\n",
       "      <th>ทัณฑสถาน/เรือนจำ</th>\n",
       "      <td>24.319894</td>\n",
       "      <td>93112</td>\n",
       "    </tr>\n",
       "    <tr>\n",
       "      <th>สถานที่ทำงาน</th>\n",
       "      <td>32.453588</td>\n",
       "      <td>91775</td>\n",
       "    </tr>\n",
       "    <tr>\n",
       "      <th>ไปสถานที่ชุมชน เช่น ตลาดนัด สถานที่ท่องเที่ยว</th>\n",
       "      <td>36.928322</td>\n",
       "      <td>77625</td>\n",
       "    </tr>\n",
       "    <tr>\n",
       "      <th>ระบุไม่ได้</th>\n",
       "      <td>32.954441</td>\n",
       "      <td>37055</td>\n",
       "    </tr>\n",
       "    <tr>\n",
       "      <th>บุคลากรด้านการแพทย์และสาธารณสุข</th>\n",
       "      <td>34.851088</td>\n",
       "      <td>20255</td>\n",
       "    </tr>\n",
       "    <tr>\n",
       "      <th>Cluster สมุทรสาคร</th>\n",
       "      <td>26.533408</td>\n",
       "      <td>17900</td>\n",
       "    </tr>\n",
       "  </tbody>\n",
       "</table>\n",
       "</div>"
      ],
      "text/plain": [
       "                                                        age    count\n",
       "risk                                                                \n",
       "สัมผัสใกล้ชิดกับผู้ป่วยยืนยันรายก่อนหน้านี้       33.607712  1393527\n",
       "อื่นๆ                                             31.958312   957988\n",
       "อยู่ระหว่างการสอบสวน                              29.965663   293199\n",
       "การค้นหาผู้ป่วยเชิงรุกและค้นหาผู้ติดเชื้อในชุมชน  32.950818   251745\n",
       "ทัณฑสถาน/เรือนจำ                                  24.319894    93112\n",
       "สถานที่ทำงาน                                      32.453588    91775\n",
       "ไปสถานที่ชุมชน เช่น ตลาดนัด สถานที่ท่องเที่ยว     36.928322    77625\n",
       "ระบุไม่ได้                                        32.954441    37055\n",
       "บุคลากรด้านการแพทย์และสาธารณสุข                   34.851088    20255\n",
       "Cluster สมุทรสาคร                                 26.533408    17900"
      ]
     },
     "execution_count": 57,
     "metadata": {},
     "output_type": "execute_result"
    }
   ],
   "source": [
    "r_10 = df.groupby(by=\"risk\").agg({\"age\":\"mean\",\"count\":sum}).sort_values(by=\"count\", ascending=False).head(10)\n",
    "r_10\n",
    "#ทัณฑสถาน/เรือนจำ อายุเฉลี่ยต่ำกว่า บุคลากรด้านการแพทย์"
   ]
  },
  {
   "cell_type": "code",
   "execution_count": 58,
   "id": "2f8f205f",
   "metadata": {},
   "outputs": [],
   "source": [
    "r1 = df.loc[df[\"risk\"].isin(r_10.index),[\"risk\",\"age\"]]"
   ]
  },
  {
   "cell_type": "code",
   "execution_count": 59,
   "id": "cb57a190",
   "metadata": {},
   "outputs": [
    {
     "data": {
      "text/plain": [
       "age    AxesSubplot(0.125,0.125;0.775x0.755)\n",
       "dtype: object"
      ]
     },
     "execution_count": 59,
     "metadata": {},
     "output_type": "execute_result"
    },
    {
     "data": {
      "image/png": "[encoded data removed]",
      "text/plain": [
       "<Figure size 432x288 with 1 Axes>"
      ]
     },
     "metadata": {
      "needs_background": "light"
     },
     "output_type": "display_data"
    }
   ],
   "source": [
    "r1.plot.box(vert = False, column=\"age\", by=\"risk\", sym=\"r*\") #มี flier point หลุดไป 4พันกว่า"
   ]
  },
  {
   "cell_type": "code",
   "execution_count": 60,
   "id": "57896bdd",
   "metadata": {},
   "outputs": [
    {
     "data": {
      "text/plain": [
       "age    AxesSubplot(0.125,0.125;0.775x0.755)\n",
       "dtype: object"
      ]
     },
     "execution_count": 60,
     "metadata": {},
     "output_type": "execute_result"
    },
    {
     "data": {
      "image/png": "[encoded data removed]",
      "text/plain": [
       "<Figure size 432x288 with 1 Axes>"
      ]
     },
     "metadata": {
      "needs_background": "light"
     },
     "output_type": "display_data"
    }
   ],
   "source": [
    "r1.plot.box(vert = False, column=\"age\", by=\"risk\", sym=\"r*\", xlim=(0,150))"
   ]
  },
  {
   "cell_type": "code",
   "execution_count": 61,
   "id": "f15f0c41",
   "metadata": {},
   "outputs": [
    {
     "data": {
      "text/plain": [
       "age    AxesSubplot(0.125,0.125;0.775x0.755)\n",
       "dtype: object"
      ]
     },
     "execution_count": 61,
     "metadata": {},
     "output_type": "execute_result"
    },
    {
     "data": {
      "image/png": "[encoded data removed]",
      "text/plain": [
       "<Figure size 432x288 with 1 Axes>"
      ]
     },
     "metadata": {
      "needs_background": "light"
     },
     "output_type": "display_data"
    }
   ],
   "source": [
    "r1.plot.box(vert = False, column=\"age\", by=\"risk\", showfliers=False)\n",
    "\n",
    "#เลือกไม่โชว์ flier\n",
    "#min-Q1-median-Q3-max"
   ]
  },
  {
   "cell_type": "markdown",
   "id": "9beb99b1",
   "metadata": {},
   "source": [
    "# "
   ]
  },
  {
   "cell_type": "markdown",
   "id": "f2f62e27",
   "metadata": {},
   "source": [
    "- ดูต่อว่ากลุ่มผู้สูงอายุ (Age > 60) และ สัญญชาติไทย (thai) มีสาเหตุมาจากการคนใกล้ชิด หรือไม่"
   ]
  },
  {
   "cell_type": "code",
   "execution_count": 62,
   "id": "2bfcb347",
   "metadata": {},
   "outputs": [
    {
     "data": {
      "text/plain": [
       "thai         2786302\n",
       "other         288225\n",
       "burmese       152682\n",
       "cambodian      39838\n",
       "laotian         9816\n",
       "Name: nationality, dtype: int64"
      ]
     },
     "execution_count": 62,
     "metadata": {},
     "output_type": "execute_result"
    }
   ],
   "source": [
    "nation.head() #คนไทย 2.7 ล้านคน"
   ]
  },
  {
   "cell_type": "code",
   "execution_count": 63,
   "id": "38046680",
   "metadata": {},
   "outputs": [
    {
     "data": {
      "text/html": [
       "<div>\n",
       "<style scoped>\n",
       "    .dataframe tbody tr th:only-of-type {\n",
       "        vertical-align: middle;\n",
       "    }\n",
       "\n",
       "    .dataframe tbody tr th {\n",
       "        vertical-align: top;\n",
       "    }\n",
       "\n",
       "    .dataframe thead th {\n",
       "        text-align: right;\n",
       "    }\n",
       "</style>\n",
       "<table border=\"1\" class=\"dataframe\">\n",
       "  <thead>\n",
       "    <tr style=\"text-align: right;\">\n",
       "      <th></th>\n",
       "      <th>no.</th>\n",
       "      <th>announce_date</th>\n",
       "      <th>notified_date</th>\n",
       "      <th>sex</th>\n",
       "      <th>age</th>\n",
       "      <th>unit</th>\n",
       "      <th>nationality</th>\n",
       "      <th>province_of_isolation</th>\n",
       "      <th>risk</th>\n",
       "      <th>province_of_onset</th>\n",
       "      <th>district_of_onset</th>\n",
       "      <th>count</th>\n",
       "    </tr>\n",
       "  </thead>\n",
       "  <tbody>\n",
       "    <tr>\n",
       "      <th>2</th>\n",
       "      <td>3</td>\n",
       "      <td>2020-01-22</td>\n",
       "      <td>2020-01-22</td>\n",
       "      <td>Female</td>\n",
       "      <td>73.0</td>\n",
       "      <td>ปี</td>\n",
       "      <td>thai</td>\n",
       "      <td>นครปฐม</td>\n",
       "      <td>คนต่างชาติเดินทางมาจากต่างประเทศ</td>\n",
       "      <td>นครปฐม</td>\n",
       "      <td>เมือง</td>\n",
       "      <td>1</td>\n",
       "    </tr>\n",
       "    <tr>\n",
       "      <th>24</th>\n",
       "      <td>25</td>\n",
       "      <td>2020-02-04</td>\n",
       "      <td>2020-02-04</td>\n",
       "      <td>Male</td>\n",
       "      <td>70.0</td>\n",
       "      <td>ปี</td>\n",
       "      <td>thai</td>\n",
       "      <td>สมุทรปราการ</td>\n",
       "      <td>อาชีพเสี่ยง เช่น ทำงานในสถานที่แออัด หรือทำงาน...</td>\n",
       "      <td>สมุทรปราการ</td>\n",
       "      <td>NaN</td>\n",
       "      <td>1</td>\n",
       "    </tr>\n",
       "    <tr>\n",
       "      <th>37</th>\n",
       "      <td>38</td>\n",
       "      <td>2020-02-26</td>\n",
       "      <td>2020-02-26</td>\n",
       "      <td>Male</td>\n",
       "      <td>64.0</td>\n",
       "      <td>ปี</td>\n",
       "      <td>thai</td>\n",
       "      <td>กรุงเทพ</td>\n",
       "      <td>คนไทยเดินทางกลับจากต่างประเทศ</td>\n",
       "      <td>กรุงเทพมหานคร</td>\n",
       "      <td>ดอนเมือง</td>\n",
       "      <td>1</td>\n",
       "    </tr>\n",
       "    <tr>\n",
       "      <th>38</th>\n",
       "      <td>39</td>\n",
       "      <td>2020-02-26</td>\n",
       "      <td>2020-02-26</td>\n",
       "      <td>Female</td>\n",
       "      <td>62.0</td>\n",
       "      <td>ปี</td>\n",
       "      <td>thai</td>\n",
       "      <td>กรุงเทพ</td>\n",
       "      <td>สัมผัสใกล้ชิดกับผู้ป่วยยืนยันรายก่อนหน้านี้</td>\n",
       "      <td>กรุงเทพมหานคร</td>\n",
       "      <td>ดอนเมือง</td>\n",
       "      <td>1</td>\n",
       "    </tr>\n",
       "    <tr>\n",
       "      <th>75</th>\n",
       "      <td>76</td>\n",
       "      <td>2020-03-14</td>\n",
       "      <td>2020-03-14</td>\n",
       "      <td>Female</td>\n",
       "      <td>63.0</td>\n",
       "      <td>ปี</td>\n",
       "      <td>thai</td>\n",
       "      <td>กรุงเทพ</td>\n",
       "      <td>สัมผัสใกล้ชิดกับผู้ป่วยยืนยันรายก่อนหน้านี้</td>\n",
       "      <td>กรุงเทพมหานคร</td>\n",
       "      <td>NaN</td>\n",
       "      <td>1</td>\n",
       "    </tr>\n",
       "    <tr>\n",
       "      <th>...</th>\n",
       "      <td>...</td>\n",
       "      <td>...</td>\n",
       "      <td>...</td>\n",
       "      <td>...</td>\n",
       "      <td>...</td>\n",
       "      <td>...</td>\n",
       "      <td>...</td>\n",
       "      <td>...</td>\n",
       "      <td>...</td>\n",
       "      <td>...</td>\n",
       "      <td>...</td>\n",
       "      <td>...</td>\n",
       "    </tr>\n",
       "    <tr>\n",
       "      <th>3302983</th>\n",
       "      <td>3302984</td>\n",
       "      <td>2022-03-18</td>\n",
       "      <td>2022-03-17</td>\n",
       "      <td>Female</td>\n",
       "      <td>74.0</td>\n",
       "      <td>ปี</td>\n",
       "      <td>thai</td>\n",
       "      <td>กรุงเทพ</td>\n",
       "      <td>สัมผัสใกล้ชิดกับผู้ป่วยยืนยันรายก่อนหน้านี้</td>\n",
       "      <td>กรุงเทพมหานคร</td>\n",
       "      <td>บางกะปิ</td>\n",
       "      <td>1</td>\n",
       "    </tr>\n",
       "    <tr>\n",
       "      <th>3302990</th>\n",
       "      <td>3302991</td>\n",
       "      <td>2022-03-18</td>\n",
       "      <td>2022-03-17</td>\n",
       "      <td>Female</td>\n",
       "      <td>69.0</td>\n",
       "      <td>ปี</td>\n",
       "      <td>thai</td>\n",
       "      <td>กรุงเทพ</td>\n",
       "      <td>อื่นๆ</td>\n",
       "      <td>กรุงเทพมหานคร</td>\n",
       "      <td>ยานนาวา</td>\n",
       "      <td>1</td>\n",
       "    </tr>\n",
       "    <tr>\n",
       "      <th>3302996</th>\n",
       "      <td>3302997</td>\n",
       "      <td>2022-03-18</td>\n",
       "      <td>2022-03-17</td>\n",
       "      <td>Male</td>\n",
       "      <td>62.0</td>\n",
       "      <td>ปี</td>\n",
       "      <td>thai</td>\n",
       "      <td>กรุงเทพ</td>\n",
       "      <td>อื่นๆ</td>\n",
       "      <td>กรุงเทพมหานคร</td>\n",
       "      <td>พระนคร</td>\n",
       "      <td>1</td>\n",
       "    </tr>\n",
       "    <tr>\n",
       "      <th>3302999</th>\n",
       "      <td>3303000</td>\n",
       "      <td>2022-03-18</td>\n",
       "      <td>2022-03-17</td>\n",
       "      <td>Male</td>\n",
       "      <td>75.0</td>\n",
       "      <td>ปี</td>\n",
       "      <td>thai</td>\n",
       "      <td>กรุงเทพ</td>\n",
       "      <td>สัมผัสใกล้ชิดกับผู้ป่วยยืนยันรายก่อนหน้านี้</td>\n",
       "      <td>กรุงเทพมหานคร</td>\n",
       "      <td>พระโขนง</td>\n",
       "      <td>1</td>\n",
       "    </tr>\n",
       "    <tr>\n",
       "      <th>3303010</th>\n",
       "      <td>3303011</td>\n",
       "      <td>2022-03-18</td>\n",
       "      <td>2022-03-17</td>\n",
       "      <td>Female</td>\n",
       "      <td>62.0</td>\n",
       "      <td>ปี</td>\n",
       "      <td>thai</td>\n",
       "      <td>กรุงเทพ</td>\n",
       "      <td>ไปสถานที่ชุมชน เช่น ตลาดนัด สถานที่ท่องเที่ยว</td>\n",
       "      <td>กรุงเทพมหานคร</td>\n",
       "      <td>สายไหม</td>\n",
       "      <td>1</td>\n",
       "    </tr>\n",
       "  </tbody>\n",
       "</table>\n",
       "<p>274866 rows × 12 columns</p>\n",
       "</div>"
      ],
      "text/plain": [
       "             no. announce_date notified_date     sex   age unit nationality  \\\n",
       "2              3    2020-01-22    2020-01-22  Female  73.0   ปี        thai   \n",
       "24            25    2020-02-04    2020-02-04    Male  70.0   ปี        thai   \n",
       "37            38    2020-02-26    2020-02-26    Male  64.0   ปี        thai   \n",
       "38            39    2020-02-26    2020-02-26  Female  62.0   ปี        thai   \n",
       "75            76    2020-03-14    2020-03-14  Female  63.0   ปี        thai   \n",
       "...          ...           ...           ...     ...   ...  ...         ...   \n",
       "3302983  3302984    2022-03-18    2022-03-17  Female  74.0   ปี        thai   \n",
       "3302990  3302991    2022-03-18    2022-03-17  Female  69.0   ปี        thai   \n",
       "3302996  3302997    2022-03-18    2022-03-17    Male  62.0   ปี        thai   \n",
       "3302999  3303000    2022-03-18    2022-03-17    Male  75.0   ปี        thai   \n",
       "3303010  3303011    2022-03-18    2022-03-17  Female  62.0   ปี        thai   \n",
       "\n",
       "        province_of_isolation  \\\n",
       "2                      นครปฐม   \n",
       "24                สมุทรปราการ   \n",
       "37                    กรุงเทพ   \n",
       "38                    กรุงเทพ   \n",
       "75                    กรุงเทพ   \n",
       "...                       ...   \n",
       "3302983               กรุงเทพ   \n",
       "3302990               กรุงเทพ   \n",
       "3302996               กรุงเทพ   \n",
       "3302999               กรุงเทพ   \n",
       "3303010               กรุงเทพ   \n",
       "\n",
       "                                                      risk province_of_onset  \\\n",
       "2                         คนต่างชาติเดินทางมาจากต่างประเทศ            นครปฐม   \n",
       "24       อาชีพเสี่ยง เช่น ทำงานในสถานที่แออัด หรือทำงาน...       สมุทรปราการ   \n",
       "37                           คนไทยเดินทางกลับจากต่างประเทศ     กรุงเทพมหานคร   \n",
       "38             สัมผัสใกล้ชิดกับผู้ป่วยยืนยันรายก่อนหน้านี้     กรุงเทพมหานคร   \n",
       "75             สัมผัสใกล้ชิดกับผู้ป่วยยืนยันรายก่อนหน้านี้     กรุงเทพมหานคร   \n",
       "...                                                    ...               ...   \n",
       "3302983        สัมผัสใกล้ชิดกับผู้ป่วยยืนยันรายก่อนหน้านี้     กรุงเทพมหานคร   \n",
       "3302990                                              อื่นๆ     กรุงเทพมหานคร   \n",
       "3302996                                              อื่นๆ     กรุงเทพมหานคร   \n",
       "3302999        สัมผัสใกล้ชิดกับผู้ป่วยยืนยันรายก่อนหน้านี้     กรุงเทพมหานคร   \n",
       "3303010      ไปสถานที่ชุมชน เช่น ตลาดนัด สถานที่ท่องเที่ยว     กรุงเทพมหานคร   \n",
       "\n",
       "        district_of_onset  count  \n",
       "2                   เมือง      1  \n",
       "24                    NaN      1  \n",
       "37               ดอนเมือง      1  \n",
       "38               ดอนเมือง      1  \n",
       "75                    NaN      1  \n",
       "...                   ...    ...  \n",
       "3302983           บางกะปิ      1  \n",
       "3302990           ยานนาวา      1  \n",
       "3302996            พระนคร      1  \n",
       "3302999           พระโขนง      1  \n",
       "3303010            สายไหม      1  \n",
       "\n",
       "[274866 rows x 12 columns]"
      ]
     },
     "execution_count": 63,
     "metadata": {},
     "output_type": "execute_result"
    }
   ],
   "source": [
    "t_1 = A_age[\"age\"] > 60   #จาก 1-100 เรามา filter คนที่มีอายุมากกว่า 60\n",
    "t_2 = A_age[\"nationality\"] == \"thai\" \n",
    "elder = A_age.loc[t_1 & t_2]\n",
    "elder # 0.27 ล้านคน"
   ]
  },
  {
   "cell_type": "code",
   "execution_count": 64,
   "id": "fdfdba7c",
   "metadata": {},
   "outputs": [],
   "source": [
    "#df.loc[df[\"nationality\"] == \"thai\", \"age\"].describe().round(2)\n",
    "#อายุเฉลี่ยคนไทยที่ติดโควิท"
   ]
  },
  {
   "cell_type": "code",
   "execution_count": 65,
   "id": "b7881897",
   "metadata": {},
   "outputs": [],
   "source": [
    "elder = elder.groupby(\"risk\").agg({\"count\":sum}).sort_values(by=\"count\", ascending=False)"
   ]
  },
  {
   "cell_type": "code",
   "execution_count": 66,
   "id": "5f9d8742",
   "metadata": {},
   "outputs": [],
   "source": [
    "elder.drop(index=\"อื่นๆ\", inplace=True)"
   ]
  },
  {
   "cell_type": "code",
   "execution_count": 67,
   "id": "6f1d721b",
   "metadata": {},
   "outputs": [
    {
     "data": {
      "text/html": [
       "<div>\n",
       "<style scoped>\n",
       "    .dataframe tbody tr th:only-of-type {\n",
       "        vertical-align: middle;\n",
       "    }\n",
       "\n",
       "    .dataframe tbody tr th {\n",
       "        vertical-align: top;\n",
       "    }\n",
       "\n",
       "    .dataframe thead th {\n",
       "        text-align: right;\n",
       "    }\n",
       "</style>\n",
       "<table border=\"1\" class=\"dataframe\">\n",
       "  <thead>\n",
       "    <tr style=\"text-align: right;\">\n",
       "      <th></th>\n",
       "      <th>count</th>\n",
       "    </tr>\n",
       "    <tr>\n",
       "      <th>risk</th>\n",
       "      <th></th>\n",
       "    </tr>\n",
       "  </thead>\n",
       "  <tbody>\n",
       "    <tr>\n",
       "      <th>สัมผัสใกล้ชิดกับผู้ป่วยยืนยันรายก่อนหน้านี้</th>\n",
       "      <td>137808</td>\n",
       "    </tr>\n",
       "    <tr>\n",
       "      <th>อยู่ระหว่างการสอบสวน</th>\n",
       "      <td>20484</td>\n",
       "    </tr>\n",
       "    <tr>\n",
       "      <th>การค้นหาผู้ป่วยเชิงรุกและค้นหาผู้ติดเชื้อในชุมชน</th>\n",
       "      <td>17215</td>\n",
       "    </tr>\n",
       "    <tr>\n",
       "      <th>ไปสถานที่ชุมชน เช่น ตลาดนัด สถานที่ท่องเที่ยว</th>\n",
       "      <td>6778</td>\n",
       "    </tr>\n",
       "    <tr>\n",
       "      <th>ระบุไม่ได้</th>\n",
       "      <td>3577</td>\n",
       "    </tr>\n",
       "    <tr>\n",
       "      <th>...</th>\n",
       "      <td>...</td>\n",
       "    </tr>\n",
       "    <tr>\n",
       "      <th>ปอดอักเสบ Pneumonia</th>\n",
       "      <td>1</td>\n",
       "    </tr>\n",
       "    <tr>\n",
       "      <th>Sandbox</th>\n",
       "      <td>1</td>\n",
       "    </tr>\n",
       "    <tr>\n",
       "      <th>Songkhla Sandbok</th>\n",
       "      <td>1</td>\n",
       "    </tr>\n",
       "    <tr>\n",
       "      <th>Surin Sandbox</th>\n",
       "      <td>1</td>\n",
       "    </tr>\n",
       "    <tr>\n",
       "      <th>ตรวจก่อนทำหัถตการ</th>\n",
       "      <td>1</td>\n",
       "    </tr>\n",
       "  </tbody>\n",
       "</table>\n",
       "<p>74 rows × 1 columns</p>\n",
       "</div>"
      ],
      "text/plain": [
       "                                                   count\n",
       "risk                                                    \n",
       "สัมผัสใกล้ชิดกับผู้ป่วยยืนยันรายก่อนหน้านี้       137808\n",
       "อยู่ระหว่างการสอบสวน                               20484\n",
       "การค้นหาผู้ป่วยเชิงรุกและค้นหาผู้ติดเชื้อในชุมชน   17215\n",
       "ไปสถานที่ชุมชน เช่น ตลาดนัด สถานที่ท่องเที่ยว       6778\n",
       "ระบุไม่ได้                                          3577\n",
       "...                                                  ...\n",
       "ปอดอักเสบ Pneumonia                                    1\n",
       "Sandbox                                                1\n",
       "Songkhla Sandbok                                       1\n",
       "Surin Sandbox                                          1\n",
       "ตรวจก่อนทำหัถตการ                                      1\n",
       "\n",
       "[74 rows x 1 columns]"
      ]
     },
     "execution_count": 67,
     "metadata": {},
     "output_type": "execute_result"
    }
   ],
   "source": [
    "elder #ตอบ ใช่"
   ]
  },
  {
   "cell_type": "code",
   "execution_count": 68,
   "id": "d50d80e6",
   "metadata": {},
   "outputs": [
    {
     "data": {
      "text/html": [
       "<div>\n",
       "<style scoped>\n",
       "    .dataframe tbody tr th:only-of-type {\n",
       "        vertical-align: middle;\n",
       "    }\n",
       "\n",
       "    .dataframe tbody tr th {\n",
       "        vertical-align: top;\n",
       "    }\n",
       "\n",
       "    .dataframe thead th {\n",
       "        text-align: right;\n",
       "    }\n",
       "</style>\n",
       "<table border=\"1\" class=\"dataframe\">\n",
       "  <thead>\n",
       "    <tr style=\"text-align: right;\">\n",
       "      <th></th>\n",
       "      <th>count</th>\n",
       "    </tr>\n",
       "    <tr>\n",
       "      <th>risk</th>\n",
       "      <th></th>\n",
       "    </tr>\n",
       "  </thead>\n",
       "  <tbody>\n",
       "    <tr>\n",
       "      <th>สัมผัสใกล้ชิดกับผู้ป่วยยืนยันรายก่อนหน้านี้</th>\n",
       "      <td>71.388313</td>\n",
       "    </tr>\n",
       "    <tr>\n",
       "      <th>อยู่ระหว่างการสอบสวน</th>\n",
       "      <td>10.611272</td>\n",
       "    </tr>\n",
       "    <tr>\n",
       "      <th>การค้นหาผู้ป่วยเชิงรุกและค้นหาผู้ติดเชื้อในชุมชน</th>\n",
       "      <td>8.917841</td>\n",
       "    </tr>\n",
       "    <tr>\n",
       "      <th>ไปสถานที่ชุมชน เช่น ตลาดนัด สถานที่ท่องเที่ยว</th>\n",
       "      <td>3.511189</td>\n",
       "    </tr>\n",
       "    <tr>\n",
       "      <th>ระบุไม่ได้</th>\n",
       "      <td>1.852984</td>\n",
       "    </tr>\n",
       "    <tr>\n",
       "      <th>...</th>\n",
       "      <td>...</td>\n",
       "    </tr>\n",
       "    <tr>\n",
       "      <th>ปอดอักเสบ Pneumonia</th>\n",
       "      <td>0.000518</td>\n",
       "    </tr>\n",
       "    <tr>\n",
       "      <th>Sandbox</th>\n",
       "      <td>0.000518</td>\n",
       "    </tr>\n",
       "    <tr>\n",
       "      <th>Songkhla Sandbok</th>\n",
       "      <td>0.000518</td>\n",
       "    </tr>\n",
       "    <tr>\n",
       "      <th>Surin Sandbox</th>\n",
       "      <td>0.000518</td>\n",
       "    </tr>\n",
       "    <tr>\n",
       "      <th>ตรวจก่อนทำหัถตการ</th>\n",
       "      <td>0.000518</td>\n",
       "    </tr>\n",
       "  </tbody>\n",
       "</table>\n",
       "<p>74 rows × 1 columns</p>\n",
       "</div>"
      ],
      "text/plain": [
       "                                                      count\n",
       "risk                                                       \n",
       "สัมผัสใกล้ชิดกับผู้ป่วยยืนยันรายก่อนหน้านี้       71.388313\n",
       "อยู่ระหว่างการสอบสวน                              10.611272\n",
       "การค้นหาผู้ป่วยเชิงรุกและค้นหาผู้ติดเชื้อในชุมชน   8.917841\n",
       "ไปสถานที่ชุมชน เช่น ตลาดนัด สถานที่ท่องเที่ยว      3.511189\n",
       "ระบุไม่ได้                                         1.852984\n",
       "...                                                     ...\n",
       "ปอดอักเสบ Pneumonia                                0.000518\n",
       "Sandbox                                            0.000518\n",
       "Songkhla Sandbok                                   0.000518\n",
       "Surin Sandbox                                      0.000518\n",
       "ตรวจก่อนทำหัถตการ                                  0.000518\n",
       "\n",
       "[74 rows x 1 columns]"
      ]
     },
     "execution_count": 68,
     "metadata": {},
     "output_type": "execute_result"
    }
   ],
   "source": [
    "elder.apply(lambda x : (x / float(elder.sum()) *100)) #เพื่อให้เห็นภาพชัดขึ้น ...คิดเป็น 71%   #ใช้ .apply() method"
   ]
  },
  {
   "cell_type": "code",
   "execution_count": null,
   "id": "58eb9b0c",
   "metadata": {},
   "outputs": [],
   "source": []
  }
 ],
 "metadata": {
  "kernelspec": {
   "display_name": "Python 3 (ipykernel)",
   "language": "python",
   "name": "python3"
  },
  "language_info": {
   "codemirror_mode": {
    "name": "ipython",
    "version": 3
   },
   "file_extension": ".py",
   "mimetype": "text/x-python",
   "name": "python",
   "nbconvert_exporter": "python",
   "pygments_lexer": "ipython3",
   "version": "3.8.12"
  }
 },
 "nbformat": 4,
 "nbformat_minor": 5
}
