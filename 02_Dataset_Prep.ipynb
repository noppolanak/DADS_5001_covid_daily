{
 "cells": [
  {
   "cell_type": "code",
   "execution_count": 1,
   "id": "60eedbcf",
   "metadata": {},
   "outputs": [],
   "source": [
    "import pandas as pd\n",
    "df = pd.read_pickle(\"dataset_all.pkl\")"
   ]
  },
  {
   "cell_type": "code",
   "execution_count": 2,
   "id": "de60e501",
   "metadata": {},
   "outputs": [
    {
     "data": {
      "text/plain": [
       "(3325951, 11)"
      ]
     },
     "execution_count": 2,
     "metadata": {},
     "output_type": "execute_result"
    }
   ],
   "source": [
    "df.shape"
   ]
  },
  {
   "cell_type": "code",
   "execution_count": 3,
   "id": "2ef01e41",
   "metadata": {},
   "outputs": [
    {
     "data": {
      "text/html": [
       "<div>\n",
       "<style scoped>\n",
       "    .dataframe tbody tr th:only-of-type {\n",
       "        vertical-align: middle;\n",
       "    }\n",
       "\n",
       "    .dataframe tbody tr th {\n",
       "        vertical-align: top;\n",
       "    }\n",
       "\n",
       "    .dataframe thead th {\n",
       "        text-align: right;\n",
       "    }\n",
       "</style>\n",
       "<table border=\"1\" class=\"dataframe\">\n",
       "  <thead>\n",
       "    <tr style=\"text-align: right;\">\n",
       "      <th></th>\n",
       "      <th>no.</th>\n",
       "      <th>announce_date</th>\n",
       "      <th>notified_date</th>\n",
       "      <th>sex</th>\n",
       "      <th>age</th>\n",
       "      <th>unit</th>\n",
       "      <th>nationality</th>\n",
       "      <th>province_of_isolation</th>\n",
       "      <th>risk</th>\n",
       "      <th>province_of_onset</th>\n",
       "      <th>district_of_onset</th>\n",
       "    </tr>\n",
       "  </thead>\n",
       "  <tbody>\n",
       "    <tr>\n",
       "      <th>0</th>\n",
       "      <td>1</td>\n",
       "      <td>12/1/2020</td>\n",
       "      <td>NaN</td>\n",
       "      <td>หญิง</td>\n",
       "      <td>61</td>\n",
       "      <td>ปี</td>\n",
       "      <td>China</td>\n",
       "      <td>กรุงเทพมหานคร</td>\n",
       "      <td>คนต่างชาติเดินทางมาจากต่างประเทศ</td>\n",
       "      <td>กรุงเทพมหานคร</td>\n",
       "      <td>NaN</td>\n",
       "    </tr>\n",
       "    <tr>\n",
       "      <th>1</th>\n",
       "      <td>2</td>\n",
       "      <td>17/1/2020</td>\n",
       "      <td>NaN</td>\n",
       "      <td>หญิง</td>\n",
       "      <td>74</td>\n",
       "      <td>ปี</td>\n",
       "      <td>China</td>\n",
       "      <td>กรุงเทพมหานคร</td>\n",
       "      <td>คนต่างชาติเดินทางมาจากต่างประเทศ</td>\n",
       "      <td>กรุงเทพมหานคร</td>\n",
       "      <td>NaN</td>\n",
       "    </tr>\n",
       "    <tr>\n",
       "      <th>2</th>\n",
       "      <td>3</td>\n",
       "      <td>22/1/2020</td>\n",
       "      <td>NaN</td>\n",
       "      <td>หญิง</td>\n",
       "      <td>73</td>\n",
       "      <td>ปี</td>\n",
       "      <td>Thailand</td>\n",
       "      <td>นครปฐม</td>\n",
       "      <td>คนต่างชาติเดินทางมาจากต่างประเทศ</td>\n",
       "      <td>นครปฐม</td>\n",
       "      <td>เมือง</td>\n",
       "    </tr>\n",
       "    <tr>\n",
       "      <th>3</th>\n",
       "      <td>4</td>\n",
       "      <td>22/1/2020</td>\n",
       "      <td>NaN</td>\n",
       "      <td>ชาย</td>\n",
       "      <td>68</td>\n",
       "      <td>ปี</td>\n",
       "      <td>China</td>\n",
       "      <td>กรุงเทพมหานคร</td>\n",
       "      <td>คนต่างชาติเดินทางมาจากต่างประเทศ</td>\n",
       "      <td>กรุงเทพมหานคร</td>\n",
       "      <td>NaN</td>\n",
       "    </tr>\n",
       "    <tr>\n",
       "      <th>4</th>\n",
       "      <td>5</td>\n",
       "      <td>24/1/2020</td>\n",
       "      <td>NaN</td>\n",
       "      <td>หญิง</td>\n",
       "      <td>66</td>\n",
       "      <td>ปี</td>\n",
       "      <td>China</td>\n",
       "      <td>นนทบุรี</td>\n",
       "      <td>คนต่างชาติเดินทางมาจากต่างประเทศ</td>\n",
       "      <td>กรุงเทพมหานคร</td>\n",
       "      <td>NaN</td>\n",
       "    </tr>\n",
       "  </tbody>\n",
       "</table>\n",
       "</div>"
      ],
      "text/plain": [
       "  no. announce_date notified_date   sex age unit nationality  \\\n",
       "0   1     12/1/2020           NaN  หญิง  61   ปี       China   \n",
       "1   2     17/1/2020           NaN  หญิง  74   ปี       China   \n",
       "2   3     22/1/2020           NaN  หญิง  73   ปี    Thailand   \n",
       "3   4     22/1/2020           NaN   ชาย  68   ปี       China   \n",
       "4   5     24/1/2020           NaN  หญิง  66   ปี       China   \n",
       "\n",
       "  province_of_isolation                              risk province_of_onset  \\\n",
       "0         กรุงเทพมหานคร  คนต่างชาติเดินทางมาจากต่างประเทศ     กรุงเทพมหานคร   \n",
       "1         กรุงเทพมหานคร  คนต่างชาติเดินทางมาจากต่างประเทศ     กรุงเทพมหานคร   \n",
       "2                นครปฐม  คนต่างชาติเดินทางมาจากต่างประเทศ            นครปฐม   \n",
       "3         กรุงเทพมหานคร  คนต่างชาติเดินทางมาจากต่างประเทศ     กรุงเทพมหานคร   \n",
       "4               นนทบุรี  คนต่างชาติเดินทางมาจากต่างประเทศ     กรุงเทพมหานคร   \n",
       "\n",
       "  district_of_onset  \n",
       "0               NaN  \n",
       "1               NaN  \n",
       "2             เมือง  \n",
       "3               NaN  \n",
       "4               NaN  "
      ]
     },
     "execution_count": 3,
     "metadata": {},
     "output_type": "execute_result"
    }
   ],
   "source": [
    "df.head()"
   ]
  },
  {
   "cell_type": "code",
   "execution_count": 4,
   "id": "e2e65440",
   "metadata": {},
   "outputs": [
    {
     "name": "stdout",
     "output_type": "stream",
     "text": [
      "<class 'pandas.core.frame.DataFrame'>\n",
      "RangeIndex: 3325951 entries, 0 to 3325950\n",
      "Data columns (total 11 columns):\n",
      " #   Column                 Dtype \n",
      "---  ------                 ----- \n",
      " 0   no.                    object\n",
      " 1   announce_date          object\n",
      " 2   notified_date          object\n",
      " 3   sex                    object\n",
      " 4   age                    object\n",
      " 5   unit                   object\n",
      " 6   nationality            object\n",
      " 7   province_of_isolation  object\n",
      " 8   risk                   object\n",
      " 9   province_of_onset      object\n",
      " 10  district_of_onset      object\n",
      "dtypes: object(11)\n",
      "memory usage: 279.1+ MB\n"
     ]
    }
   ],
   "source": [
    "df.info()"
   ]
  },
  {
   "cell_type": "markdown",
   "id": "ab8d3149",
   "metadata": {},
   "source": [
    "# Handle Duplicate items"
   ]
  },
  {
   "cell_type": "code",
   "execution_count": 5,
   "id": "6be6a1b0",
   "metadata": {},
   "outputs": [],
   "source": [
    "df.drop_duplicates(subset=\"no.\", keep = \"first\", inplace=True, ignore_index=True)"
   ]
  },
  {
   "cell_type": "code",
   "execution_count": 6,
   "id": "1ccafd72",
   "metadata": {},
   "outputs": [
    {
     "data": {
      "text/plain": [
       "(3303169, 11)"
      ]
     },
     "execution_count": 6,
     "metadata": {},
     "output_type": "execute_result"
    }
   ],
   "source": [
    "df.shape #after remove duplicated"
   ]
  },
  {
   "cell_type": "markdown",
   "id": "956f8364",
   "metadata": {},
   "source": [
    "# Handle Missing or Error data"
   ]
  },
  {
   "cell_type": "markdown",
   "id": "c03c3029",
   "metadata": {},
   "source": [
    "###  > notified_date"
   ]
  },
  {
   "cell_type": "markdown",
   "id": "70cd73f9",
   "metadata": {},
   "source": [
    "- เติม null value ด้วย announce_date แทน"
   ]
  },
  {
   "cell_type": "code",
   "execution_count": 7,
   "id": "4bb1671a",
   "metadata": {},
   "outputs": [],
   "source": [
    "df[\"notified_date\"].fillna(df[\"announce_date\"], inplace=True)"
   ]
  },
  {
   "cell_type": "markdown",
   "id": "36cf9193",
   "metadata": {},
   "source": [
    "###  > sex"
   ]
  },
  {
   "cell_type": "markdown",
   "id": "53f5c8f1",
   "metadata": {},
   "source": [
    "- แก้ไขให้เหลือ Male กับ Female\n",
    "- เติม null value ด้วยคำว่า \"na\" แทน"
   ]
  },
  {
   "cell_type": "code",
   "execution_count": 8,
   "id": "66d15e33",
   "metadata": {},
   "outputs": [
    {
     "data": {
      "text/plain": [
       "array(['หญิง', 'ชาย', nan, 'นาย', '\\xa0หญิง', 'ร.ต.ท.', 'หห', 'หญง',\n",
       "       'หญิิง', 'ช', 'ญ', 'หณิง'], dtype=object)"
      ]
     },
     "execution_count": 8,
     "metadata": {},
     "output_type": "execute_result"
    }
   ],
   "source": [
    "df[\"sex\"].unique()"
   ]
  },
  {
   "cell_type": "code",
   "execution_count": 9,
   "id": "331470fd",
   "metadata": {},
   "outputs": [
    {
     "data": {
      "text/plain": [
       "หญิง      1652958\n",
       "ชาย       1471128\n",
       "NaN        179060\n",
       "นาย             9\n",
       "หญิิง           5\n",
       "ช               3\n",
       " หญิง           1\n",
       "ร.ต.ท.          1\n",
       "หห              1\n",
       "หญง             1\n",
       "ญ               1\n",
       "หณิง            1\n",
       "Name: sex, dtype: int64"
      ]
     },
     "execution_count": 9,
     "metadata": {},
     "output_type": "execute_result"
    }
   ],
   "source": [
    "df[\"sex\"].value_counts(dropna=False)"
   ]
  },
  {
   "cell_type": "code",
   "execution_count": 10,
   "id": "261eaba2",
   "metadata": {},
   "outputs": [],
   "source": [
    "men = df[\"sex\"].isin([\"นาย\", \"ช\", \"ร.ต.ท.\"]) #หา row ที่ต้องการแก้เป็น \"ชาย\""
   ]
  },
  {
   "cell_type": "code",
   "execution_count": 11,
   "id": "5d7c3a76",
   "metadata": {},
   "outputs": [
    {
     "data": {
      "text/plain": [
       "377984        นาย\n",
       "1828770       นาย\n",
       "1828772       นาย\n",
       "1828777       นาย\n",
       "1828783       นาย\n",
       "1828785       นาย\n",
       "1828790       นาย\n",
       "1828791       นาย\n",
       "2274087    ร.ต.ท.\n",
       "2918760         ช\n",
       "2918762         ช\n",
       "2918763         ช\n",
       "2918898       นาย\n",
       "Name: sex, dtype: object"
      ]
     },
     "execution_count": 11,
     "metadata": {},
     "output_type": "execute_result"
    }
   ],
   "source": [
    "df.loc[men,\"sex\"]"
   ]
  },
  {
   "cell_type": "code",
   "execution_count": 12,
   "id": "faa8bb95",
   "metadata": {},
   "outputs": [
    {
     "data": {
      "text/html": [
       "<div>\n",
       "<style scoped>\n",
       "    .dataframe tbody tr th:only-of-type {\n",
       "        vertical-align: middle;\n",
       "    }\n",
       "\n",
       "    .dataframe tbody tr th {\n",
       "        vertical-align: top;\n",
       "    }\n",
       "\n",
       "    .dataframe thead th {\n",
       "        text-align: right;\n",
       "    }\n",
       "</style>\n",
       "<table border=\"1\" class=\"dataframe\">\n",
       "  <thead>\n",
       "    <tr style=\"text-align: right;\">\n",
       "      <th></th>\n",
       "      <th>no.</th>\n",
       "      <th>announce_date</th>\n",
       "      <th>notified_date</th>\n",
       "      <th>sex</th>\n",
       "      <th>age</th>\n",
       "      <th>unit</th>\n",
       "      <th>nationality</th>\n",
       "      <th>province_of_isolation</th>\n",
       "      <th>risk</th>\n",
       "      <th>province_of_onset</th>\n",
       "      <th>district_of_onset</th>\n",
       "    </tr>\n",
       "  </thead>\n",
       "  <tbody>\n",
       "    <tr>\n",
       "      <th>377984</th>\n",
       "      <td>377985</td>\n",
       "      <td>16/7/2021</td>\n",
       "      <td>15/7/2021</td>\n",
       "      <td>นาย</td>\n",
       "      <td>37</td>\n",
       "      <td>ปี</td>\n",
       "      <td>Thailand</td>\n",
       "      <td>อุบลราชธานี</td>\n",
       "      <td>อื่นๆ</td>\n",
       "      <td>กรุงเทพมหานคร</td>\n",
       "      <td>ดอนเมือง</td>\n",
       "    </tr>\n",
       "    <tr>\n",
       "      <th>1828770</th>\n",
       "      <td>1828771</td>\n",
       "      <td>22/10/2021</td>\n",
       "      <td>21/10/2021</td>\n",
       "      <td>นาย</td>\n",
       "      <td>20</td>\n",
       "      <td>ปี</td>\n",
       "      <td>Thailand</td>\n",
       "      <td>สงขลา</td>\n",
       "      <td>สัมผัสใกล้ชิดกับผู้ป่วยยืนยันรายก่อนหน้านี้</td>\n",
       "      <td>สงขลา</td>\n",
       "      <td>ควนเนียง</td>\n",
       "    </tr>\n",
       "    <tr>\n",
       "      <th>1828772</th>\n",
       "      <td>1828773</td>\n",
       "      <td>22/10/2021</td>\n",
       "      <td>21/10/2021</td>\n",
       "      <td>นาย</td>\n",
       "      <td>42</td>\n",
       "      <td>ปี</td>\n",
       "      <td>Thailand</td>\n",
       "      <td>สงขลา</td>\n",
       "      <td>สัมผัสใกล้ชิดกับผู้ป่วยยืนยันรายก่อนหน้านี้</td>\n",
       "      <td>สงขลา</td>\n",
       "      <td>ควนเนียง</td>\n",
       "    </tr>\n",
       "    <tr>\n",
       "      <th>1828777</th>\n",
       "      <td>1828778</td>\n",
       "      <td>22/10/2021</td>\n",
       "      <td>21/10/2021</td>\n",
       "      <td>นาย</td>\n",
       "      <td>39</td>\n",
       "      <td>ปี</td>\n",
       "      <td>Thailand</td>\n",
       "      <td>สงขลา</td>\n",
       "      <td>สัมผัสใกล้ชิดกับผู้ป่วยยืนยันรายก่อนหน้านี้</td>\n",
       "      <td>สงขลา</td>\n",
       "      <td>ควนเนียง</td>\n",
       "    </tr>\n",
       "    <tr>\n",
       "      <th>1828783</th>\n",
       "      <td>1828784</td>\n",
       "      <td>22/10/2021</td>\n",
       "      <td>21/10/2021</td>\n",
       "      <td>นาย</td>\n",
       "      <td>48</td>\n",
       "      <td>ปี</td>\n",
       "      <td>Thailand</td>\n",
       "      <td>สงขลา</td>\n",
       "      <td>สัมผัสใกล้ชิดกับผู้ป่วยยืนยันรายก่อนหน้านี้</td>\n",
       "      <td>สงขลา</td>\n",
       "      <td>ควนเนียง</td>\n",
       "    </tr>\n",
       "    <tr>\n",
       "      <th>1828785</th>\n",
       "      <td>1828786</td>\n",
       "      <td>22/10/2021</td>\n",
       "      <td>21/10/2021</td>\n",
       "      <td>นาย</td>\n",
       "      <td>28</td>\n",
       "      <td>ปี</td>\n",
       "      <td>Thailand</td>\n",
       "      <td>สงขลา</td>\n",
       "      <td>สัมผัสใกล้ชิดกับผู้ป่วยยืนยันรายก่อนหน้านี้</td>\n",
       "      <td>สงขลา</td>\n",
       "      <td>ควนเนียง</td>\n",
       "    </tr>\n",
       "    <tr>\n",
       "      <th>1828790</th>\n",
       "      <td>1828791</td>\n",
       "      <td>22/10/2021</td>\n",
       "      <td>21/10/2021</td>\n",
       "      <td>นาย</td>\n",
       "      <td>72</td>\n",
       "      <td>ปี</td>\n",
       "      <td>Thailand</td>\n",
       "      <td>สงขลา</td>\n",
       "      <td>สัมผัสใกล้ชิดกับผู้ป่วยยืนยันรายก่อนหน้านี้</td>\n",
       "      <td>สงขลา</td>\n",
       "      <td>ควนเนียง</td>\n",
       "    </tr>\n",
       "    <tr>\n",
       "      <th>1828791</th>\n",
       "      <td>1828792</td>\n",
       "      <td>22/10/2021</td>\n",
       "      <td>21/10/2021</td>\n",
       "      <td>นาย</td>\n",
       "      <td>36</td>\n",
       "      <td>ปี</td>\n",
       "      <td>Thailand</td>\n",
       "      <td>สงขลา</td>\n",
       "      <td>สัมผัสใกล้ชิดกับผู้ป่วยยืนยันรายก่อนหน้านี้</td>\n",
       "      <td>สงขลา</td>\n",
       "      <td>ควนเนียง</td>\n",
       "    </tr>\n",
       "    <tr>\n",
       "      <th>2274087</th>\n",
       "      <td>2274088</td>\n",
       "      <td>10/1/2022</td>\n",
       "      <td>9/1/2022</td>\n",
       "      <td>ร.ต.ท.</td>\n",
       "      <td>65</td>\n",
       "      <td>ปี</td>\n",
       "      <td>Thailand</td>\n",
       "      <td>อุดรธานี</td>\n",
       "      <td>อื่นๆ</td>\n",
       "      <td>อุดรธานี</td>\n",
       "      <td>เมืองอุดรธานี</td>\n",
       "    </tr>\n",
       "    <tr>\n",
       "      <th>2918760</th>\n",
       "      <td>2918761</td>\n",
       "      <td>2/3/2022</td>\n",
       "      <td>1/3/2022</td>\n",
       "      <td>ช</td>\n",
       "      <td>51</td>\n",
       "      <td>ปี</td>\n",
       "      <td>Thailand</td>\n",
       "      <td>กาญจนบุรี</td>\n",
       "      <td>อื่นๆ</td>\n",
       "      <td>กาญจนบุรี</td>\n",
       "      <td>ด่านมะขามเตี้ย</td>\n",
       "    </tr>\n",
       "    <tr>\n",
       "      <th>2918762</th>\n",
       "      <td>2918763</td>\n",
       "      <td>2/3/2022</td>\n",
       "      <td>1/3/2022</td>\n",
       "      <td>ช</td>\n",
       "      <td>15</td>\n",
       "      <td>ปี</td>\n",
       "      <td>Thailand</td>\n",
       "      <td>กาญจนบุรี</td>\n",
       "      <td>อื่นๆ</td>\n",
       "      <td>กาญจนบุรี</td>\n",
       "      <td>ด่านมะขามเตี้ย</td>\n",
       "    </tr>\n",
       "    <tr>\n",
       "      <th>2918763</th>\n",
       "      <td>2918764</td>\n",
       "      <td>2/3/2022</td>\n",
       "      <td>1/3/2022</td>\n",
       "      <td>ช</td>\n",
       "      <td>50</td>\n",
       "      <td>ปี</td>\n",
       "      <td>Thailand</td>\n",
       "      <td>กาญจนบุรี</td>\n",
       "      <td>อื่นๆ</td>\n",
       "      <td>กาญจนบุรี</td>\n",
       "      <td>ด่านมะขามเตี้ย</td>\n",
       "    </tr>\n",
       "    <tr>\n",
       "      <th>2918898</th>\n",
       "      <td>2918899</td>\n",
       "      <td>2/3/2022</td>\n",
       "      <td>1/3/2022</td>\n",
       "      <td>นาย</td>\n",
       "      <td>57</td>\n",
       "      <td>ปี</td>\n",
       "      <td>Thailand</td>\n",
       "      <td>กาญจนบุรี</td>\n",
       "      <td>อื่นๆ</td>\n",
       "      <td>กาญจนบุรี</td>\n",
       "      <td>เมือง</td>\n",
       "    </tr>\n",
       "  </tbody>\n",
       "</table>\n",
       "</div>"
      ],
      "text/plain": [
       "             no. announce_date notified_date     sex age unit nationality  \\\n",
       "377984    377985     16/7/2021     15/7/2021     นาย  37   ปี    Thailand   \n",
       "1828770  1828771    22/10/2021    21/10/2021     นาย  20   ปี    Thailand   \n",
       "1828772  1828773    22/10/2021    21/10/2021     นาย  42   ปี    Thailand   \n",
       "1828777  1828778    22/10/2021    21/10/2021     นาย  39   ปี    Thailand   \n",
       "1828783  1828784    22/10/2021    21/10/2021     นาย  48   ปี    Thailand   \n",
       "1828785  1828786    22/10/2021    21/10/2021     นาย  28   ปี    Thailand   \n",
       "1828790  1828791    22/10/2021    21/10/2021     นาย  72   ปี    Thailand   \n",
       "1828791  1828792    22/10/2021    21/10/2021     นาย  36   ปี    Thailand   \n",
       "2274087  2274088     10/1/2022      9/1/2022  ร.ต.ท.  65   ปี    Thailand   \n",
       "2918760  2918761      2/3/2022      1/3/2022       ช  51   ปี    Thailand   \n",
       "2918762  2918763      2/3/2022      1/3/2022       ช  15   ปี    Thailand   \n",
       "2918763  2918764      2/3/2022      1/3/2022       ช  50   ปี    Thailand   \n",
       "2918898  2918899      2/3/2022      1/3/2022     นาย  57   ปี    Thailand   \n",
       "\n",
       "        province_of_isolation                                         risk  \\\n",
       "377984            อุบลราชธานี                                        อื่นๆ   \n",
       "1828770                 สงขลา  สัมผัสใกล้ชิดกับผู้ป่วยยืนยันรายก่อนหน้านี้   \n",
       "1828772                 สงขลา  สัมผัสใกล้ชิดกับผู้ป่วยยืนยันรายก่อนหน้านี้   \n",
       "1828777                 สงขลา  สัมผัสใกล้ชิดกับผู้ป่วยยืนยันรายก่อนหน้านี้   \n",
       "1828783                 สงขลา  สัมผัสใกล้ชิดกับผู้ป่วยยืนยันรายก่อนหน้านี้   \n",
       "1828785                 สงขลา  สัมผัสใกล้ชิดกับผู้ป่วยยืนยันรายก่อนหน้านี้   \n",
       "1828790                 สงขลา  สัมผัสใกล้ชิดกับผู้ป่วยยืนยันรายก่อนหน้านี้   \n",
       "1828791                 สงขลา  สัมผัสใกล้ชิดกับผู้ป่วยยืนยันรายก่อนหน้านี้   \n",
       "2274087              อุดรธานี                                        อื่นๆ   \n",
       "2918760             กาญจนบุรี                                        อื่นๆ   \n",
       "2918762             กาญจนบุรี                                        อื่นๆ   \n",
       "2918763             กาญจนบุรี                                        อื่นๆ   \n",
       "2918898             กาญจนบุรี                                        อื่นๆ   \n",
       "\n",
       "        province_of_onset district_of_onset  \n",
       "377984      กรุงเทพมหานคร          ดอนเมือง  \n",
       "1828770             สงขลา          ควนเนียง  \n",
       "1828772             สงขลา          ควนเนียง  \n",
       "1828777             สงขลา          ควนเนียง  \n",
       "1828783             สงขลา          ควนเนียง  \n",
       "1828785             สงขลา          ควนเนียง  \n",
       "1828790             สงขลา          ควนเนียง  \n",
       "1828791             สงขลา          ควนเนียง  \n",
       "2274087          อุดรธานี     เมืองอุดรธานี  \n",
       "2918760         กาญจนบุรี    ด่านมะขามเตี้ย  \n",
       "2918762         กาญจนบุรี    ด่านมะขามเตี้ย  \n",
       "2918763         กาญจนบุรี    ด่านมะขามเตี้ย  \n",
       "2918898         กาญจนบุรี             เมือง  "
      ]
     },
     "execution_count": 12,
     "metadata": {},
     "output_type": "execute_result"
    }
   ],
   "source": [
    "df.loc[men] #เจอปัญหา code process ไม่ทัน จึงต้องแยกบรรทัด"
   ]
  },
  {
   "cell_type": "code",
   "execution_count": 13,
   "id": "fde24e06",
   "metadata": {},
   "outputs": [],
   "source": [
    "df.loc[men,\"sex\"] = \"ชาย\""
   ]
  },
  {
   "cell_type": "code",
   "execution_count": 14,
   "id": "d9a91883",
   "metadata": {},
   "outputs": [
    {
     "data": {
      "text/html": [
       "<div>\n",
       "<style scoped>\n",
       "    .dataframe tbody tr th:only-of-type {\n",
       "        vertical-align: middle;\n",
       "    }\n",
       "\n",
       "    .dataframe tbody tr th {\n",
       "        vertical-align: top;\n",
       "    }\n",
       "\n",
       "    .dataframe thead th {\n",
       "        text-align: right;\n",
       "    }\n",
       "</style>\n",
       "<table border=\"1\" class=\"dataframe\">\n",
       "  <thead>\n",
       "    <tr style=\"text-align: right;\">\n",
       "      <th></th>\n",
       "      <th>no.</th>\n",
       "      <th>announce_date</th>\n",
       "      <th>notified_date</th>\n",
       "      <th>sex</th>\n",
       "      <th>age</th>\n",
       "      <th>unit</th>\n",
       "      <th>nationality</th>\n",
       "      <th>province_of_isolation</th>\n",
       "      <th>risk</th>\n",
       "      <th>province_of_onset</th>\n",
       "      <th>district_of_onset</th>\n",
       "    </tr>\n",
       "  </thead>\n",
       "  <tbody>\n",
       "    <tr>\n",
       "      <th>377984</th>\n",
       "      <td>377985</td>\n",
       "      <td>16/7/2021</td>\n",
       "      <td>15/7/2021</td>\n",
       "      <td>ชาย</td>\n",
       "      <td>37</td>\n",
       "      <td>ปี</td>\n",
       "      <td>Thailand</td>\n",
       "      <td>อุบลราชธานี</td>\n",
       "      <td>อื่นๆ</td>\n",
       "      <td>กรุงเทพมหานคร</td>\n",
       "      <td>ดอนเมือง</td>\n",
       "    </tr>\n",
       "    <tr>\n",
       "      <th>1828770</th>\n",
       "      <td>1828771</td>\n",
       "      <td>22/10/2021</td>\n",
       "      <td>21/10/2021</td>\n",
       "      <td>ชาย</td>\n",
       "      <td>20</td>\n",
       "      <td>ปี</td>\n",
       "      <td>Thailand</td>\n",
       "      <td>สงขลา</td>\n",
       "      <td>สัมผัสใกล้ชิดกับผู้ป่วยยืนยันรายก่อนหน้านี้</td>\n",
       "      <td>สงขลา</td>\n",
       "      <td>ควนเนียง</td>\n",
       "    </tr>\n",
       "    <tr>\n",
       "      <th>1828772</th>\n",
       "      <td>1828773</td>\n",
       "      <td>22/10/2021</td>\n",
       "      <td>21/10/2021</td>\n",
       "      <td>ชาย</td>\n",
       "      <td>42</td>\n",
       "      <td>ปี</td>\n",
       "      <td>Thailand</td>\n",
       "      <td>สงขลา</td>\n",
       "      <td>สัมผัสใกล้ชิดกับผู้ป่วยยืนยันรายก่อนหน้านี้</td>\n",
       "      <td>สงขลา</td>\n",
       "      <td>ควนเนียง</td>\n",
       "    </tr>\n",
       "    <tr>\n",
       "      <th>1828777</th>\n",
       "      <td>1828778</td>\n",
       "      <td>22/10/2021</td>\n",
       "      <td>21/10/2021</td>\n",
       "      <td>ชาย</td>\n",
       "      <td>39</td>\n",
       "      <td>ปี</td>\n",
       "      <td>Thailand</td>\n",
       "      <td>สงขลา</td>\n",
       "      <td>สัมผัสใกล้ชิดกับผู้ป่วยยืนยันรายก่อนหน้านี้</td>\n",
       "      <td>สงขลา</td>\n",
       "      <td>ควนเนียง</td>\n",
       "    </tr>\n",
       "    <tr>\n",
       "      <th>1828783</th>\n",
       "      <td>1828784</td>\n",
       "      <td>22/10/2021</td>\n",
       "      <td>21/10/2021</td>\n",
       "      <td>ชาย</td>\n",
       "      <td>48</td>\n",
       "      <td>ปี</td>\n",
       "      <td>Thailand</td>\n",
       "      <td>สงขลา</td>\n",
       "      <td>สัมผัสใกล้ชิดกับผู้ป่วยยืนยันรายก่อนหน้านี้</td>\n",
       "      <td>สงขลา</td>\n",
       "      <td>ควนเนียง</td>\n",
       "    </tr>\n",
       "    <tr>\n",
       "      <th>1828785</th>\n",
       "      <td>1828786</td>\n",
       "      <td>22/10/2021</td>\n",
       "      <td>21/10/2021</td>\n",
       "      <td>ชาย</td>\n",
       "      <td>28</td>\n",
       "      <td>ปี</td>\n",
       "      <td>Thailand</td>\n",
       "      <td>สงขลา</td>\n",
       "      <td>สัมผัสใกล้ชิดกับผู้ป่วยยืนยันรายก่อนหน้านี้</td>\n",
       "      <td>สงขลา</td>\n",
       "      <td>ควนเนียง</td>\n",
       "    </tr>\n",
       "    <tr>\n",
       "      <th>1828790</th>\n",
       "      <td>1828791</td>\n",
       "      <td>22/10/2021</td>\n",
       "      <td>21/10/2021</td>\n",
       "      <td>ชาย</td>\n",
       "      <td>72</td>\n",
       "      <td>ปี</td>\n",
       "      <td>Thailand</td>\n",
       "      <td>สงขลา</td>\n",
       "      <td>สัมผัสใกล้ชิดกับผู้ป่วยยืนยันรายก่อนหน้านี้</td>\n",
       "      <td>สงขลา</td>\n",
       "      <td>ควนเนียง</td>\n",
       "    </tr>\n",
       "    <tr>\n",
       "      <th>1828791</th>\n",
       "      <td>1828792</td>\n",
       "      <td>22/10/2021</td>\n",
       "      <td>21/10/2021</td>\n",
       "      <td>ชาย</td>\n",
       "      <td>36</td>\n",
       "      <td>ปี</td>\n",
       "      <td>Thailand</td>\n",
       "      <td>สงขลา</td>\n",
       "      <td>สัมผัสใกล้ชิดกับผู้ป่วยยืนยันรายก่อนหน้านี้</td>\n",
       "      <td>สงขลา</td>\n",
       "      <td>ควนเนียง</td>\n",
       "    </tr>\n",
       "    <tr>\n",
       "      <th>2274087</th>\n",
       "      <td>2274088</td>\n",
       "      <td>10/1/2022</td>\n",
       "      <td>9/1/2022</td>\n",
       "      <td>ชาย</td>\n",
       "      <td>65</td>\n",
       "      <td>ปี</td>\n",
       "      <td>Thailand</td>\n",
       "      <td>อุดรธานี</td>\n",
       "      <td>อื่นๆ</td>\n",
       "      <td>อุดรธานี</td>\n",
       "      <td>เมืองอุดรธานี</td>\n",
       "    </tr>\n",
       "    <tr>\n",
       "      <th>2918760</th>\n",
       "      <td>2918761</td>\n",
       "      <td>2/3/2022</td>\n",
       "      <td>1/3/2022</td>\n",
       "      <td>ชาย</td>\n",
       "      <td>51</td>\n",
       "      <td>ปี</td>\n",
       "      <td>Thailand</td>\n",
       "      <td>กาญจนบุรี</td>\n",
       "      <td>อื่นๆ</td>\n",
       "      <td>กาญจนบุรี</td>\n",
       "      <td>ด่านมะขามเตี้ย</td>\n",
       "    </tr>\n",
       "    <tr>\n",
       "      <th>2918762</th>\n",
       "      <td>2918763</td>\n",
       "      <td>2/3/2022</td>\n",
       "      <td>1/3/2022</td>\n",
       "      <td>ชาย</td>\n",
       "      <td>15</td>\n",
       "      <td>ปี</td>\n",
       "      <td>Thailand</td>\n",
       "      <td>กาญจนบุรี</td>\n",
       "      <td>อื่นๆ</td>\n",
       "      <td>กาญจนบุรี</td>\n",
       "      <td>ด่านมะขามเตี้ย</td>\n",
       "    </tr>\n",
       "    <tr>\n",
       "      <th>2918763</th>\n",
       "      <td>2918764</td>\n",
       "      <td>2/3/2022</td>\n",
       "      <td>1/3/2022</td>\n",
       "      <td>ชาย</td>\n",
       "      <td>50</td>\n",
       "      <td>ปี</td>\n",
       "      <td>Thailand</td>\n",
       "      <td>กาญจนบุรี</td>\n",
       "      <td>อื่นๆ</td>\n",
       "      <td>กาญจนบุรี</td>\n",
       "      <td>ด่านมะขามเตี้ย</td>\n",
       "    </tr>\n",
       "    <tr>\n",
       "      <th>2918898</th>\n",
       "      <td>2918899</td>\n",
       "      <td>2/3/2022</td>\n",
       "      <td>1/3/2022</td>\n",
       "      <td>ชาย</td>\n",
       "      <td>57</td>\n",
       "      <td>ปี</td>\n",
       "      <td>Thailand</td>\n",
       "      <td>กาญจนบุรี</td>\n",
       "      <td>อื่นๆ</td>\n",
       "      <td>กาญจนบุรี</td>\n",
       "      <td>เมือง</td>\n",
       "    </tr>\n",
       "  </tbody>\n",
       "</table>\n",
       "</div>"
      ],
      "text/plain": [
       "             no. announce_date notified_date  sex age unit nationality  \\\n",
       "377984    377985     16/7/2021     15/7/2021  ชาย  37   ปี    Thailand   \n",
       "1828770  1828771    22/10/2021    21/10/2021  ชาย  20   ปี    Thailand   \n",
       "1828772  1828773    22/10/2021    21/10/2021  ชาย  42   ปี    Thailand   \n",
       "1828777  1828778    22/10/2021    21/10/2021  ชาย  39   ปี    Thailand   \n",
       "1828783  1828784    22/10/2021    21/10/2021  ชาย  48   ปี    Thailand   \n",
       "1828785  1828786    22/10/2021    21/10/2021  ชาย  28   ปี    Thailand   \n",
       "1828790  1828791    22/10/2021    21/10/2021  ชาย  72   ปี    Thailand   \n",
       "1828791  1828792    22/10/2021    21/10/2021  ชาย  36   ปี    Thailand   \n",
       "2274087  2274088     10/1/2022      9/1/2022  ชาย  65   ปี    Thailand   \n",
       "2918760  2918761      2/3/2022      1/3/2022  ชาย  51   ปี    Thailand   \n",
       "2918762  2918763      2/3/2022      1/3/2022  ชาย  15   ปี    Thailand   \n",
       "2918763  2918764      2/3/2022      1/3/2022  ชาย  50   ปี    Thailand   \n",
       "2918898  2918899      2/3/2022      1/3/2022  ชาย  57   ปี    Thailand   \n",
       "\n",
       "        province_of_isolation                                         risk  \\\n",
       "377984            อุบลราชธานี                                        อื่นๆ   \n",
       "1828770                 สงขลา  สัมผัสใกล้ชิดกับผู้ป่วยยืนยันรายก่อนหน้านี้   \n",
       "1828772                 สงขลา  สัมผัสใกล้ชิดกับผู้ป่วยยืนยันรายก่อนหน้านี้   \n",
       "1828777                 สงขลา  สัมผัสใกล้ชิดกับผู้ป่วยยืนยันรายก่อนหน้านี้   \n",
       "1828783                 สงขลา  สัมผัสใกล้ชิดกับผู้ป่วยยืนยันรายก่อนหน้านี้   \n",
       "1828785                 สงขลา  สัมผัสใกล้ชิดกับผู้ป่วยยืนยันรายก่อนหน้านี้   \n",
       "1828790                 สงขลา  สัมผัสใกล้ชิดกับผู้ป่วยยืนยันรายก่อนหน้านี้   \n",
       "1828791                 สงขลา  สัมผัสใกล้ชิดกับผู้ป่วยยืนยันรายก่อนหน้านี้   \n",
       "2274087              อุดรธานี                                        อื่นๆ   \n",
       "2918760             กาญจนบุรี                                        อื่นๆ   \n",
       "2918762             กาญจนบุรี                                        อื่นๆ   \n",
       "2918763             กาญจนบุรี                                        อื่นๆ   \n",
       "2918898             กาญจนบุรี                                        อื่นๆ   \n",
       "\n",
       "        province_of_onset district_of_onset  \n",
       "377984      กรุงเทพมหานคร          ดอนเมือง  \n",
       "1828770             สงขลา          ควนเนียง  \n",
       "1828772             สงขลา          ควนเนียง  \n",
       "1828777             สงขลา          ควนเนียง  \n",
       "1828783             สงขลา          ควนเนียง  \n",
       "1828785             สงขลา          ควนเนียง  \n",
       "1828790             สงขลา          ควนเนียง  \n",
       "1828791             สงขลา          ควนเนียง  \n",
       "2274087          อุดรธานี     เมืองอุดรธานี  \n",
       "2918760         กาญจนบุรี    ด่านมะขามเตี้ย  \n",
       "2918762         กาญจนบุรี    ด่านมะขามเตี้ย  \n",
       "2918763         กาญจนบุรี    ด่านมะขามเตี้ย  \n",
       "2918898         กาญจนบุรี             เมือง  "
      ]
     },
     "execution_count": 14,
     "metadata": {},
     "output_type": "execute_result"
    }
   ],
   "source": [
    "df.loc[men]"
   ]
  },
  {
   "cell_type": "code",
   "execution_count": 15,
   "id": "dba0a982",
   "metadata": {},
   "outputs": [],
   "source": [
    "women = df[\"sex\"].isin(['\\xa0หญิง', 'ญ', 'หญง', 'หญิิง', 'หณิง', 'หห']) #หา row ที่ต้องการแก้เป็น \"หญิง\""
   ]
  },
  {
   "cell_type": "code",
   "execution_count": 16,
   "id": "9e6590fb",
   "metadata": {},
   "outputs": [],
   "source": [
    "df.loc[women,\"sex\"] = \"หญิง\""
   ]
  },
  {
   "cell_type": "code",
   "execution_count": 17,
   "id": "d305131a",
   "metadata": {},
   "outputs": [],
   "source": [
    "# เจอปัญหากราฟไม่อ่านภาษไทย\n",
    "\n",
    "Female = df[\"sex\"] == \"หญิง\"\n",
    "Male = df[\"sex\"] == \"ชาย\""
   ]
  },
  {
   "cell_type": "code",
   "execution_count": 18,
   "id": "7453777d",
   "metadata": {},
   "outputs": [],
   "source": [
    "df.loc[Female,\"sex\"] = \"Female\""
   ]
  },
  {
   "cell_type": "code",
   "execution_count": 19,
   "id": "abd3b363",
   "metadata": {},
   "outputs": [],
   "source": [
    "df.loc[Male,\"sex\"] = \"Male\""
   ]
  },
  {
   "cell_type": "code",
   "execution_count": 20,
   "id": "c834793f",
   "metadata": {},
   "outputs": [],
   "source": [
    "df[\"sex\"].fillna(value=\"na\", inplace=True)"
   ]
  },
  {
   "cell_type": "code",
   "execution_count": 21,
   "id": "8fff87e5",
   "metadata": {},
   "outputs": [
    {
     "data": {
      "text/plain": [
       "Female    1652968\n",
       "Male      1471141\n",
       "na         179060\n",
       "Name: sex, dtype: int64"
      ]
     },
     "execution_count": 21,
     "metadata": {},
     "output_type": "execute_result"
    }
   ],
   "source": [
    "df[\"sex\"].value_counts(dropna=False)\n",
    "#df.groupby(by=\"sex\").size()"
   ]
  },
  {
   "cell_type": "markdown",
   "id": "032cdb17",
   "metadata": {},
   "source": [
    "###  > age"
   ]
  },
  {
   "cell_type": "markdown",
   "id": "cb615c77",
   "metadata": {},
   "source": [
    "- เติม null value ด้วยค่า 0 แทน"
   ]
  },
  {
   "cell_type": "code",
   "execution_count": 22,
   "id": "51e69c21",
   "metadata": {},
   "outputs": [],
   "source": [
    "df[\"age\"].fillna(value=0, inplace=True)"
   ]
  },
  {
   "cell_type": "markdown",
   "id": "95f43ae8",
   "metadata": {},
   "source": [
    "###  > unit"
   ]
  },
  {
   "cell_type": "markdown",
   "id": "ada39b82",
   "metadata": {},
   "source": [
    "- เปลี่ยนหน่วย \"เดือน\" และ \"วัน\" ให้เป็นหน่วย \"ปี\" เนื่องจากการสุ่ม check พบว่า\n",
    "<br>มีรายการอายุต่ำกว่า 9 เดือน ดังนั้น หน่วย\"เดือน\" และ หน่วย \"วัน\" จึงไม่ถูกต้อง"
   ]
  },
  {
   "cell_type": "code",
   "execution_count": 23,
   "id": "4555c438",
   "metadata": {},
   "outputs": [
    {
     "data": {
      "text/plain": [
       "array(['ปี', 'เดือน', nan, 'วัน'], dtype=object)"
      ]
     },
     "execution_count": 23,
     "metadata": {},
     "output_type": "execute_result"
    }
   ],
   "source": [
    "df[\"unit\"].unique()"
   ]
  },
  {
   "cell_type": "code",
   "execution_count": 24,
   "id": "e01f74b5",
   "metadata": {},
   "outputs": [
    {
     "data": {
      "text/plain": [
       "4"
      ]
     },
     "execution_count": 24,
     "metadata": {},
     "output_type": "execute_result"
    }
   ],
   "source": [
    "df[\"unit\"].nunique(dropna=False)"
   ]
  },
  {
   "cell_type": "code",
   "execution_count": 25,
   "id": "8d97502c",
   "metadata": {},
   "outputs": [],
   "source": [
    "re_unit = df[\"unit\"].isin([\"เดือน\",\"วัน\"])\n",
    "df.loc[re_unit,\"unit\"] = \"ปี\""
   ]
  },
  {
   "cell_type": "code",
   "execution_count": 26,
   "id": "7c157a25",
   "metadata": {},
   "outputs": [
    {
     "data": {
      "text/plain": [
       "unit\n",
       "ปี    3303169\n",
       "dtype: int64"
      ]
     },
     "execution_count": 26,
     "metadata": {},
     "output_type": "execute_result"
    }
   ],
   "source": [
    "df[\"unit\"].fillna(value=\"ปี\", inplace=True) # เติม null ด้วยคำว่า \"ปี\" แทน\n",
    "df.groupby(by=\"unit\").size()"
   ]
  },
  {
   "cell_type": "markdown",
   "id": "fc626711",
   "metadata": {},
   "source": [
    "###  > nationality\n",
    "- เติม null value ด้วยคำว่า \"other\" แทน"
   ]
  },
  {
   "cell_type": "code",
   "execution_count": 27,
   "id": "236ac755",
   "metadata": {},
   "outputs": [
    {
     "data": {
      "text/plain": [
       "Thailand             2765670\n",
       "NaN                   287814\n",
       "Burmese               133477\n",
       "Cambodian              38571\n",
       "Thai                   20632\n",
       "Burma                  18759\n",
       "Laotian / Lao           8936\n",
       "Russian                 3590\n",
       "Chinese                 1925\n",
       "British / English       1559\n",
       "American                1245\n",
       "German                  1200\n",
       "French                  1142\n",
       "Indian                  1119\n",
       "Japanese                 930\n",
       "Cambodia                 854\n",
       "Laos                     780\n",
       "Australian               683\n",
       "Swedish                  645\n",
       "Filipino                 625\n",
       "Name: nationality, dtype: int64"
      ]
     },
     "execution_count": 27,
     "metadata": {},
     "output_type": "execute_result"
    }
   ],
   "source": [
    "df[\"nationality\"].value_counts(dropna=False).head(20) #before"
   ]
  },
  {
   "cell_type": "code",
   "execution_count": 28,
   "id": "4871b124",
   "metadata": {},
   "outputs": [
    {
     "data": {
      "text/plain": [
       "array(['ไม่ระบุ', 'ไม่มีสัญชาติ', 'ไนจีเรีย', 'ไทใหญ่', 'ไทยใหญ่',\n",
       "       'อเมริกา', 'สวีเดน', 'ลาว', 'พม่า', 'บราซิล', 'ต่างด้าว', 'จีน',\n",
       "       'กัมพูชา', '\\xa0Bulgarian', 'yemen', 'taiwan', 'swiss',\n",
       "       'south african', 'pakistani', 'other', 'laotian / Lao', 'laos',\n",
       "       'kuwaiti', 'japanese', 'japan', 'irish', 'iranian', 'indian',\n",
       "       'india', 'france', 'filipino', 'deutsch', 'congo', 'chinese',\n",
       "       'china', 'canadian', 'cambodian', 'burmese', 'burma', 'british',\n",
       "       'australian', 'au', 'Zimbabwean', 'Zimbabwe', 'Zambian',\n",
       "       'Yemeni / Yemenite', 'Yemen', 'Vietnamese', 'Vietnam',\n",
       "       'Venezuelan', 'Uzbekistan', 'Uzbek', 'Uruguayan',\n",
       "       'United States of America', 'United Kingdom',\n",
       "       'United Arab Emirates', 'Ukrainian', 'Ukraine', 'Ugandan',\n",
       "       'Uganda', 'UAE', 'Turkish', 'Turkey', 'Turkcish', 'Tunisian',\n",
       "       'Tunisia', 'Trinidad and Tobago', 'Timorese', 'Timor-Leste',\n",
       "       'Thailand', 'Thai', 'Tanzanian', 'Tanzania', 'Tajikistan', 'Tajik',\n",
       "       'Taiwanese', 'Taiwan', 'Syrian', 'Syria', 'Switzerland', 'Swiss',\n",
       "       'Swedish', 'Sweden', 'Swaziland', 'Sudanese', 'Sudan',\n",
       "       'Sri Lankan', 'Sri Lanka', 'Spanish', 'Spain', 'South Korean',\n",
       "       'South Korea', 'South African', 'South Africa', 'Somalia',\n",
       "       'Somali / Somalian', 'Slovenian / Slovene', 'Slovenia',\n",
       "       'Slovak / Slovakian', 'Singaporean', 'Singapore', 'Sierra Leone',\n",
       "       'Serbian', 'Serbia', 'Senegal', 'Saudi Arabian', 'SWISS',\n",
       "       'Russian', 'Russia', 'Romanian', 'Romania', 'RUSSIAN', 'Qatari',\n",
       "       'Qatar', 'Portuguese', 'Portugal', 'Polish', 'Poland', 'Phutan',\n",
       "       'Philippines', 'Peruvian', 'Palestinian', 'Palestine', 'Pakistani',\n",
       "       'Pakistan', 'Other', 'Omani', 'Oman', 'Oatari', 'Norwegian',\n",
       "       'Norway', 'North Korean', 'Nigerian', 'Nigeria', 'Nicaragua',\n",
       "       'New Zealand', 'Netherlands', 'Nepalese / Nepali', 'Nepal',\n",
       "       'Namibian', 'Namibia', 'Myanmar', 'Moroccan', 'Mongolian',\n",
       "       'Mongolia', 'Mexico', 'Mexican', 'Mauritius', 'Mauritians',\n",
       "       'Maltese', 'Malta', 'Malian', 'Mali', 'Maldivian', 'Maldives',\n",
       "       'Malaysian', 'Malaysia', 'Malawi', 'Macedonia', 'Luxembourgish',\n",
       "       'Luxembourg', 'Lithuanian', 'Lithuania', 'Libyan', 'Libya',\n",
       "       'Liberian', 'Liberia', 'Lebanon', 'Lebanese', 'Latvian', 'Latvia',\n",
       "       'Laotian/Lao', 'Laotian / Lao', 'Laotian', 'Laos', 'Lao', 'L',\n",
       "       'Kyrgyzstan', 'Kyrgyz', 'Kuwaiti', 'Kuwait', 'Kosovo', 'Kosovan',\n",
       "       'Korean', 'Korea, South', 'Kenyan', 'Kenya', 'Kazakhstan',\n",
       "       'Kazakh / Kazakhstani', 'Jordanian', 'Jordan', 'Japanese', 'Japan',\n",
       "       'Ivorian', 'Italy', 'Italian', 'Israeli', 'Israel', 'Irish',\n",
       "       'Ireland', 'Iraqi', 'Iraq', 'Iranian', 'Iran', 'Indonesian',\n",
       "       'Indonesia', 'Indian', 'India-Thailand', 'India', 'Icelandic',\n",
       "       'Iceland', 'IRISH', 'Hungary', 'Hungarian', 'Hong Kong', 'Haitian',\n",
       "       'Guyanese', 'Guyana', 'Guinean', 'Guinea', 'Guatemalan', 'Gremany',\n",
       "       'Greek', 'Greece', 'Ghanaian', 'Ghana', 'Germen', 'Germany',\n",
       "       'German', 'Georgian', 'Gambian', 'Gambia, The', 'Gambia', 'GERMAN',\n",
       "       'French Guiana', 'French', 'France', 'Finnish', 'Finland',\n",
       "       'Filipino', 'Fijian', 'FILIPINO', 'Ethiopian', 'Ethiopia',\n",
       "       'Estonian', 'Estonia', 'Eritrean', 'Eritrea', 'Emirati', 'Emirate',\n",
       "       'Egyptian', 'Egypt', 'Ecuadorian', 'Dutch', 'Dominican Republic',\n",
       "       'Denmark', 'Danish', 'Czechia', 'Czech', 'Cypriot', 'Cuban',\n",
       "       'Cuba', 'Croatian', 'Croatia', \"Cote D'Ivoire\",\n",
       "       'Congo (Brazzaville)', 'Colombian', 'Colombia', 'Chinese', 'China',\n",
       "       'Chilean', 'Canadian', 'Canada', 'Cameroon', 'Cambodian',\n",
       "       'Cambodia', 'CZECH', 'CAMBODIAN', 'Burmese', 'Burma', 'Bulgarian',\n",
       "       'Bulgaria', 'Bruneian', 'Brunei', 'British/English',\n",
       "       'British / Welsh', 'British / Scottish',\n",
       "       'British / Northern Irish', 'British / English', 'British',\n",
       "       'Brazilian', 'Brazil', 'Bosnian/Herzegovinian', 'Bosnian',\n",
       "       'Bhutan', 'Bermuda', 'Belgium', 'Belgian', 'Belarusian', 'Belarus',\n",
       "       'Bangladeshi', 'Bangladesh', 'Bahraini', 'Bahrain', 'BRITISH',\n",
       "       'BAHRAINI', 'Azerbaijan', 'Austrian', 'Austria', 'Australian',\n",
       "       'Australia', 'Armenian', 'Armenia', 'Argentine / Argentinian',\n",
       "       'Argentine', 'Argentina', 'Arabi', 'Americans', 'American Samoa',\n",
       "       'American ', 'American', 'Algerian', 'Algeria', 'Albanian',\n",
       "       'Albania', 'African', 'Afghanistan', 'Afghan / Afghani', 'Afghan',\n",
       "       'AUSTRALIAN', nan], dtype=object)"
      ]
     },
     "execution_count": 28,
     "metadata": {},
     "output_type": "execute_result"
    }
   ],
   "source": [
    "df[\"nationality\"].sort_values(ascending=False).unique()"
   ]
  },
  {
   "cell_type": "markdown",
   "id": "65be7603",
   "metadata": {},
   "source": [
    "ปัญหาที่พบ\n",
    "- upper/lower case\n",
    "- เครื่องหมาย \"/\"\n",
    "- One to many คือ 1 nation แต่สะกดตัวอักษรหลายแบบ (เขียนไม่เหมือนกัน) รวมถึงกรณีเขียนภาษาไทยด้วย"
   ]
  },
  {
   "cell_type": "code",
   "execution_count": 29,
   "id": "1bc5cb4a",
   "metadata": {},
   "outputs": [],
   "source": [
    "df[\"nationality\"].fillna(value=\"other\", inplace=True) #fill null value"
   ]
  },
  {
   "cell_type": "code",
   "execution_count": 30,
   "id": "597e2ec8",
   "metadata": {},
   "outputs": [],
   "source": [
    "df[\"nationality\"] = [i.lower() for i in df[\"nationality\"]] #upper/lower case"
   ]
  },
  {
   "cell_type": "code",
   "execution_count": 31,
   "id": "3dc0419f",
   "metadata": {},
   "outputs": [],
   "source": [
    "special_cha = df[\"nationality\"].str.contains(\"/\",na=False)\n",
    "df.loc[special_cha,\"nationality\"] = [i.partition('/')[0].strip() for i in df.loc[special_cha,\"nationality\"]] #แก้ไขเครื่องหมาย \"/\""
   ]
  },
  {
   "cell_type": "code",
   "execution_count": 32,
   "id": "c07af94e",
   "metadata": {},
   "outputs": [
    {
     "data": {
      "text/plain": [
       "nationality\n",
       "กัมพูชา          1\n",
       "จีน              1\n",
       "ต่างด้าว        21\n",
       "บราซิล           1\n",
       "พม่า             1\n",
       "ลาว              2\n",
       "สวีเดน           1\n",
       "อเมริกา          1\n",
       "ไทยใหญ่          1\n",
       "ไทใหญ่           1\n",
       "ไนจีเรีย         1\n",
       "ไม่มีสัญชาติ     3\n",
       "ไม่ระบุ          3\n",
       "dtype: int64"
      ]
     },
     "execution_count": 32,
     "metadata": {},
     "output_type": "execute_result"
    }
   ],
   "source": [
    "#ตรวจสอบความมีสาระสำคัญ (materiality) ของกลุ่ม nationality ที่สะกดด้วยภาษาไทย\n",
    "\n",
    "temp = df[\"nationality\"].sort_values(ascending=True).unique()\n",
    "thai_spell = temp[-1:-14:-1]\n",
    "class_thai = df[\"nationality\"].isin(thai_spell)\n",
    "df.loc[class_thai].groupby(by=\"nationality\").size()\n",
    "\n",
    "#จากการตรวจสอบ พบว่า จำนวนน้อยเมื่อเทียบกับจำนวนทั้งหมดของประชากร"
   ]
  },
  {
   "cell_type": "markdown",
   "id": "3e96b5ec",
   "metadata": {},
   "source": [
    "- \"ไม่มีสัญชาติ\", \"ต่างด้าว\", \"ไทยใหญ่\", \"ไทใหญ่\", \"ไม่ระบุ\" เปลี่ยนเป็นคำว่า \"other\" แทน\n",
    "**** หมายเหตุ รายการที่สะกดไม่เหมือนกัน จะเลือกนำไป clean เฉพาะที่นำไปวิเคราะห์หรือแสดงผล (Visualized)"
   ]
  },
  {
   "cell_type": "code",
   "execution_count": 33,
   "id": "5de07922",
   "metadata": {},
   "outputs": [],
   "source": [
    "lst_other = [\"ไม่มีสัญชาติ\", \"ต่างด้าว\", \"ไทยใหญ่\", \"ไทใหญ่\", \"ไม่ระบุ\"]\n",
    "other_nation = df[\"nationality\"].isin(lst_other)\n",
    "df.loc[other_nation,\"nationality\"] = \"other\""
   ]
  },
  {
   "cell_type": "code",
   "execution_count": 34,
   "id": "d526fc3a",
   "metadata": {},
   "outputs": [
    {
     "data": {
      "text/plain": [
       "(29, 11)"
      ]
     },
     "execution_count": 34,
     "metadata": {},
     "output_type": "execute_result"
    }
   ],
   "source": [
    "df.loc[other_nation].shape #recheck"
   ]
  },
  {
   "cell_type": "code",
   "execution_count": 35,
   "id": "bb99b000",
   "metadata": {},
   "outputs": [
    {
     "data": {
      "text/plain": [
       "thailand      2765670\n",
       "other          288225\n",
       "burmese        133855\n",
       "cambodian       38984\n",
       "thai            20632\n",
       "burma           18827\n",
       "laotian          9035\n",
       "russian          3591\n",
       "british          1955\n",
       "chinese          1928\n",
       "american         1245\n",
       "german           1202\n",
       "french           1142\n",
       "indian           1121\n",
       "japanese          931\n",
       "cambodia          854\n",
       "laos              781\n",
       "australian        686\n",
       "swedish           645\n",
       "filipino          627\n",
       "Name: nationality, dtype: int64"
      ]
     },
     "execution_count": 35,
     "metadata": {},
     "output_type": "execute_result"
    }
   ],
   "source": [
    "df[\"nationality\"].value_counts(dropna=False).head(20) #After"
   ]
  },
  {
   "cell_type": "markdown",
   "id": "f715b5a2",
   "metadata": {},
   "source": [
    "###  > province_of_isolation\n",
    "- เติม null value ด้วยคำว่า \"na\" แทน "
   ]
  },
  {
   "cell_type": "code",
   "execution_count": 36,
   "id": "e0dad05b",
   "metadata": {},
   "outputs": [],
   "source": [
    "df[\"province_of_isolation\"].fillna(value=\"na\", inplace=True)"
   ]
  },
  {
   "cell_type": "code",
   "execution_count": 37,
   "id": "63ecdf3d",
   "metadata": {},
   "outputs": [
    {
     "data": {
      "text/plain": [
       "81"
      ]
     },
     "execution_count": 37,
     "metadata": {},
     "output_type": "execute_result"
    }
   ],
   "source": [
    "df[\"province_of_isolation\"].nunique(dropna=True) #ทั้งหมด 77 จังหวัด เท่ากับเกินมา 3"
   ]
  },
  {
   "cell_type": "code",
   "execution_count": 38,
   "id": "9f237949",
   "metadata": {},
   "outputs": [
    {
     "data": {
      "text/plain": [
       "array(['na', 'กทม', 'กระบี่', 'กรุงเทพมหานคร', 'กาญจนบุรี', 'กาฬสินธุ์',\n",
       "       'กำแพงเพชร', 'ขอนแก่น', 'ขอนแก่น\\xa0', 'จันทบุรี', 'ฉะเชิงเทรา',\n",
       "       'ชลบุรี', 'ชัยนาท', 'ชัยภูมิ', 'ชุมพร', 'ตรัง', 'ตราด', 'ตาก',\n",
       "       'นครนายก', 'นครปฐม', 'นครพนม', 'นครราชสีมา', 'นครศรีธรรมราช',\n",
       "       'นครสวรรค์', 'นนทบุรี', 'นราธิวาส', 'น่าน', 'บึงกาฬ', 'บุรีรัมย์',\n",
       "       'ปทุมธานี', 'ประจวบคีรีขันธ์', 'ปราจีนบุรี', 'ปัตตานี',\n",
       "       'พระนครศรีอยุธยา', 'พะเยา', 'พังงา', 'พัทลุง', 'พิจิตร',\n",
       "       'พิษณุโลก', 'ภููเก็ต', 'ภูเก็ต', 'มหาสารคาม', 'มุกดาหาร', 'ยะลา',\n",
       "       'ยโสธร', 'ระนอง', 'ระยอง', 'ราชบุรี', 'ร้อยเอ็ด', 'ลพบุรี',\n",
       "       'ลำปาง', 'ลำพูน', 'ศรีสะเกษ', 'สกลนคร', 'สงขลา', 'สตูล',\n",
       "       'สมุทรปราการ', 'สมุทรสงคราม', 'สมุทรสาคร', 'สระบุรี', 'สระแก้ว',\n",
       "       'สิงห์บุรี', 'สุพรรณบุรี', 'สุราษฎร์ธานี', 'สุรินทร์', 'สุโขทัย',\n",
       "       'หนองคาย', 'หนองบัวลำภู', 'อำนาจเจริญ', 'อุดรธานี', 'อุตรดิตถ์',\n",
       "       'อุทัยธานี', 'อุบลราชธานี', 'อ่างทอง', 'เชียงราย', 'เชียงใหม่',\n",
       "       'เพชรบุรี', 'เพชรบูรณ์', 'เลย', 'แพร่', 'แม่ฮ่องสอน'], dtype=object)"
      ]
     },
     "execution_count": 38,
     "metadata": {},
     "output_type": "execute_result"
    }
   ],
   "source": [
    "df[\"province_of_isolation\"].sort_values(ascending=True).unique() #มีค่า null"
   ]
  },
  {
   "cell_type": "markdown",
   "id": "9a708dd1",
   "metadata": {},
   "source": [
    "- พบ  ['ขอนแก่น\\xa0', 'ขอนแก่น'] , ['ภูเก็ต', 'ภููเก็ต'] , ['กทม', 'กรุงเทพมหานคร'] ที่พิมพ์มากกว่า 1 แบบ"
   ]
  },
  {
   "cell_type": "code",
   "execution_count": 39,
   "id": "a25043f0",
   "metadata": {},
   "outputs": [],
   "source": [
    "phuket = df[\"province_of_isolation\"].isin(['ภูเก็ต', 'ภููเก็ต'])\n",
    "df.loc[phuket,\"province_of_isolation\"] = \"ภูเก็ต\""
   ]
  },
  {
   "cell_type": "code",
   "execution_count": 40,
   "id": "4b116c08",
   "metadata": {},
   "outputs": [],
   "source": [
    "kk = df[\"province_of_isolation\"].isin(['ขอนแก่น\\xa0', 'ขอนแก่น'])\n",
    "df.loc[kk,\"province_of_isolation\"] = \"ขอนแก่น\""
   ]
  },
  {
   "cell_type": "code",
   "execution_count": 41,
   "id": "7e405284",
   "metadata": {},
   "outputs": [],
   "source": [
    "bkk = df[\"province_of_isolation\"].isin(['กทม', 'กรุงเทพมหานคร'])\n",
    "df.loc[bkk,\"province_of_isolation\"] = \"กรุงเทพ\""
   ]
  },
  {
   "cell_type": "code",
   "execution_count": 42,
   "id": "762ca52f",
   "metadata": {},
   "outputs": [
    {
     "data": {
      "text/plain": [
       "78"
      ]
     },
     "execution_count": 42,
     "metadata": {},
     "output_type": "execute_result"
    }
   ],
   "source": [
    "df[\"province_of_isolation\"].nunique(dropna=True) #after"
   ]
  },
  {
   "cell_type": "markdown",
   "id": "e13a8ea6",
   "metadata": {},
   "source": [
    "###  > province_of_onset\n",
    "- เติม null value ด้วยคำว่า \"na\" แทน "
   ]
  },
  {
   "cell_type": "code",
   "execution_count": 43,
   "id": "42eb80d5",
   "metadata": {},
   "outputs": [],
   "source": [
    "df[\"province_of_onset\"].fillna(value=\"na\", inplace=True)"
   ]
  },
  {
   "cell_type": "markdown",
   "id": "775b54a8",
   "metadata": {},
   "source": [
    "ปัญหาที่พบ\n",
    "- มีชื่ออำเภอปนมา เช่น เวียงสา ธารโต สารภี เมือง เป็นต้น\n",
    "- เครื่องหมาย \"\\xa0\", \"\\t\", \"\\u200b\"\n",
    "- One to many คือ 1 จังหวัด แต่สะกดตัวอักษรหลายแบบ (เขียนไม่เหมือนกัน)\n",
    "- มีค่าอื่นๆ ที่ไม่ใช่ชื่อจังหวัด เช่น สุววรณภูมิ แล้วป่วย นอกเขต ไม่ระบุ เรือ สอง ลอง เป็นต้น"
   ]
  },
  {
   "cell_type": "code",
   "execution_count": 44,
   "id": "4d9df0e1",
   "metadata": {},
   "outputs": [
    {
     "data": {
      "text/plain": [
       "438"
      ]
     },
     "execution_count": 44,
     "metadata": {},
     "output_type": "execute_result"
    }
   ],
   "source": [
    "df[\"province_of_onset\"].nunique(dropna=True) #มีมากกว่า 77 จังหวัด"
   ]
  },
  {
   "cell_type": "code",
   "execution_count": 45,
   "id": "52257846",
   "metadata": {},
   "outputs": [],
   "source": [
    "#df[\"province_of_onset\"].sort_values(ascending=True).unique()"
   ]
  },
  {
   "cell_type": "code",
   "execution_count": 46,
   "id": "b67961ef",
   "metadata": {},
   "outputs": [
    {
     "data": {
      "text/plain": [
       "กรุงเทพมหานคร      563732\n",
       "na                 398224\n",
       "สมุทรปราการ        184049\n",
       "ชลบุรี             173557\n",
       "สมุทรสาคร          120390\n",
       "นนทบุรี            117113\n",
       "ปทุมธานี            85542\n",
       "สงขลา               78107\n",
       "ระยอง               75161\n",
       "นครปฐม              69524\n",
       "นครศรีธรรมราช       60009\n",
       "ฉะเชิงเทรา          56096\n",
       "ปัตตานี             54330\n",
       "พระนครศรีอยุธยา     53963\n",
       "ยะลา                53485\n",
       "ภูเก็ต              48894\n",
       "สระบุรี             46577\n",
       "ขอนแก่น             46421\n",
       "นราธิวาส            46389\n",
       "ราชบุรี             46204\n",
       "Name: province_of_onset, dtype: int64"
      ]
     },
     "execution_count": 46,
     "metadata": {},
     "output_type": "execute_result"
    }
   ],
   "source": [
    "#ตรวจสอบความมีสาระสำคัญ (materiality) พบว่า 20อันดับแรก ไม่พบรายการที่สะกดผิด หรือรายการชื่ออำเภอ\n",
    "\n",
    "df[\"province_of_onset\"].value_counts().head(20)\n",
    "\n",
    "#ดังนั้น รายการที่สะกดผิด หรือรายการชื่ออำเภอ จะเลือกนำไป clean เฉพาะที่นำไปวิเคราะห์หรือแสดงผล (Visualized)"
   ]
  },
  {
   "cell_type": "markdown",
   "id": "ebc92b9a",
   "metadata": {},
   "source": [
    "###  > district_of_onset\n",
    "- ข้ามไป clean เฉพาะที่จะนำไปวิเคราะห์หรือแสดงผล (Visualized)"
   ]
  },
  {
   "cell_type": "code",
   "execution_count": 47,
   "id": "3bd3b178",
   "metadata": {},
   "outputs": [
    {
     "data": {
      "text/plain": [
       "<bound method NDFrame.head of เมือง               166364\n",
       "เมืองสมุทรสาคร       73152\n",
       "เมืองสมุทรปราการ     72244\n",
       "ศรีราชา              46827\n",
       "บางละมุง             41782\n",
       "                     ...  \n",
       "เมืองภุเก็ต              1\n",
       "ตะหลิ่งชัน               1\n",
       "ท่าจะเกียบ               1\n",
       "กุฉินนารายณ์             1\n",
       "ควนขัน                   1\n",
       "Name: district_of_onset, Length: 6228, dtype: int64>"
      ]
     },
     "execution_count": 47,
     "metadata": {},
     "output_type": "execute_result"
    }
   ],
   "source": [
    "df[\"district_of_onset\"].value_counts(dropna=True).head"
   ]
  },
  {
   "cell_type": "code",
   "execution_count": 48,
   "id": "90d4385e",
   "metadata": {},
   "outputs": [
    {
     "data": {
      "text/html": [
       "<div>\n",
       "<style scoped>\n",
       "    .dataframe tbody tr th:only-of-type {\n",
       "        vertical-align: middle;\n",
       "    }\n",
       "\n",
       "    .dataframe tbody tr th {\n",
       "        vertical-align: top;\n",
       "    }\n",
       "\n",
       "    .dataframe thead th {\n",
       "        text-align: right;\n",
       "    }\n",
       "</style>\n",
       "<table border=\"1\" class=\"dataframe\">\n",
       "  <thead>\n",
       "    <tr style=\"text-align: right;\">\n",
       "      <th></th>\n",
       "      <th>no.</th>\n",
       "      <th>announce_date</th>\n",
       "      <th>notified_date</th>\n",
       "      <th>sex</th>\n",
       "      <th>age</th>\n",
       "      <th>unit</th>\n",
       "      <th>nationality</th>\n",
       "      <th>province_of_isolation</th>\n",
       "      <th>risk</th>\n",
       "      <th>province_of_onset</th>\n",
       "      <th>district_of_onset</th>\n",
       "    </tr>\n",
       "  </thead>\n",
       "  <tbody>\n",
       "    <tr>\n",
       "      <th>0</th>\n",
       "      <td>1</td>\n",
       "      <td>12/1/2020</td>\n",
       "      <td>12/1/2020</td>\n",
       "      <td>Female</td>\n",
       "      <td>61</td>\n",
       "      <td>ปี</td>\n",
       "      <td>china</td>\n",
       "      <td>กรุงเทพ</td>\n",
       "      <td>คนต่างชาติเดินทางมาจากต่างประเทศ</td>\n",
       "      <td>กรุงเทพมหานคร</td>\n",
       "      <td>NaN</td>\n",
       "    </tr>\n",
       "    <tr>\n",
       "      <th>1</th>\n",
       "      <td>2</td>\n",
       "      <td>17/1/2020</td>\n",
       "      <td>17/1/2020</td>\n",
       "      <td>Female</td>\n",
       "      <td>74</td>\n",
       "      <td>ปี</td>\n",
       "      <td>china</td>\n",
       "      <td>กรุงเทพ</td>\n",
       "      <td>คนต่างชาติเดินทางมาจากต่างประเทศ</td>\n",
       "      <td>กรุงเทพมหานคร</td>\n",
       "      <td>NaN</td>\n",
       "    </tr>\n",
       "    <tr>\n",
       "      <th>3</th>\n",
       "      <td>4</td>\n",
       "      <td>22/1/2020</td>\n",
       "      <td>22/1/2020</td>\n",
       "      <td>Male</td>\n",
       "      <td>68</td>\n",
       "      <td>ปี</td>\n",
       "      <td>china</td>\n",
       "      <td>กรุงเทพ</td>\n",
       "      <td>คนต่างชาติเดินทางมาจากต่างประเทศ</td>\n",
       "      <td>กรุงเทพมหานคร</td>\n",
       "      <td>NaN</td>\n",
       "    </tr>\n",
       "    <tr>\n",
       "      <th>4</th>\n",
       "      <td>5</td>\n",
       "      <td>24/1/2020</td>\n",
       "      <td>24/1/2020</td>\n",
       "      <td>Female</td>\n",
       "      <td>66</td>\n",
       "      <td>ปี</td>\n",
       "      <td>china</td>\n",
       "      <td>นนทบุรี</td>\n",
       "      <td>คนต่างชาติเดินทางมาจากต่างประเทศ</td>\n",
       "      <td>กรุงเทพมหานคร</td>\n",
       "      <td>NaN</td>\n",
       "    </tr>\n",
       "    <tr>\n",
       "      <th>5</th>\n",
       "      <td>6</td>\n",
       "      <td>25/1/2020</td>\n",
       "      <td>25/1/2020</td>\n",
       "      <td>Female</td>\n",
       "      <td>33</td>\n",
       "      <td>ปี</td>\n",
       "      <td>china</td>\n",
       "      <td>กรุงเทพ</td>\n",
       "      <td>คนต่างชาติเดินทางมาจากต่างประเทศ</td>\n",
       "      <td>กรุงเทพมหานคร</td>\n",
       "      <td>NaN</td>\n",
       "    </tr>\n",
       "    <tr>\n",
       "      <th>...</th>\n",
       "      <td>...</td>\n",
       "      <td>...</td>\n",
       "      <td>...</td>\n",
       "      <td>...</td>\n",
       "      <td>...</td>\n",
       "      <td>...</td>\n",
       "      <td>...</td>\n",
       "      <td>...</td>\n",
       "      <td>...</td>\n",
       "      <td>...</td>\n",
       "      <td>...</td>\n",
       "    </tr>\n",
       "    <tr>\n",
       "      <th>3303164</th>\n",
       "      <td>3303165</td>\n",
       "      <td>18/3/2022</td>\n",
       "      <td>17/3/2022</td>\n",
       "      <td>Female</td>\n",
       "      <td>0</td>\n",
       "      <td>ปี</td>\n",
       "      <td>other</td>\n",
       "      <td>กรุงเทพ</td>\n",
       "      <td>ทัณฑสถาน/เรือนจำ</td>\n",
       "      <td>na</td>\n",
       "      <td>NaN</td>\n",
       "    </tr>\n",
       "    <tr>\n",
       "      <th>3303165</th>\n",
       "      <td>3303166</td>\n",
       "      <td>18/3/2022</td>\n",
       "      <td>17/3/2022</td>\n",
       "      <td>Female</td>\n",
       "      <td>0</td>\n",
       "      <td>ปี</td>\n",
       "      <td>other</td>\n",
       "      <td>กรุงเทพ</td>\n",
       "      <td>ทัณฑสถาน/เรือนจำ</td>\n",
       "      <td>na</td>\n",
       "      <td>NaN</td>\n",
       "    </tr>\n",
       "    <tr>\n",
       "      <th>3303166</th>\n",
       "      <td>3303167</td>\n",
       "      <td>18/3/2022</td>\n",
       "      <td>17/3/2022</td>\n",
       "      <td>Female</td>\n",
       "      <td>0</td>\n",
       "      <td>ปี</td>\n",
       "      <td>other</td>\n",
       "      <td>กรุงเทพ</td>\n",
       "      <td>ทัณฑสถาน/เรือนจำ</td>\n",
       "      <td>na</td>\n",
       "      <td>NaN</td>\n",
       "    </tr>\n",
       "    <tr>\n",
       "      <th>3303167</th>\n",
       "      <td>3303168</td>\n",
       "      <td>18/3/2022</td>\n",
       "      <td>17/3/2022</td>\n",
       "      <td>Female</td>\n",
       "      <td>0</td>\n",
       "      <td>ปี</td>\n",
       "      <td>other</td>\n",
       "      <td>สงขลา</td>\n",
       "      <td>ทัณฑสถาน/เรือนจำ</td>\n",
       "      <td>na</td>\n",
       "      <td>NaN</td>\n",
       "    </tr>\n",
       "    <tr>\n",
       "      <th>3303168</th>\n",
       "      <td>3303169</td>\n",
       "      <td>18/3/2022</td>\n",
       "      <td>17/3/2022</td>\n",
       "      <td>Female</td>\n",
       "      <td>0</td>\n",
       "      <td>ปี</td>\n",
       "      <td>other</td>\n",
       "      <td>สงขลา</td>\n",
       "      <td>ทัณฑสถาน/เรือนจำ</td>\n",
       "      <td>na</td>\n",
       "      <td>NaN</td>\n",
       "    </tr>\n",
       "  </tbody>\n",
       "</table>\n",
       "<p>499371 rows × 11 columns</p>\n",
       "</div>"
      ],
      "text/plain": [
       "             no. announce_date notified_date     sex age unit nationality  \\\n",
       "0              1     12/1/2020     12/1/2020  Female  61   ปี       china   \n",
       "1              2     17/1/2020     17/1/2020  Female  74   ปี       china   \n",
       "3              4     22/1/2020     22/1/2020    Male  68   ปี       china   \n",
       "4              5     24/1/2020     24/1/2020  Female  66   ปี       china   \n",
       "5              6     25/1/2020     25/1/2020  Female  33   ปี       china   \n",
       "...          ...           ...           ...     ...  ..  ...         ...   \n",
       "3303164  3303165     18/3/2022     17/3/2022  Female   0   ปี       other   \n",
       "3303165  3303166     18/3/2022     17/3/2022  Female   0   ปี       other   \n",
       "3303166  3303167     18/3/2022     17/3/2022  Female   0   ปี       other   \n",
       "3303167  3303168     18/3/2022     17/3/2022  Female   0   ปี       other   \n",
       "3303168  3303169     18/3/2022     17/3/2022  Female   0   ปี       other   \n",
       "\n",
       "        province_of_isolation                              risk  \\\n",
       "0                     กรุงเทพ  คนต่างชาติเดินทางมาจากต่างประเทศ   \n",
       "1                     กรุงเทพ  คนต่างชาติเดินทางมาจากต่างประเทศ   \n",
       "3                     กรุงเทพ  คนต่างชาติเดินทางมาจากต่างประเทศ   \n",
       "4                     นนทบุรี  คนต่างชาติเดินทางมาจากต่างประเทศ   \n",
       "5                     กรุงเทพ  คนต่างชาติเดินทางมาจากต่างประเทศ   \n",
       "...                       ...                               ...   \n",
       "3303164               กรุงเทพ                  ทัณฑสถาน/เรือนจำ   \n",
       "3303165               กรุงเทพ                  ทัณฑสถาน/เรือนจำ   \n",
       "3303166               กรุงเทพ                  ทัณฑสถาน/เรือนจำ   \n",
       "3303167                 สงขลา                  ทัณฑสถาน/เรือนจำ   \n",
       "3303168                 สงขลา                  ทัณฑสถาน/เรือนจำ   \n",
       "\n",
       "        province_of_onset district_of_onset  \n",
       "0           กรุงเทพมหานคร               NaN  \n",
       "1           กรุงเทพมหานคร               NaN  \n",
       "3           กรุงเทพมหานคร               NaN  \n",
       "4           กรุงเทพมหานคร               NaN  \n",
       "5           กรุงเทพมหานคร               NaN  \n",
       "...                   ...               ...  \n",
       "3303164                na               NaN  \n",
       "3303165                na               NaN  \n",
       "3303166                na               NaN  \n",
       "3303167                na               NaN  \n",
       "3303168                na               NaN  \n",
       "\n",
       "[499371 rows x 11 columns]"
      ]
     },
     "execution_count": 48,
     "metadata": {},
     "output_type": "execute_result"
    }
   ],
   "source": [
    "df.loc[df[\"district_of_onset\"].isnull()]"
   ]
  },
  {
   "cell_type": "code",
   "execution_count": 49,
   "id": "4ab658ce",
   "metadata": {},
   "outputs": [
    {
     "data": {
      "text/plain": [
       "False    2803798\n",
       "True      499371\n",
       "Name: district_of_onset, dtype: int64"
      ]
     },
     "execution_count": 49,
     "metadata": {},
     "output_type": "execute_result"
    }
   ],
   "source": [
    "df[\"district_of_onset\"].isnull().value_counts() #พบค่า null ประมาณ 15%"
   ]
  },
  {
   "cell_type": "markdown",
   "id": "8a0e7ae2",
   "metadata": {},
   "source": [
    "# Change datatype"
   ]
  },
  {
   "cell_type": "code",
   "execution_count": 50,
   "id": "a6494d89",
   "metadata": {},
   "outputs": [
    {
     "data": {
      "text/plain": [
       "no.                      object\n",
       "announce_date            object\n",
       "notified_date            object\n",
       "sex                      object\n",
       "age                      object\n",
       "unit                     object\n",
       "nationality              object\n",
       "province_of_isolation    object\n",
       "risk                     object\n",
       "province_of_onset        object\n",
       "district_of_onset        object\n",
       "dtype: object"
      ]
     },
     "execution_count": 50,
     "metadata": {},
     "output_type": "execute_result"
    }
   ],
   "source": [
    "df.dtypes"
   ]
  },
  {
   "cell_type": "markdown",
   "id": "3e3d3518",
   "metadata": {},
   "source": [
    "###  > announce_date  && notified_date"
   ]
  },
  {
   "cell_type": "code",
   "execution_count": 51,
   "id": "ea90642a",
   "metadata": {},
   "outputs": [],
   "source": [
    "df[\"announce_date\"] = pd.to_datetime(df[\"announce_date\"], format=\"%d/%m/%Y\")\n",
    "df[\"notified_date\"] = pd.to_datetime(df[\"notified_date\"], format=\"%d/%m/%Y\")"
   ]
  },
  {
   "cell_type": "markdown",
   "id": "4c75df19",
   "metadata": {},
   "source": [
    "###  > sex"
   ]
  },
  {
   "cell_type": "code",
   "execution_count": 52,
   "id": "856bff5b",
   "metadata": {},
   "outputs": [],
   "source": [
    "df[\"sex\"] = df[\"sex\"].astype(\"category\") #แปลงเป็น \"category\" เพื่อลดระยะเลาประมวลผล"
   ]
  },
  {
   "cell_type": "markdown",
   "id": "b5567aaf",
   "metadata": {},
   "source": [
    "###  > age\n",
    "- พบปัญหา รายการ ['55/664', '35/11'] ทำให้ไม่สามารถ convert เป็น float ได้"
   ]
  },
  {
   "cell_type": "code",
   "execution_count": 53,
   "id": "5aa3c8e7",
   "metadata": {},
   "outputs": [
    {
     "name": "stdout",
     "output_type": "stream",
     "text": [
      "['55/664', '35/11']\n"
     ]
    }
   ],
   "source": [
    "lst_age = list(df[\"age\"])\n",
    "error_lst=[]\n",
    "\n",
    "for i in lst_age:\n",
    "    try:\n",
    "        float(i)\n",
    "    except:\n",
    "        error_lst.append(i)\n",
    "        \n",
    "else:\n",
    "    print(error_lst)"
   ]
  },
  {
   "cell_type": "code",
   "execution_count": 54,
   "id": "d9176fd7",
   "metadata": {},
   "outputs": [],
   "source": [
    "error_1 = df[\"age\"] == \"55/664\"\n",
    "error_2 = df[\"age\"] == \"35/11\""
   ]
  },
  {
   "cell_type": "code",
   "execution_count": 55,
   "id": "7337b597",
   "metadata": {},
   "outputs": [
    {
     "data": {
      "text/html": [
       "<div>\n",
       "<style scoped>\n",
       "    .dataframe tbody tr th:only-of-type {\n",
       "        vertical-align: middle;\n",
       "    }\n",
       "\n",
       "    .dataframe tbody tr th {\n",
       "        vertical-align: top;\n",
       "    }\n",
       "\n",
       "    .dataframe thead th {\n",
       "        text-align: right;\n",
       "    }\n",
       "</style>\n",
       "<table border=\"1\" class=\"dataframe\">\n",
       "  <thead>\n",
       "    <tr style=\"text-align: right;\">\n",
       "      <th></th>\n",
       "      <th>no.</th>\n",
       "      <th>announce_date</th>\n",
       "      <th>notified_date</th>\n",
       "      <th>sex</th>\n",
       "      <th>age</th>\n",
       "      <th>unit</th>\n",
       "      <th>nationality</th>\n",
       "      <th>province_of_isolation</th>\n",
       "      <th>risk</th>\n",
       "      <th>province_of_onset</th>\n",
       "      <th>district_of_onset</th>\n",
       "    </tr>\n",
       "  </thead>\n",
       "  <tbody>\n",
       "    <tr>\n",
       "      <th>100164</th>\n",
       "      <td>100165</td>\n",
       "      <td>2021-05-16</td>\n",
       "      <td>2021-05-15</td>\n",
       "      <td>Female</td>\n",
       "      <td>55/664</td>\n",
       "      <td>ปี</td>\n",
       "      <td>thailand</td>\n",
       "      <td>ภูเก็ต</td>\n",
       "      <td>สัมผัสใกล้ชิดกับผู้ป่วยยืนยันรายก่อนหน้านี้</td>\n",
       "      <td>ภูเก็ต</td>\n",
       "      <td>เมือง</td>\n",
       "    </tr>\n",
       "  </tbody>\n",
       "</table>\n",
       "</div>"
      ],
      "text/plain": [
       "           no. announce_date notified_date     sex     age unit nationality  \\\n",
       "100164  100165    2021-05-16    2021-05-15  Female  55/664   ปี    thailand   \n",
       "\n",
       "       province_of_isolation                                         risk  \\\n",
       "100164                ภูเก็ต  สัมผัสใกล้ชิดกับผู้ป่วยยืนยันรายก่อนหน้านี้   \n",
       "\n",
       "       province_of_onset district_of_onset  \n",
       "100164            ภูเก็ต             เมือง  "
      ]
     },
     "execution_count": 55,
     "metadata": {},
     "output_type": "execute_result"
    }
   ],
   "source": [
    "df.loc[error_1]"
   ]
  },
  {
   "cell_type": "code",
   "execution_count": 56,
   "id": "1a5b000a",
   "metadata": {},
   "outputs": [
    {
     "data": {
      "text/html": [
       "<div>\n",
       "<style scoped>\n",
       "    .dataframe tbody tr th:only-of-type {\n",
       "        vertical-align: middle;\n",
       "    }\n",
       "\n",
       "    .dataframe tbody tr th {\n",
       "        vertical-align: top;\n",
       "    }\n",
       "\n",
       "    .dataframe thead th {\n",
       "        text-align: right;\n",
       "    }\n",
       "</style>\n",
       "<table border=\"1\" class=\"dataframe\">\n",
       "  <thead>\n",
       "    <tr style=\"text-align: right;\">\n",
       "      <th></th>\n",
       "      <th>no.</th>\n",
       "      <th>announce_date</th>\n",
       "      <th>notified_date</th>\n",
       "      <th>sex</th>\n",
       "      <th>age</th>\n",
       "      <th>unit</th>\n",
       "      <th>nationality</th>\n",
       "      <th>province_of_isolation</th>\n",
       "      <th>risk</th>\n",
       "      <th>province_of_onset</th>\n",
       "      <th>district_of_onset</th>\n",
       "    </tr>\n",
       "  </thead>\n",
       "  <tbody>\n",
       "    <tr>\n",
       "      <th>2597653</th>\n",
       "      <td>2597654</td>\n",
       "      <td>2022-02-14</td>\n",
       "      <td>2022-02-13</td>\n",
       "      <td>Female</td>\n",
       "      <td>35/11</td>\n",
       "      <td>ปี</td>\n",
       "      <td>thailand</td>\n",
       "      <td>ประจวบคีรีขันธ์</td>\n",
       "      <td>อยู่ระหว่างการสอบสวน</td>\n",
       "      <td>ประจวบคีรีขันธ์</td>\n",
       "      <td>บางสะพาน</td>\n",
       "    </tr>\n",
       "  </tbody>\n",
       "</table>\n",
       "</div>"
      ],
      "text/plain": [
       "             no. announce_date notified_date     sex    age unit nationality  \\\n",
       "2597653  2597654    2022-02-14    2022-02-13  Female  35/11   ปี    thailand   \n",
       "\n",
       "        province_of_isolation                  risk province_of_onset  \\\n",
       "2597653       ประจวบคีรีขันธ์  อยู่ระหว่างการสอบสวน   ประจวบคีรีขันธ์   \n",
       "\n",
       "        district_of_onset  \n",
       "2597653          บางสะพาน  "
      ]
     },
     "execution_count": 56,
     "metadata": {},
     "output_type": "execute_result"
    }
   ],
   "source": [
    "df.loc[error_2]"
   ]
  },
  {
   "cell_type": "code",
   "execution_count": 57,
   "id": "fdadc144",
   "metadata": {},
   "outputs": [],
   "source": [
    "df.loc[error_1,\"age\"] = 55\n",
    "df.loc[error_2,\"age\"] = 35"
   ]
  },
  {
   "cell_type": "code",
   "execution_count": 58,
   "id": "49065796",
   "metadata": {},
   "outputs": [],
   "source": [
    "df[\"age\"] = df[\"age\"].astype(\"float\")"
   ]
  },
  {
   "cell_type": "code",
   "execution_count": 59,
   "id": "559a78bc",
   "metadata": {},
   "outputs": [
    {
     "name": "stdout",
     "output_type": "stream",
     "text": [
      "<class 'pandas.core.frame.DataFrame'>\n",
      "RangeIndex: 3303169 entries, 0 to 3303168\n",
      "Data columns (total 11 columns):\n",
      " #   Column                 Dtype         \n",
      "---  ------                 -----         \n",
      " 0   no.                    object        \n",
      " 1   announce_date          datetime64[ns]\n",
      " 2   notified_date          datetime64[ns]\n",
      " 3   sex                    category      \n",
      " 4   age                    float64       \n",
      " 5   unit                   object        \n",
      " 6   nationality            object        \n",
      " 7   province_of_isolation  object        \n",
      " 8   risk                   object        \n",
      " 9   province_of_onset      object        \n",
      " 10  district_of_onset      object        \n",
      "dtypes: category(1), datetime64[ns](2), float64(1), object(7)\n",
      "memory usage: 255.2+ MB\n"
     ]
    }
   ],
   "source": [
    "df.info()"
   ]
  },
  {
   "cell_type": "code",
   "execution_count": 60,
   "id": "5c890e45",
   "metadata": {},
   "outputs": [],
   "source": [
    "import pickle\n",
    "df.to_pickle(\"dataset_prep.pkl\")"
   ]
  },
  {
   "cell_type": "code",
   "execution_count": 61,
   "id": "3c3ba04e",
   "metadata": {},
   "outputs": [],
   "source": [
    "#df.info(show_counts=True)\n",
    "#สรุปเหลือ แค่ column \"risk\", \"district_of_onset\" ที่ยังมีค่า null"
   ]
  }
 ],
 "metadata": {
  "kernelspec": {
   "display_name": "Python 3 (ipykernel)",
   "language": "python",
   "name": "python3"
  },
  "language_info": {
   "codemirror_mode": {
    "name": "ipython",
    "version": 3
   },
   "file_extension": ".py",
   "mimetype": "text/x-python",
   "name": "python",
   "nbconvert_exporter": "python",
   "pygments_lexer": "ipython3",
   "version": "3.8.12"
  }
 },
 "nbformat": 4,
 "nbformat_minor": 5
}
